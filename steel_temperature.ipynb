{
 "cells": [
  {
   "cell_type": "markdown",
   "metadata": {},
   "source": [
    "<b>Промышленность"
   ]
  },
  {
   "cell_type": "markdown",
   "metadata": {},
   "source": [
    "<b>Задача: Чтобы оптимизировать производственные расходы, металлургический комбинат ООО «Так закаляем сталь» решил уменьшить потребление электроэнергии на этапе обработки стали. Предстоит построить модель, которая предскажет температуру стали."
   ]
  },
  {
   "cell_type": "markdown",
   "metadata": {},
   "source": [
    "<b>Описание этапа обработки</b>\n",
    "\n",
    "Сталь обрабатывают в металлическом ковше вместимостью около 100 тонн. Чтобы ковш выдерживал высокие температуры, изнутри его облицовывают огнеупорным кирпичом. Расплавленную сталь заливают в ковш и подогревают до нужной температуры графитовыми электродами. Они установлены в крышке ковша. \n",
    "\n",
    "Из сплава выводится сера (десульфурация), добавлением примесей корректируется химический состав и отбираются пробы. Сталь легируют — изменяют её состав — подавая куски сплава из бункера для сыпучих материалов или проволоку через специальный трайб-аппарат (англ. tribe, «масса»).\n",
    "\n",
    "Перед тем как первый раз ввести легирующие добавки, измеряют температуру стали и производят её химический анализ. Потом температуру на несколько минут повышают, добавляют легирующие материалы и продувают сплав инертным газом. Затем его перемешивают и снова проводят измерения. Такой цикл повторяется до достижения целевого химического состава и оптимальной температуры плавки.\n",
    "\n",
    "Тогда расплавленная сталь отправляется на доводку металла или поступает в машину непрерывной разливки. Оттуда готовый продукт выходит в виде заготовок-слябов (англ. *slab*, «плита»)."
   ]
  },
  {
   "cell_type": "markdown",
   "metadata": {},
   "source": [
    "<b>Описание данных</b>\n",
    "\n",
    "Данные состоят из файлов, полученных из разных источников:\n",
    "\n",
    "data_arc_new.csv — данные об электродах;\n",
    "\n",
    "data_bulk_new.csv — данные о подаче сыпучих материалов (объём);\n",
    "\n",
    "data_bulk_time_new.csv — данные о подаче сыпучих материалов (время);\n",
    "\n",
    "data_gas_new.csv — данные о продувке сплава газом;\n",
    "\n",
    "data_temp_new.csv — результаты измерения температуры;\n",
    "\n",
    "data_wire_new.csv — данные о проволочных материалах (объём);\n",
    "\n",
    "data_wire_time_new.csv — данные о проволочных материалах (время).\n",
    "\n",
    "Во всех файлах столбец key содержит номер партии. В файлах может быть несколько строк с одинаковым значением key: они соответствуют разным итерациям обработки."
   ]
  },
  {
   "cell_type": "markdown",
   "metadata": {},
   "source": [
    "<b>План работы</b>\n",
    "\n",
    "<p>1) Описание проекта и задачи\n",
    "<p>2) Выгрузка данных\n",
    "<p>3) Анализ данных\n",
    "<p>4) Предобработка данных\n",
    "<p>5) Работа с проспусками\n",
    "<p>6) Формирование итоговых датафреймов\n",
    "<p>7) Формирование целевого и остальных признаков\n",
    "<p>8) Сформировать обучающую и тестовую выборки\n",
    "<p>9) Выбрать несколько моделей и проверить их эффективность\n",
    "<p>10) Эффективность лучшей модели проверить на тестовой выборке\n",
    "<p>11) Вывод\n",
    "<p>12) Отчет о проделанной работе"
   ]
  },
  {
   "cell_type": "markdown",
   "metadata": {},
   "source": [
    "### Загрузка данных"
   ]
  },
  {
   "cell_type": "code",
   "execution_count": 1,
   "metadata": {},
   "outputs": [],
   "source": [
    "import pandas as pd \n",
    "import numpy as np \n",
    "import matplotlib.pyplot as plt \n",
    "import seaborn as sns \n",
    "\n",
    "from sklearn.model_selection import train_test_split\n",
    "from sklearn.metrics import mean_absolute_error\n",
    "from sklearn.model_selection import GridSearchCV\n",
    "\n",
    "from sklearn.ensemble import RandomForestRegressor\n",
    "from catboost import CatBoostRegressor\n",
    "from lightgbm import LGBMRegressor\n",
    "\n",
    "import warnings\n",
    "warnings.filterwarnings('ignore') \n",
    "\n",
    "RND = 240423"
   ]
  },
  {
   "cell_type": "code",
   "execution_count": 2,
   "metadata": {},
   "outputs": [],
   "source": [
    "df_arc = pd.read_csv('/datasets/data_arc_new.csv')\n",
    "df_bulk = pd.read_csv('/datasets/data_bulk_new.csv')\n",
    "df_bulk_time = pd.read_csv('/datasets/data_bulk_time_new.csv')\n",
    "df_gas = pd.read_csv('/datasets/data_gas_new.csv')\n",
    "df_temp = pd.read_csv('/datasets/data_temp_new.csv')\n",
    "df_wire = pd.read_csv('/datasets/data_wire_new.csv')\n",
    "df_wire_time = pd.read_csv('/datasets/data_wire_time_new.csv')"
   ]
  },
  {
   "cell_type": "markdown",
   "metadata": {},
   "source": [
    "#### Данные об электродах"
   ]
  },
  {
   "cell_type": "code",
   "execution_count": 3,
   "metadata": {},
   "outputs": [
    {
     "name": "stdout",
     "output_type": "stream",
     "text": [
      "<class 'pandas.core.frame.DataFrame'>\n",
      "RangeIndex: 14876 entries, 0 to 14875\n",
      "Data columns (total 5 columns):\n",
      " #   Column                Non-Null Count  Dtype  \n",
      "---  ------                --------------  -----  \n",
      " 0   key                   14876 non-null  int64  \n",
      " 1   Начало нагрева дугой  14876 non-null  object \n",
      " 2   Конец нагрева дугой   14876 non-null  object \n",
      " 3   Активная мощность     14876 non-null  float64\n",
      " 4   Реактивная мощность   14876 non-null  float64\n",
      "dtypes: float64(2), int64(1), object(2)\n",
      "memory usage: 581.2+ KB\n"
     ]
    }
   ],
   "source": [
    "df_arc.info()"
   ]
  },
  {
   "cell_type": "markdown",
   "metadata": {},
   "source": [
    "Для вычисления общего времени нагрева поменяем на тип datetime"
   ]
  },
  {
   "cell_type": "code",
   "execution_count": 4,
   "metadata": {},
   "outputs": [],
   "source": [
    "df_arc['Начало нагрева дугой'] = pd.to_datetime(df_arc['Начало нагрева дугой'], format='%Y-%m-%dT%H:%M:%S')\n",
    "df_arc['Конец нагрева дугой'] = pd.to_datetime(df_arc['Конец нагрева дугой'], format='%Y-%m-%dT%H:%M:%S')"
   ]
  },
  {
   "cell_type": "code",
   "execution_count": 5,
   "metadata": {},
   "outputs": [
    {
     "data": {
      "text/html": [
       "<div>\n",
       "<style scoped>\n",
       "    .dataframe tbody tr th:only-of-type {\n",
       "        vertical-align: middle;\n",
       "    }\n",
       "\n",
       "    .dataframe tbody tr th {\n",
       "        vertical-align: top;\n",
       "    }\n",
       "\n",
       "    .dataframe thead th {\n",
       "        text-align: right;\n",
       "    }\n",
       "</style>\n",
       "<table border=\"1\" class=\"dataframe\">\n",
       "  <thead>\n",
       "    <tr style=\"text-align: right;\">\n",
       "      <th></th>\n",
       "      <th>key</th>\n",
       "      <th>Начало нагрева дугой</th>\n",
       "      <th>Конец нагрева дугой</th>\n",
       "      <th>Активная мощность</th>\n",
       "      <th>Реактивная мощность</th>\n",
       "    </tr>\n",
       "  </thead>\n",
       "  <tbody>\n",
       "    <tr>\n",
       "      <th>0</th>\n",
       "      <td>1</td>\n",
       "      <td>2019-05-03 11:02:14</td>\n",
       "      <td>2019-05-03 11:06:02</td>\n",
       "      <td>0.305130</td>\n",
       "      <td>0.211253</td>\n",
       "    </tr>\n",
       "    <tr>\n",
       "      <th>1</th>\n",
       "      <td>1</td>\n",
       "      <td>2019-05-03 11:07:28</td>\n",
       "      <td>2019-05-03 11:10:33</td>\n",
       "      <td>0.765658</td>\n",
       "      <td>0.477438</td>\n",
       "    </tr>\n",
       "    <tr>\n",
       "      <th>2</th>\n",
       "      <td>1</td>\n",
       "      <td>2019-05-03 11:11:44</td>\n",
       "      <td>2019-05-03 11:14:36</td>\n",
       "      <td>0.580313</td>\n",
       "      <td>0.430460</td>\n",
       "    </tr>\n",
       "    <tr>\n",
       "      <th>3</th>\n",
       "      <td>1</td>\n",
       "      <td>2019-05-03 11:18:14</td>\n",
       "      <td>2019-05-03 11:24:19</td>\n",
       "      <td>0.518496</td>\n",
       "      <td>0.379979</td>\n",
       "    </tr>\n",
       "    <tr>\n",
       "      <th>4</th>\n",
       "      <td>1</td>\n",
       "      <td>2019-05-03 11:26:09</td>\n",
       "      <td>2019-05-03 11:28:37</td>\n",
       "      <td>0.867133</td>\n",
       "      <td>0.643691</td>\n",
       "    </tr>\n",
       "  </tbody>\n",
       "</table>\n",
       "</div>"
      ],
      "text/plain": [
       "   key Начало нагрева дугой Конец нагрева дугой  Активная мощность  \\\n",
       "0    1  2019-05-03 11:02:14 2019-05-03 11:06:02           0.305130   \n",
       "1    1  2019-05-03 11:07:28 2019-05-03 11:10:33           0.765658   \n",
       "2    1  2019-05-03 11:11:44 2019-05-03 11:14:36           0.580313   \n",
       "3    1  2019-05-03 11:18:14 2019-05-03 11:24:19           0.518496   \n",
       "4    1  2019-05-03 11:26:09 2019-05-03 11:28:37           0.867133   \n",
       "\n",
       "   Реактивная мощность  \n",
       "0             0.211253  \n",
       "1             0.477438  \n",
       "2             0.430460  \n",
       "3             0.379979  \n",
       "4             0.643691  "
      ]
     },
     "execution_count": 5,
     "metadata": {},
     "output_type": "execute_result"
    }
   ],
   "source": [
    "df_arc.head()"
   ]
  },
  {
   "cell_type": "markdown",
   "metadata": {},
   "source": [
    "Посмотрим какое количество итераций встречается"
   ]
  },
  {
   "cell_type": "code",
   "execution_count": 6,
   "metadata": {},
   "outputs": [
    {
     "data": {
      "text/plain": [
       "array([16, 15, 14, 13, 12, 11, 10,  9,  8,  7,  6,  5,  4,  3,  2,  1])"
      ]
     },
     "execution_count": 6,
     "metadata": {},
     "output_type": "execute_result"
    }
   ],
   "source": [
    "df_arc['key'].value_counts().unique()"
   ]
  },
  {
   "cell_type": "code",
   "execution_count": 7,
   "metadata": {},
   "outputs": [
    {
     "data": {
      "text/html": [
       "<div>\n",
       "<style scoped>\n",
       "    .dataframe tbody tr th:only-of-type {\n",
       "        vertical-align: middle;\n",
       "    }\n",
       "\n",
       "    .dataframe tbody tr th {\n",
       "        vertical-align: top;\n",
       "    }\n",
       "\n",
       "    .dataframe thead th {\n",
       "        text-align: right;\n",
       "    }\n",
       "</style>\n",
       "<table border=\"1\" class=\"dataframe\">\n",
       "  <thead>\n",
       "    <tr style=\"text-align: right;\">\n",
       "      <th></th>\n",
       "      <th>key</th>\n",
       "      <th>Активная мощность</th>\n",
       "      <th>Реактивная мощность</th>\n",
       "    </tr>\n",
       "  </thead>\n",
       "  <tbody>\n",
       "    <tr>\n",
       "      <th>count</th>\n",
       "      <td>14876.000000</td>\n",
       "      <td>14876.000000</td>\n",
       "      <td>14876.000000</td>\n",
       "    </tr>\n",
       "    <tr>\n",
       "      <th>mean</th>\n",
       "      <td>1615.220422</td>\n",
       "      <td>0.662752</td>\n",
       "      <td>0.438986</td>\n",
       "    </tr>\n",
       "    <tr>\n",
       "      <th>std</th>\n",
       "      <td>934.571502</td>\n",
       "      <td>0.258885</td>\n",
       "      <td>5.873485</td>\n",
       "    </tr>\n",
       "    <tr>\n",
       "      <th>min</th>\n",
       "      <td>1.000000</td>\n",
       "      <td>0.223120</td>\n",
       "      <td>-715.479924</td>\n",
       "    </tr>\n",
       "    <tr>\n",
       "      <th>25%</th>\n",
       "      <td>806.000000</td>\n",
       "      <td>0.467115</td>\n",
       "      <td>0.337175</td>\n",
       "    </tr>\n",
       "    <tr>\n",
       "      <th>50%</th>\n",
       "      <td>1617.000000</td>\n",
       "      <td>0.599587</td>\n",
       "      <td>0.441639</td>\n",
       "    </tr>\n",
       "    <tr>\n",
       "      <th>75%</th>\n",
       "      <td>2429.000000</td>\n",
       "      <td>0.830070</td>\n",
       "      <td>0.608201</td>\n",
       "    </tr>\n",
       "    <tr>\n",
       "      <th>max</th>\n",
       "      <td>3241.000000</td>\n",
       "      <td>1.463773</td>\n",
       "      <td>1.270284</td>\n",
       "    </tr>\n",
       "  </tbody>\n",
       "</table>\n",
       "</div>"
      ],
      "text/plain": [
       "                key  Активная мощность  Реактивная мощность\n",
       "count  14876.000000       14876.000000         14876.000000\n",
       "mean    1615.220422           0.662752             0.438986\n",
       "std      934.571502           0.258885             5.873485\n",
       "min        1.000000           0.223120          -715.479924\n",
       "25%      806.000000           0.467115             0.337175\n",
       "50%     1617.000000           0.599587             0.441639\n",
       "75%     2429.000000           0.830070             0.608201\n",
       "max     3241.000000           1.463773             1.270284"
      ]
     },
     "execution_count": 7,
     "metadata": {},
     "output_type": "execute_result"
    }
   ],
   "source": [
    "df_arc.describe()"
   ]
  },
  {
   "cell_type": "markdown",
   "metadata": {},
   "source": [
    "Поменяем имена столбцов"
   ]
  },
  {
   "cell_type": "code",
   "execution_count": 8,
   "metadata": {},
   "outputs": [],
   "source": [
    "df_arc.columns = ['key', 'start_time','end_time', 'active_power', 'reactive_power']"
   ]
  },
  {
   "cell_type": "code",
   "execution_count": 9,
   "metadata": {},
   "outputs": [
    {
     "data": {
      "text/plain": [
       "<AxesSubplot:>"
      ]
     },
     "execution_count": 9,
     "metadata": {},
     "output_type": "execute_result"
    },
    {
     "data": {
      "image/png": "[encoded data removed]",
      "text/plain": [
       "<Figure size 1008x648 with 1 Axes>"
      ]
     },
     "metadata": {
      "needs_background": "light"
     },
     "output_type": "display_data"
    }
   ],
   "source": [
    "df_arc['active_power'].hist(bins=100, figsize=(14,9))"
   ]
  },
  {
   "cell_type": "code",
   "execution_count": 10,
   "metadata": {},
   "outputs": [
    {
     "data": {
      "text/plain": [
       "<AxesSubplot:>"
      ]
     },
     "execution_count": 10,
     "metadata": {},
     "output_type": "execute_result"
    },
    {
     "data": {
      "image/png": "[encoded data removed]",
      "text/plain": [
       "<Figure size 1008x648 with 1 Axes>"
      ]
     },
     "metadata": {
      "needs_background": "light"
     },
     "output_type": "display_data"
    }
   ],
   "source": [
    "df_arc['reactive_power'].hist(bins=20, figsize=(14,9), range=(-1,5))"
   ]
  },
  {
   "cell_type": "code",
   "execution_count": 11,
   "metadata": {},
   "outputs": [
    {
     "data": {
      "text/html": [
       "<div>\n",
       "<style scoped>\n",
       "    .dataframe tbody tr th:only-of-type {\n",
       "        vertical-align: middle;\n",
       "    }\n",
       "\n",
       "    .dataframe tbody tr th {\n",
       "        vertical-align: top;\n",
       "    }\n",
       "\n",
       "    .dataframe thead th {\n",
       "        text-align: right;\n",
       "    }\n",
       "</style>\n",
       "<table border=\"1\" class=\"dataframe\">\n",
       "  <thead>\n",
       "    <tr style=\"text-align: right;\">\n",
       "      <th></th>\n",
       "      <th>key</th>\n",
       "      <th>start_time</th>\n",
       "      <th>end_time</th>\n",
       "      <th>active_power</th>\n",
       "      <th>reactive_power</th>\n",
       "    </tr>\n",
       "  </thead>\n",
       "  <tbody>\n",
       "    <tr>\n",
       "      <th>9780</th>\n",
       "      <td>2116</td>\n",
       "      <td>2019-07-28 02:22:08</td>\n",
       "      <td>2019-07-28 02:23:57</td>\n",
       "      <td>0.705344</td>\n",
       "      <td>-715.479924</td>\n",
       "    </tr>\n",
       "  </tbody>\n",
       "</table>\n",
       "</div>"
      ],
      "text/plain": [
       "       key          start_time            end_time  active_power  \\\n",
       "9780  2116 2019-07-28 02:22:08 2019-07-28 02:23:57      0.705344   \n",
       "\n",
       "      reactive_power  \n",
       "9780     -715.479924  "
      ]
     },
     "execution_count": 11,
     "metadata": {},
     "output_type": "execute_result"
    }
   ],
   "source": [
    "df_arc[df_arc['reactive_power'] <= 0]"
   ]
  },
  {
   "cell_type": "markdown",
   "metadata": {},
   "source": [
    "Есть выброс в данных по реактивной мощности, удалим отрицательное значение"
   ]
  },
  {
   "cell_type": "code",
   "execution_count": 12,
   "metadata": {},
   "outputs": [],
   "source": [
    "df_arc = df_arc[df_arc['reactive_power'] > 0]"
   ]
  },
  {
   "cell_type": "markdown",
   "metadata": {},
   "source": [
    "Вычислим время нагрева"
   ]
  },
  {
   "cell_type": "code",
   "execution_count": 13,
   "metadata": {},
   "outputs": [],
   "source": [
    "df_arc['all_time'] = (df_arc['end_time'] - df_arc['start_time']).dt.seconds"
   ]
  },
  {
   "cell_type": "markdown",
   "metadata": {},
   "source": [
    "Найдем полную мощность"
   ]
  },
  {
   "cell_type": "code",
   "execution_count": 14,
   "metadata": {},
   "outputs": [],
   "source": [
    "df_arc['full_power'] = np.sqrt(df_arc['active_power']**2 + df_arc['reactive_power']**2)"
   ]
  },
  {
   "cell_type": "markdown",
   "metadata": {},
   "source": [
    "Произведем группировку и вычислим сумму всех итераций"
   ]
  },
  {
   "cell_type": "code",
   "execution_count": 15,
   "metadata": {},
   "outputs": [],
   "source": [
    "df_arc = df_arc.groupby(by = 'key', as_index = False).sum()"
   ]
  },
  {
   "cell_type": "code",
   "execution_count": 16,
   "metadata": {},
   "outputs": [
    {
     "data": {
      "text/html": [
       "<div>\n",
       "<style scoped>\n",
       "    .dataframe tbody tr th:only-of-type {\n",
       "        vertical-align: middle;\n",
       "    }\n",
       "\n",
       "    .dataframe tbody tr th {\n",
       "        vertical-align: top;\n",
       "    }\n",
       "\n",
       "    .dataframe thead th {\n",
       "        text-align: right;\n",
       "    }\n",
       "</style>\n",
       "<table border=\"1\" class=\"dataframe\">\n",
       "  <thead>\n",
       "    <tr style=\"text-align: right;\">\n",
       "      <th></th>\n",
       "      <th>key</th>\n",
       "      <th>active_power</th>\n",
       "      <th>reactive_power</th>\n",
       "      <th>all_time</th>\n",
       "      <th>full_power</th>\n",
       "    </tr>\n",
       "  </thead>\n",
       "  <tbody>\n",
       "    <tr>\n",
       "      <th>0</th>\n",
       "      <td>1</td>\n",
       "      <td>3.036730</td>\n",
       "      <td>2.142821</td>\n",
       "      <td>1098</td>\n",
       "      <td>3.718736</td>\n",
       "    </tr>\n",
       "    <tr>\n",
       "      <th>1</th>\n",
       "      <td>2</td>\n",
       "      <td>2.139408</td>\n",
       "      <td>1.453357</td>\n",
       "      <td>811</td>\n",
       "      <td>2.588349</td>\n",
       "    </tr>\n",
       "    <tr>\n",
       "      <th>2</th>\n",
       "      <td>3</td>\n",
       "      <td>4.063641</td>\n",
       "      <td>2.937457</td>\n",
       "      <td>655</td>\n",
       "      <td>5.019223</td>\n",
       "    </tr>\n",
       "    <tr>\n",
       "      <th>3</th>\n",
       "      <td>4</td>\n",
       "      <td>2.706489</td>\n",
       "      <td>2.056992</td>\n",
       "      <td>741</td>\n",
       "      <td>3.400038</td>\n",
       "    </tr>\n",
       "    <tr>\n",
       "      <th>4</th>\n",
       "      <td>5</td>\n",
       "      <td>2.252950</td>\n",
       "      <td>1.687991</td>\n",
       "      <td>869</td>\n",
       "      <td>2.816980</td>\n",
       "    </tr>\n",
       "  </tbody>\n",
       "</table>\n",
       "</div>"
      ],
      "text/plain": [
       "   key  active_power  reactive_power  all_time  full_power\n",
       "0    1      3.036730        2.142821      1098    3.718736\n",
       "1    2      2.139408        1.453357       811    2.588349\n",
       "2    3      4.063641        2.937457       655    5.019223\n",
       "3    4      2.706489        2.056992       741    3.400038\n",
       "4    5      2.252950        1.687991       869    2.816980"
      ]
     },
     "execution_count": 16,
     "metadata": {},
     "output_type": "execute_result"
    }
   ],
   "source": [
    "df_arc.head()"
   ]
  },
  {
   "cell_type": "markdown",
   "metadata": {},
   "source": [
    "#### Данные о подаче сыпучих материалов (объём)"
   ]
  },
  {
   "cell_type": "code",
   "execution_count": 17,
   "metadata": {},
   "outputs": [
    {
     "name": "stdout",
     "output_type": "stream",
     "text": [
      "<class 'pandas.core.frame.DataFrame'>\n",
      "RangeIndex: 3129 entries, 0 to 3128\n",
      "Data columns (total 16 columns):\n",
      " #   Column   Non-Null Count  Dtype  \n",
      "---  ------   --------------  -----  \n",
      " 0   key      3129 non-null   int64  \n",
      " 1   Bulk 1   252 non-null    float64\n",
      " 2   Bulk 2   22 non-null     float64\n",
      " 3   Bulk 3   1298 non-null   float64\n",
      " 4   Bulk 4   1014 non-null   float64\n",
      " 5   Bulk 5   77 non-null     float64\n",
      " 6   Bulk 6   576 non-null    float64\n",
      " 7   Bulk 7   25 non-null     float64\n",
      " 8   Bulk 8   1 non-null      float64\n",
      " 9   Bulk 9   19 non-null     float64\n",
      " 10  Bulk 10  176 non-null    float64\n",
      " 11  Bulk 11  177 non-null    float64\n",
      " 12  Bulk 12  2450 non-null   float64\n",
      " 13  Bulk 13  18 non-null     float64\n",
      " 14  Bulk 14  2806 non-null   float64\n",
      " 15  Bulk 15  2248 non-null   float64\n",
      "dtypes: float64(15), int64(1)\n",
      "memory usage: 391.2 KB\n"
     ]
    }
   ],
   "source": [
    "df_bulk.info()"
   ]
  },
  {
   "cell_type": "code",
   "execution_count": 18,
   "metadata": {},
   "outputs": [
    {
     "data": {
      "text/html": [
       "<div>\n",
       "<style scoped>\n",
       "    .dataframe tbody tr th:only-of-type {\n",
       "        vertical-align: middle;\n",
       "    }\n",
       "\n",
       "    .dataframe tbody tr th {\n",
       "        vertical-align: top;\n",
       "    }\n",
       "\n",
       "    .dataframe thead th {\n",
       "        text-align: right;\n",
       "    }\n",
       "</style>\n",
       "<table border=\"1\" class=\"dataframe\">\n",
       "  <thead>\n",
       "    <tr style=\"text-align: right;\">\n",
       "      <th></th>\n",
       "      <th>key</th>\n",
       "      <th>Bulk 1</th>\n",
       "      <th>Bulk 2</th>\n",
       "      <th>Bulk 3</th>\n",
       "      <th>Bulk 4</th>\n",
       "      <th>Bulk 5</th>\n",
       "      <th>Bulk 6</th>\n",
       "      <th>Bulk 7</th>\n",
       "      <th>Bulk 8</th>\n",
       "      <th>Bulk 9</th>\n",
       "      <th>Bulk 10</th>\n",
       "      <th>Bulk 11</th>\n",
       "      <th>Bulk 12</th>\n",
       "      <th>Bulk 13</th>\n",
       "      <th>Bulk 14</th>\n",
       "      <th>Bulk 15</th>\n",
       "    </tr>\n",
       "  </thead>\n",
       "  <tbody>\n",
       "    <tr>\n",
       "      <th>0</th>\n",
       "      <td>1</td>\n",
       "      <td>NaN</td>\n",
       "      <td>NaN</td>\n",
       "      <td>NaN</td>\n",
       "      <td>43.0</td>\n",
       "      <td>NaN</td>\n",
       "      <td>NaN</td>\n",
       "      <td>NaN</td>\n",
       "      <td>NaN</td>\n",
       "      <td>NaN</td>\n",
       "      <td>NaN</td>\n",
       "      <td>NaN</td>\n",
       "      <td>206.0</td>\n",
       "      <td>NaN</td>\n",
       "      <td>150.0</td>\n",
       "      <td>154.0</td>\n",
       "    </tr>\n",
       "    <tr>\n",
       "      <th>1</th>\n",
       "      <td>2</td>\n",
       "      <td>NaN</td>\n",
       "      <td>NaN</td>\n",
       "      <td>NaN</td>\n",
       "      <td>73.0</td>\n",
       "      <td>NaN</td>\n",
       "      <td>NaN</td>\n",
       "      <td>NaN</td>\n",
       "      <td>NaN</td>\n",
       "      <td>NaN</td>\n",
       "      <td>NaN</td>\n",
       "      <td>NaN</td>\n",
       "      <td>206.0</td>\n",
       "      <td>NaN</td>\n",
       "      <td>149.0</td>\n",
       "      <td>154.0</td>\n",
       "    </tr>\n",
       "    <tr>\n",
       "      <th>2</th>\n",
       "      <td>3</td>\n",
       "      <td>NaN</td>\n",
       "      <td>NaN</td>\n",
       "      <td>NaN</td>\n",
       "      <td>34.0</td>\n",
       "      <td>NaN</td>\n",
       "      <td>NaN</td>\n",
       "      <td>NaN</td>\n",
       "      <td>NaN</td>\n",
       "      <td>NaN</td>\n",
       "      <td>NaN</td>\n",
       "      <td>NaN</td>\n",
       "      <td>205.0</td>\n",
       "      <td>NaN</td>\n",
       "      <td>152.0</td>\n",
       "      <td>153.0</td>\n",
       "    </tr>\n",
       "    <tr>\n",
       "      <th>3</th>\n",
       "      <td>4</td>\n",
       "      <td>NaN</td>\n",
       "      <td>NaN</td>\n",
       "      <td>NaN</td>\n",
       "      <td>81.0</td>\n",
       "      <td>NaN</td>\n",
       "      <td>NaN</td>\n",
       "      <td>NaN</td>\n",
       "      <td>NaN</td>\n",
       "      <td>NaN</td>\n",
       "      <td>NaN</td>\n",
       "      <td>NaN</td>\n",
       "      <td>207.0</td>\n",
       "      <td>NaN</td>\n",
       "      <td>153.0</td>\n",
       "      <td>154.0</td>\n",
       "    </tr>\n",
       "    <tr>\n",
       "      <th>4</th>\n",
       "      <td>5</td>\n",
       "      <td>NaN</td>\n",
       "      <td>NaN</td>\n",
       "      <td>NaN</td>\n",
       "      <td>78.0</td>\n",
       "      <td>NaN</td>\n",
       "      <td>NaN</td>\n",
       "      <td>NaN</td>\n",
       "      <td>NaN</td>\n",
       "      <td>NaN</td>\n",
       "      <td>NaN</td>\n",
       "      <td>NaN</td>\n",
       "      <td>203.0</td>\n",
       "      <td>NaN</td>\n",
       "      <td>151.0</td>\n",
       "      <td>152.0</td>\n",
       "    </tr>\n",
       "  </tbody>\n",
       "</table>\n",
       "</div>"
      ],
      "text/plain": [
       "   key  Bulk 1  Bulk 2  Bulk 3  Bulk 4  Bulk 5  Bulk 6  Bulk 7  Bulk 8  \\\n",
       "0    1     NaN     NaN     NaN    43.0     NaN     NaN     NaN     NaN   \n",
       "1    2     NaN     NaN     NaN    73.0     NaN     NaN     NaN     NaN   \n",
       "2    3     NaN     NaN     NaN    34.0     NaN     NaN     NaN     NaN   \n",
       "3    4     NaN     NaN     NaN    81.0     NaN     NaN     NaN     NaN   \n",
       "4    5     NaN     NaN     NaN    78.0     NaN     NaN     NaN     NaN   \n",
       "\n",
       "   Bulk 9  Bulk 10  Bulk 11  Bulk 12  Bulk 13  Bulk 14  Bulk 15  \n",
       "0     NaN      NaN      NaN    206.0      NaN    150.0    154.0  \n",
       "1     NaN      NaN      NaN    206.0      NaN    149.0    154.0  \n",
       "2     NaN      NaN      NaN    205.0      NaN    152.0    153.0  \n",
       "3     NaN      NaN      NaN    207.0      NaN    153.0    154.0  \n",
       "4     NaN      NaN      NaN    203.0      NaN    151.0    152.0  "
      ]
     },
     "execution_count": 18,
     "metadata": {},
     "output_type": "execute_result"
    }
   ],
   "source": [
    "df_bulk.head()"
   ]
  },
  {
   "cell_type": "markdown",
   "metadata": {},
   "source": [
    "Посмотрим какое количество итераций встречается"
   ]
  },
  {
   "cell_type": "code",
   "execution_count": 19,
   "metadata": {},
   "outputs": [
    {
     "data": {
      "text/plain": [
       "array([1])"
      ]
     },
     "execution_count": 19,
     "metadata": {},
     "output_type": "execute_result"
    }
   ],
   "source": [
    "df_bulk['key'].value_counts().unique()"
   ]
  },
  {
   "cell_type": "code",
   "execution_count": 20,
   "metadata": {},
   "outputs": [
    {
     "data": {
      "text/html": [
       "<div>\n",
       "<style scoped>\n",
       "    .dataframe tbody tr th:only-of-type {\n",
       "        vertical-align: middle;\n",
       "    }\n",
       "\n",
       "    .dataframe tbody tr th {\n",
       "        vertical-align: top;\n",
       "    }\n",
       "\n",
       "    .dataframe thead th {\n",
       "        text-align: right;\n",
       "    }\n",
       "</style>\n",
       "<table border=\"1\" class=\"dataframe\">\n",
       "  <thead>\n",
       "    <tr style=\"text-align: right;\">\n",
       "      <th></th>\n",
       "      <th>key</th>\n",
       "      <th>Bulk 1</th>\n",
       "      <th>Bulk 2</th>\n",
       "      <th>Bulk 3</th>\n",
       "      <th>Bulk 4</th>\n",
       "      <th>Bulk 5</th>\n",
       "      <th>Bulk 6</th>\n",
       "      <th>Bulk 7</th>\n",
       "      <th>Bulk 8</th>\n",
       "      <th>Bulk 9</th>\n",
       "      <th>Bulk 10</th>\n",
       "      <th>Bulk 11</th>\n",
       "      <th>Bulk 12</th>\n",
       "      <th>Bulk 13</th>\n",
       "      <th>Bulk 14</th>\n",
       "      <th>Bulk 15</th>\n",
       "    </tr>\n",
       "  </thead>\n",
       "  <tbody>\n",
       "    <tr>\n",
       "      <th>count</th>\n",
       "      <td>3129.000000</td>\n",
       "      <td>252.000000</td>\n",
       "      <td>22.000000</td>\n",
       "      <td>1298.000000</td>\n",
       "      <td>1014.000000</td>\n",
       "      <td>77.000000</td>\n",
       "      <td>576.000000</td>\n",
       "      <td>25.000000</td>\n",
       "      <td>1.0</td>\n",
       "      <td>19.000000</td>\n",
       "      <td>176.000000</td>\n",
       "      <td>177.000000</td>\n",
       "      <td>2450.000000</td>\n",
       "      <td>18.000000</td>\n",
       "      <td>2806.000000</td>\n",
       "      <td>2248.000000</td>\n",
       "    </tr>\n",
       "    <tr>\n",
       "      <th>mean</th>\n",
       "      <td>1624.383509</td>\n",
       "      <td>39.242063</td>\n",
       "      <td>253.045455</td>\n",
       "      <td>113.879045</td>\n",
       "      <td>104.394477</td>\n",
       "      <td>107.025974</td>\n",
       "      <td>118.925347</td>\n",
       "      <td>305.600000</td>\n",
       "      <td>49.0</td>\n",
       "      <td>76.315789</td>\n",
       "      <td>83.284091</td>\n",
       "      <td>76.819209</td>\n",
       "      <td>260.471020</td>\n",
       "      <td>181.111111</td>\n",
       "      <td>170.284747</td>\n",
       "      <td>160.513345</td>\n",
       "    </tr>\n",
       "    <tr>\n",
       "      <th>std</th>\n",
       "      <td>933.337642</td>\n",
       "      <td>18.277654</td>\n",
       "      <td>21.180578</td>\n",
       "      <td>75.483494</td>\n",
       "      <td>48.184126</td>\n",
       "      <td>81.790646</td>\n",
       "      <td>72.057776</td>\n",
       "      <td>191.022904</td>\n",
       "      <td>NaN</td>\n",
       "      <td>21.720581</td>\n",
       "      <td>26.060347</td>\n",
       "      <td>59.655365</td>\n",
       "      <td>120.649269</td>\n",
       "      <td>46.088009</td>\n",
       "      <td>65.868652</td>\n",
       "      <td>51.765319</td>\n",
       "    </tr>\n",
       "    <tr>\n",
       "      <th>min</th>\n",
       "      <td>1.000000</td>\n",
       "      <td>10.000000</td>\n",
       "      <td>228.000000</td>\n",
       "      <td>6.000000</td>\n",
       "      <td>12.000000</td>\n",
       "      <td>11.000000</td>\n",
       "      <td>17.000000</td>\n",
       "      <td>47.000000</td>\n",
       "      <td>49.0</td>\n",
       "      <td>63.000000</td>\n",
       "      <td>24.000000</td>\n",
       "      <td>8.000000</td>\n",
       "      <td>53.000000</td>\n",
       "      <td>151.000000</td>\n",
       "      <td>16.000000</td>\n",
       "      <td>1.000000</td>\n",
       "    </tr>\n",
       "    <tr>\n",
       "      <th>25%</th>\n",
       "      <td>816.000000</td>\n",
       "      <td>27.000000</td>\n",
       "      <td>242.000000</td>\n",
       "      <td>58.000000</td>\n",
       "      <td>72.000000</td>\n",
       "      <td>70.000000</td>\n",
       "      <td>69.750000</td>\n",
       "      <td>155.000000</td>\n",
       "      <td>49.0</td>\n",
       "      <td>66.000000</td>\n",
       "      <td>64.000000</td>\n",
       "      <td>25.000000</td>\n",
       "      <td>204.000000</td>\n",
       "      <td>153.250000</td>\n",
       "      <td>119.000000</td>\n",
       "      <td>105.000000</td>\n",
       "    </tr>\n",
       "    <tr>\n",
       "      <th>50%</th>\n",
       "      <td>1622.000000</td>\n",
       "      <td>31.000000</td>\n",
       "      <td>251.500000</td>\n",
       "      <td>97.500000</td>\n",
       "      <td>102.000000</td>\n",
       "      <td>86.000000</td>\n",
       "      <td>100.000000</td>\n",
       "      <td>298.000000</td>\n",
       "      <td>49.0</td>\n",
       "      <td>68.000000</td>\n",
       "      <td>86.500000</td>\n",
       "      <td>64.000000</td>\n",
       "      <td>208.000000</td>\n",
       "      <td>155.500000</td>\n",
       "      <td>151.000000</td>\n",
       "      <td>160.000000</td>\n",
       "    </tr>\n",
       "    <tr>\n",
       "      <th>75%</th>\n",
       "      <td>2431.000000</td>\n",
       "      <td>46.000000</td>\n",
       "      <td>257.750000</td>\n",
       "      <td>152.000000</td>\n",
       "      <td>133.000000</td>\n",
       "      <td>132.000000</td>\n",
       "      <td>157.000000</td>\n",
       "      <td>406.000000</td>\n",
       "      <td>49.0</td>\n",
       "      <td>70.500000</td>\n",
       "      <td>102.000000</td>\n",
       "      <td>106.000000</td>\n",
       "      <td>316.000000</td>\n",
       "      <td>203.500000</td>\n",
       "      <td>205.750000</td>\n",
       "      <td>205.000000</td>\n",
       "    </tr>\n",
       "    <tr>\n",
       "      <th>max</th>\n",
       "      <td>3241.000000</td>\n",
       "      <td>185.000000</td>\n",
       "      <td>325.000000</td>\n",
       "      <td>454.000000</td>\n",
       "      <td>281.000000</td>\n",
       "      <td>603.000000</td>\n",
       "      <td>503.000000</td>\n",
       "      <td>772.000000</td>\n",
       "      <td>49.0</td>\n",
       "      <td>147.000000</td>\n",
       "      <td>159.000000</td>\n",
       "      <td>313.000000</td>\n",
       "      <td>1849.000000</td>\n",
       "      <td>305.000000</td>\n",
       "      <td>636.000000</td>\n",
       "      <td>405.000000</td>\n",
       "    </tr>\n",
       "  </tbody>\n",
       "</table>\n",
       "</div>"
      ],
      "text/plain": [
       "               key      Bulk 1      Bulk 2       Bulk 3       Bulk 4  \\\n",
       "count  3129.000000  252.000000   22.000000  1298.000000  1014.000000   \n",
       "mean   1624.383509   39.242063  253.045455   113.879045   104.394477   \n",
       "std     933.337642   18.277654   21.180578    75.483494    48.184126   \n",
       "min       1.000000   10.000000  228.000000     6.000000    12.000000   \n",
       "25%     816.000000   27.000000  242.000000    58.000000    72.000000   \n",
       "50%    1622.000000   31.000000  251.500000    97.500000   102.000000   \n",
       "75%    2431.000000   46.000000  257.750000   152.000000   133.000000   \n",
       "max    3241.000000  185.000000  325.000000   454.000000   281.000000   \n",
       "\n",
       "           Bulk 5      Bulk 6      Bulk 7  Bulk 8      Bulk 9     Bulk 10  \\\n",
       "count   77.000000  576.000000   25.000000     1.0   19.000000  176.000000   \n",
       "mean   107.025974  118.925347  305.600000    49.0   76.315789   83.284091   \n",
       "std     81.790646   72.057776  191.022904     NaN   21.720581   26.060347   \n",
       "min     11.000000   17.000000   47.000000    49.0   63.000000   24.000000   \n",
       "25%     70.000000   69.750000  155.000000    49.0   66.000000   64.000000   \n",
       "50%     86.000000  100.000000  298.000000    49.0   68.000000   86.500000   \n",
       "75%    132.000000  157.000000  406.000000    49.0   70.500000  102.000000   \n",
       "max    603.000000  503.000000  772.000000    49.0  147.000000  159.000000   \n",
       "\n",
       "          Bulk 11      Bulk 12     Bulk 13      Bulk 14      Bulk 15  \n",
       "count  177.000000  2450.000000   18.000000  2806.000000  2248.000000  \n",
       "mean    76.819209   260.471020  181.111111   170.284747   160.513345  \n",
       "std     59.655365   120.649269   46.088009    65.868652    51.765319  \n",
       "min      8.000000    53.000000  151.000000    16.000000     1.000000  \n",
       "25%     25.000000   204.000000  153.250000   119.000000   105.000000  \n",
       "50%     64.000000   208.000000  155.500000   151.000000   160.000000  \n",
       "75%    106.000000   316.000000  203.500000   205.750000   205.000000  \n",
       "max    313.000000  1849.000000  305.000000   636.000000   405.000000  "
      ]
     },
     "execution_count": 20,
     "metadata": {},
     "output_type": "execute_result"
    }
   ],
   "source": [
    "df_bulk.describe()"
   ]
  },
  {
   "cell_type": "markdown",
   "metadata": {},
   "source": [
    "Поменяем имена столбцов"
   ]
  },
  {
   "cell_type": "code",
   "execution_count": 21,
   "metadata": {},
   "outputs": [],
   "source": [
    "df_bulk.columns = ['key', 'bulk_1','bulk_2','bulk_3','bulk_4','bulk_5','bulk_6','bulk_7','bulk_8',\n",
    "                     'bulk_9','bulk_10','bulk_11','bulk_12','bulk_13','bulk_14','bulk_15']"
   ]
  },
  {
   "cell_type": "code",
   "execution_count": 22,
   "metadata": {},
   "outputs": [
    {
     "data": {
      "image/png": "[encoded data removed]",
      "text/plain": [
       "<Figure size 1800x1800 with 16 Axes>"
      ]
     },
     "metadata": {
      "needs_background": "light"
     },
     "output_type": "display_data"
    }
   ],
   "source": [
    "df_bulk.hist(bins=100, figsize=(25,25));"
   ]
  },
  {
   "cell_type": "markdown",
   "metadata": {},
   "source": [
    "#### Данные о подаче сыпучих материалов (время)"
   ]
  },
  {
   "cell_type": "code",
   "execution_count": 23,
   "metadata": {},
   "outputs": [
    {
     "name": "stdout",
     "output_type": "stream",
     "text": [
      "<class 'pandas.core.frame.DataFrame'>\n",
      "RangeIndex: 3129 entries, 0 to 3128\n",
      "Data columns (total 16 columns):\n",
      " #   Column   Non-Null Count  Dtype \n",
      "---  ------   --------------  ----- \n",
      " 0   key      3129 non-null   int64 \n",
      " 1   Bulk 1   252 non-null    object\n",
      " 2   Bulk 2   22 non-null     object\n",
      " 3   Bulk 3   1298 non-null   object\n",
      " 4   Bulk 4   1014 non-null   object\n",
      " 5   Bulk 5   77 non-null     object\n",
      " 6   Bulk 6   576 non-null    object\n",
      " 7   Bulk 7   25 non-null     object\n",
      " 8   Bulk 8   1 non-null      object\n",
      " 9   Bulk 9   19 non-null     object\n",
      " 10  Bulk 10  176 non-null    object\n",
      " 11  Bulk 11  177 non-null    object\n",
      " 12  Bulk 12  2450 non-null   object\n",
      " 13  Bulk 13  18 non-null     object\n",
      " 14  Bulk 14  2806 non-null   object\n",
      " 15  Bulk 15  2248 non-null   object\n",
      "dtypes: int64(1), object(15)\n",
      "memory usage: 391.2+ KB\n"
     ]
    }
   ],
   "source": [
    "df_bulk_time.info()"
   ]
  },
  {
   "cell_type": "code",
   "execution_count": 24,
   "metadata": {},
   "outputs": [
    {
     "data": {
      "text/html": [
       "<div>\n",
       "<style scoped>\n",
       "    .dataframe tbody tr th:only-of-type {\n",
       "        vertical-align: middle;\n",
       "    }\n",
       "\n",
       "    .dataframe tbody tr th {\n",
       "        vertical-align: top;\n",
       "    }\n",
       "\n",
       "    .dataframe thead th {\n",
       "        text-align: right;\n",
       "    }\n",
       "</style>\n",
       "<table border=\"1\" class=\"dataframe\">\n",
       "  <thead>\n",
       "    <tr style=\"text-align: right;\">\n",
       "      <th></th>\n",
       "      <th>key</th>\n",
       "      <th>Bulk 1</th>\n",
       "      <th>Bulk 2</th>\n",
       "      <th>Bulk 3</th>\n",
       "      <th>Bulk 4</th>\n",
       "      <th>Bulk 5</th>\n",
       "      <th>Bulk 6</th>\n",
       "      <th>Bulk 7</th>\n",
       "      <th>Bulk 8</th>\n",
       "      <th>Bulk 9</th>\n",
       "      <th>Bulk 10</th>\n",
       "      <th>Bulk 11</th>\n",
       "      <th>Bulk 12</th>\n",
       "      <th>Bulk 13</th>\n",
       "      <th>Bulk 14</th>\n",
       "      <th>Bulk 15</th>\n",
       "    </tr>\n",
       "  </thead>\n",
       "  <tbody>\n",
       "    <tr>\n",
       "      <th>0</th>\n",
       "      <td>1</td>\n",
       "      <td>NaN</td>\n",
       "      <td>NaN</td>\n",
       "      <td>NaN</td>\n",
       "      <td>2019-05-03 11:28:48</td>\n",
       "      <td>NaN</td>\n",
       "      <td>NaN</td>\n",
       "      <td>NaN</td>\n",
       "      <td>NaN</td>\n",
       "      <td>NaN</td>\n",
       "      <td>NaN</td>\n",
       "      <td>NaN</td>\n",
       "      <td>2019-05-03 11:24:31</td>\n",
       "      <td>NaN</td>\n",
       "      <td>2019-05-03 11:14:50</td>\n",
       "      <td>2019-05-03 11:10:43</td>\n",
       "    </tr>\n",
       "    <tr>\n",
       "      <th>1</th>\n",
       "      <td>2</td>\n",
       "      <td>NaN</td>\n",
       "      <td>NaN</td>\n",
       "      <td>NaN</td>\n",
       "      <td>2019-05-03 11:36:50</td>\n",
       "      <td>NaN</td>\n",
       "      <td>NaN</td>\n",
       "      <td>NaN</td>\n",
       "      <td>NaN</td>\n",
       "      <td>NaN</td>\n",
       "      <td>NaN</td>\n",
       "      <td>NaN</td>\n",
       "      <td>2019-05-03 11:53:30</td>\n",
       "      <td>NaN</td>\n",
       "      <td>2019-05-03 11:48:37</td>\n",
       "      <td>2019-05-03 11:44:39</td>\n",
       "    </tr>\n",
       "    <tr>\n",
       "      <th>2</th>\n",
       "      <td>3</td>\n",
       "      <td>NaN</td>\n",
       "      <td>NaN</td>\n",
       "      <td>NaN</td>\n",
       "      <td>2019-05-03 12:32:39</td>\n",
       "      <td>NaN</td>\n",
       "      <td>NaN</td>\n",
       "      <td>NaN</td>\n",
       "      <td>NaN</td>\n",
       "      <td>NaN</td>\n",
       "      <td>NaN</td>\n",
       "      <td>NaN</td>\n",
       "      <td>2019-05-03 12:27:13</td>\n",
       "      <td>NaN</td>\n",
       "      <td>2019-05-03 12:21:01</td>\n",
       "      <td>2019-05-03 12:16:16</td>\n",
       "    </tr>\n",
       "    <tr>\n",
       "      <th>3</th>\n",
       "      <td>4</td>\n",
       "      <td>NaN</td>\n",
       "      <td>NaN</td>\n",
       "      <td>NaN</td>\n",
       "      <td>2019-05-03 12:43:22</td>\n",
       "      <td>NaN</td>\n",
       "      <td>NaN</td>\n",
       "      <td>NaN</td>\n",
       "      <td>NaN</td>\n",
       "      <td>NaN</td>\n",
       "      <td>NaN</td>\n",
       "      <td>NaN</td>\n",
       "      <td>2019-05-03 12:58:00</td>\n",
       "      <td>NaN</td>\n",
       "      <td>2019-05-03 12:51:11</td>\n",
       "      <td>2019-05-03 12:46:36</td>\n",
       "    </tr>\n",
       "    <tr>\n",
       "      <th>4</th>\n",
       "      <td>5</td>\n",
       "      <td>NaN</td>\n",
       "      <td>NaN</td>\n",
       "      <td>NaN</td>\n",
       "      <td>2019-05-03 13:30:47</td>\n",
       "      <td>NaN</td>\n",
       "      <td>NaN</td>\n",
       "      <td>NaN</td>\n",
       "      <td>NaN</td>\n",
       "      <td>NaN</td>\n",
       "      <td>NaN</td>\n",
       "      <td>NaN</td>\n",
       "      <td>2019-05-03 13:30:47</td>\n",
       "      <td>NaN</td>\n",
       "      <td>2019-05-03 13:34:12</td>\n",
       "      <td>2019-05-03 13:30:47</td>\n",
       "    </tr>\n",
       "  </tbody>\n",
       "</table>\n",
       "</div>"
      ],
      "text/plain": [
       "   key Bulk 1 Bulk 2 Bulk 3               Bulk 4 Bulk 5 Bulk 6 Bulk 7 Bulk 8  \\\n",
       "0    1    NaN    NaN    NaN  2019-05-03 11:28:48    NaN    NaN    NaN    NaN   \n",
       "1    2    NaN    NaN    NaN  2019-05-03 11:36:50    NaN    NaN    NaN    NaN   \n",
       "2    3    NaN    NaN    NaN  2019-05-03 12:32:39    NaN    NaN    NaN    NaN   \n",
       "3    4    NaN    NaN    NaN  2019-05-03 12:43:22    NaN    NaN    NaN    NaN   \n",
       "4    5    NaN    NaN    NaN  2019-05-03 13:30:47    NaN    NaN    NaN    NaN   \n",
       "\n",
       "  Bulk 9 Bulk 10 Bulk 11              Bulk 12 Bulk 13              Bulk 14  \\\n",
       "0    NaN     NaN     NaN  2019-05-03 11:24:31     NaN  2019-05-03 11:14:50   \n",
       "1    NaN     NaN     NaN  2019-05-03 11:53:30     NaN  2019-05-03 11:48:37   \n",
       "2    NaN     NaN     NaN  2019-05-03 12:27:13     NaN  2019-05-03 12:21:01   \n",
       "3    NaN     NaN     NaN  2019-05-03 12:58:00     NaN  2019-05-03 12:51:11   \n",
       "4    NaN     NaN     NaN  2019-05-03 13:30:47     NaN  2019-05-03 13:34:12   \n",
       "\n",
       "               Bulk 15  \n",
       "0  2019-05-03 11:10:43  \n",
       "1  2019-05-03 11:44:39  \n",
       "2  2019-05-03 12:16:16  \n",
       "3  2019-05-03 12:46:36  \n",
       "4  2019-05-03 13:30:47  "
      ]
     },
     "execution_count": 24,
     "metadata": {},
     "output_type": "execute_result"
    }
   ],
   "source": [
    "df_bulk_time.head()"
   ]
  },
  {
   "cell_type": "markdown",
   "metadata": {},
   "source": [
    "Поменяем имена столбцов"
   ]
  },
  {
   "cell_type": "code",
   "execution_count": 25,
   "metadata": {},
   "outputs": [],
   "source": [
    "df_bulk_time.columns = ['key', 'bulk_1','bulk_2','bulk_3','bulk_4','bulk_5','bulk_6','bulk_7','bulk_8',\n",
    "                     'bulk_9','bulk_10','bulk_11','bulk_12','bulk_13','bulk_14','bulk_15']"
   ]
  },
  {
   "cell_type": "code",
   "execution_count": 26,
   "metadata": {},
   "outputs": [
    {
     "data": {
      "text/plain": [
       "array([1])"
      ]
     },
     "execution_count": 26,
     "metadata": {},
     "output_type": "execute_result"
    }
   ],
   "source": [
    "df_bulk_time['key'].value_counts().unique()"
   ]
  },
  {
   "cell_type": "markdown",
   "metadata": {},
   "source": [
    "#### Данные о продувке сплава газом"
   ]
  },
  {
   "cell_type": "code",
   "execution_count": 27,
   "metadata": {},
   "outputs": [
    {
     "name": "stdout",
     "output_type": "stream",
     "text": [
      "<class 'pandas.core.frame.DataFrame'>\n",
      "RangeIndex: 3239 entries, 0 to 3238\n",
      "Data columns (total 2 columns):\n",
      " #   Column  Non-Null Count  Dtype  \n",
      "---  ------  --------------  -----  \n",
      " 0   key     3239 non-null   int64  \n",
      " 1   Газ 1   3239 non-null   float64\n",
      "dtypes: float64(1), int64(1)\n",
      "memory usage: 50.7 KB\n"
     ]
    }
   ],
   "source": [
    "df_gas.info()"
   ]
  },
  {
   "cell_type": "code",
   "execution_count": 28,
   "metadata": {},
   "outputs": [
    {
     "data": {
      "text/html": [
       "<div>\n",
       "<style scoped>\n",
       "    .dataframe tbody tr th:only-of-type {\n",
       "        vertical-align: middle;\n",
       "    }\n",
       "\n",
       "    .dataframe tbody tr th {\n",
       "        vertical-align: top;\n",
       "    }\n",
       "\n",
       "    .dataframe thead th {\n",
       "        text-align: right;\n",
       "    }\n",
       "</style>\n",
       "<table border=\"1\" class=\"dataframe\">\n",
       "  <thead>\n",
       "    <tr style=\"text-align: right;\">\n",
       "      <th></th>\n",
       "      <th>key</th>\n",
       "      <th>Газ 1</th>\n",
       "    </tr>\n",
       "  </thead>\n",
       "  <tbody>\n",
       "    <tr>\n",
       "      <th>0</th>\n",
       "      <td>1</td>\n",
       "      <td>29.749986</td>\n",
       "    </tr>\n",
       "    <tr>\n",
       "      <th>1</th>\n",
       "      <td>2</td>\n",
       "      <td>12.555561</td>\n",
       "    </tr>\n",
       "    <tr>\n",
       "      <th>2</th>\n",
       "      <td>3</td>\n",
       "      <td>28.554793</td>\n",
       "    </tr>\n",
       "    <tr>\n",
       "      <th>3</th>\n",
       "      <td>4</td>\n",
       "      <td>18.841219</td>\n",
       "    </tr>\n",
       "    <tr>\n",
       "      <th>4</th>\n",
       "      <td>5</td>\n",
       "      <td>5.413692</td>\n",
       "    </tr>\n",
       "  </tbody>\n",
       "</table>\n",
       "</div>"
      ],
      "text/plain": [
       "   key      Газ 1\n",
       "0    1  29.749986\n",
       "1    2  12.555561\n",
       "2    3  28.554793\n",
       "3    4  18.841219\n",
       "4    5   5.413692"
      ]
     },
     "execution_count": 28,
     "metadata": {},
     "output_type": "execute_result"
    }
   ],
   "source": [
    "df_gas.head()"
   ]
  },
  {
   "cell_type": "code",
   "execution_count": 29,
   "metadata": {},
   "outputs": [
    {
     "data": {
      "text/html": [
       "<div>\n",
       "<style scoped>\n",
       "    .dataframe tbody tr th:only-of-type {\n",
       "        vertical-align: middle;\n",
       "    }\n",
       "\n",
       "    .dataframe tbody tr th {\n",
       "        vertical-align: top;\n",
       "    }\n",
       "\n",
       "    .dataframe thead th {\n",
       "        text-align: right;\n",
       "    }\n",
       "</style>\n",
       "<table border=\"1\" class=\"dataframe\">\n",
       "  <thead>\n",
       "    <tr style=\"text-align: right;\">\n",
       "      <th></th>\n",
       "      <th>key</th>\n",
       "      <th>Газ 1</th>\n",
       "    </tr>\n",
       "  </thead>\n",
       "  <tbody>\n",
       "    <tr>\n",
       "      <th>count</th>\n",
       "      <td>3239.000000</td>\n",
       "      <td>3239.000000</td>\n",
       "    </tr>\n",
       "    <tr>\n",
       "      <th>mean</th>\n",
       "      <td>1621.861377</td>\n",
       "      <td>11.002062</td>\n",
       "    </tr>\n",
       "    <tr>\n",
       "      <th>std</th>\n",
       "      <td>935.386334</td>\n",
       "      <td>6.220327</td>\n",
       "    </tr>\n",
       "    <tr>\n",
       "      <th>min</th>\n",
       "      <td>1.000000</td>\n",
       "      <td>0.008399</td>\n",
       "    </tr>\n",
       "    <tr>\n",
       "      <th>25%</th>\n",
       "      <td>812.500000</td>\n",
       "      <td>7.043089</td>\n",
       "    </tr>\n",
       "    <tr>\n",
       "      <th>50%</th>\n",
       "      <td>1622.000000</td>\n",
       "      <td>9.836267</td>\n",
       "    </tr>\n",
       "    <tr>\n",
       "      <th>75%</th>\n",
       "      <td>2431.500000</td>\n",
       "      <td>13.769915</td>\n",
       "    </tr>\n",
       "    <tr>\n",
       "      <th>max</th>\n",
       "      <td>3241.000000</td>\n",
       "      <td>77.995040</td>\n",
       "    </tr>\n",
       "  </tbody>\n",
       "</table>\n",
       "</div>"
      ],
      "text/plain": [
       "               key        Газ 1\n",
       "count  3239.000000  3239.000000\n",
       "mean   1621.861377    11.002062\n",
       "std     935.386334     6.220327\n",
       "min       1.000000     0.008399\n",
       "25%     812.500000     7.043089\n",
       "50%    1622.000000     9.836267\n",
       "75%    2431.500000    13.769915\n",
       "max    3241.000000    77.995040"
      ]
     },
     "execution_count": 29,
     "metadata": {},
     "output_type": "execute_result"
    }
   ],
   "source": [
    "df_gas.describe()"
   ]
  },
  {
   "cell_type": "code",
   "execution_count": 30,
   "metadata": {},
   "outputs": [
    {
     "data": {
      "text/plain": [
       "<AxesSubplot:>"
      ]
     },
     "execution_count": 30,
     "metadata": {},
     "output_type": "execute_result"
    },
    {
     "data": {
      "image/png": "[encoded data removed]",
      "text/plain": [
       "<Figure size 1152x720 with 1 Axes>"
      ]
     },
     "metadata": {
      "needs_background": "light"
     },
     "output_type": "display_data"
    }
   ],
   "source": [
    "df_gas['Газ 1'].hist(bins=100, figsize=(16,10))"
   ]
  },
  {
   "cell_type": "markdown",
   "metadata": {},
   "source": [
    "Поменяем имена столбцов"
   ]
  },
  {
   "cell_type": "code",
   "execution_count": 31,
   "metadata": {},
   "outputs": [],
   "source": [
    "df_gas.columns = ['key', 'gas_1']"
   ]
  },
  {
   "cell_type": "markdown",
   "metadata": {},
   "source": [
    "Посмотрим какое количество итераций встречается"
   ]
  },
  {
   "cell_type": "code",
   "execution_count": 32,
   "metadata": {},
   "outputs": [
    {
     "data": {
      "text/plain": [
       "array([1])"
      ]
     },
     "execution_count": 32,
     "metadata": {},
     "output_type": "execute_result"
    }
   ],
   "source": [
    "df_gas['key'].value_counts().unique()"
   ]
  },
  {
   "cell_type": "markdown",
   "metadata": {},
   "source": [
    "#### Результаты измерения температуры"
   ]
  },
  {
   "cell_type": "code",
   "execution_count": 33,
   "metadata": {},
   "outputs": [
    {
     "name": "stdout",
     "output_type": "stream",
     "text": [
      "<class 'pandas.core.frame.DataFrame'>\n",
      "RangeIndex: 18092 entries, 0 to 18091\n",
      "Data columns (total 3 columns):\n",
      " #   Column        Non-Null Count  Dtype  \n",
      "---  ------        --------------  -----  \n",
      " 0   key           18092 non-null  int64  \n",
      " 1   Время замера  18092 non-null  object \n",
      " 2   Температура   14665 non-null  float64\n",
      "dtypes: float64(1), int64(1), object(1)\n",
      "memory usage: 424.2+ KB\n"
     ]
    }
   ],
   "source": [
    "df_temp.info()"
   ]
  },
  {
   "cell_type": "code",
   "execution_count": 34,
   "metadata": {},
   "outputs": [
    {
     "data": {
      "text/html": [
       "<div>\n",
       "<style scoped>\n",
       "    .dataframe tbody tr th:only-of-type {\n",
       "        vertical-align: middle;\n",
       "    }\n",
       "\n",
       "    .dataframe tbody tr th {\n",
       "        vertical-align: top;\n",
       "    }\n",
       "\n",
       "    .dataframe thead th {\n",
       "        text-align: right;\n",
       "    }\n",
       "</style>\n",
       "<table border=\"1\" class=\"dataframe\">\n",
       "  <thead>\n",
       "    <tr style=\"text-align: right;\">\n",
       "      <th></th>\n",
       "      <th>key</th>\n",
       "      <th>Время замера</th>\n",
       "      <th>Температура</th>\n",
       "    </tr>\n",
       "  </thead>\n",
       "  <tbody>\n",
       "    <tr>\n",
       "      <th>0</th>\n",
       "      <td>1</td>\n",
       "      <td>2019-05-03 11:02:04</td>\n",
       "      <td>1571.0</td>\n",
       "    </tr>\n",
       "    <tr>\n",
       "      <th>1</th>\n",
       "      <td>1</td>\n",
       "      <td>2019-05-03 11:07:18</td>\n",
       "      <td>1604.0</td>\n",
       "    </tr>\n",
       "    <tr>\n",
       "      <th>2</th>\n",
       "      <td>1</td>\n",
       "      <td>2019-05-03 11:11:34</td>\n",
       "      <td>1618.0</td>\n",
       "    </tr>\n",
       "    <tr>\n",
       "      <th>3</th>\n",
       "      <td>1</td>\n",
       "      <td>2019-05-03 11:18:04</td>\n",
       "      <td>1601.0</td>\n",
       "    </tr>\n",
       "    <tr>\n",
       "      <th>4</th>\n",
       "      <td>1</td>\n",
       "      <td>2019-05-03 11:25:59</td>\n",
       "      <td>1606.0</td>\n",
       "    </tr>\n",
       "  </tbody>\n",
       "</table>\n",
       "</div>"
      ],
      "text/plain": [
       "   key         Время замера  Температура\n",
       "0    1  2019-05-03 11:02:04       1571.0\n",
       "1    1  2019-05-03 11:07:18       1604.0\n",
       "2    1  2019-05-03 11:11:34       1618.0\n",
       "3    1  2019-05-03 11:18:04       1601.0\n",
       "4    1  2019-05-03 11:25:59       1606.0"
      ]
     },
     "execution_count": 34,
     "metadata": {},
     "output_type": "execute_result"
    }
   ],
   "source": [
    "df_temp.head()"
   ]
  },
  {
   "cell_type": "markdown",
   "metadata": {},
   "source": [
    "Посмотрим какое количество итераций встречается"
   ]
  },
  {
   "cell_type": "code",
   "execution_count": 35,
   "metadata": {},
   "outputs": [
    {
     "data": {
      "text/plain": [
       "array([17, 16, 15, 14, 13, 12, 11, 10,  9,  8,  7,  6,  5,  4,  3,  2,  1])"
      ]
     },
     "execution_count": 35,
     "metadata": {},
     "output_type": "execute_result"
    }
   ],
   "source": [
    "df_temp['key'].value_counts().unique()"
   ]
  },
  {
   "cell_type": "code",
   "execution_count": 36,
   "metadata": {},
   "outputs": [
    {
     "data": {
      "text/plain": [
       "<AxesSubplot:>"
      ]
     },
     "execution_count": 36,
     "metadata": {},
     "output_type": "execute_result"
    },
    {
     "data": {
      "image/png": "[encoded data removed]",
      "text/plain": [
       "<Figure size 1152x720 with 1 Axes>"
      ]
     },
     "metadata": {
      "needs_background": "light"
     },
     "output_type": "display_data"
    }
   ],
   "source": [
    "df_temp['Температура'].hist(bins=100, figsize=(16,10))"
   ]
  },
  {
   "cell_type": "code",
   "execution_count": 37,
   "metadata": {},
   "outputs": [
    {
     "data": {
      "text/html": [
       "<div>\n",
       "<style scoped>\n",
       "    .dataframe tbody tr th:only-of-type {\n",
       "        vertical-align: middle;\n",
       "    }\n",
       "\n",
       "    .dataframe tbody tr th {\n",
       "        vertical-align: top;\n",
       "    }\n",
       "\n",
       "    .dataframe thead th {\n",
       "        text-align: right;\n",
       "    }\n",
       "</style>\n",
       "<table border=\"1\" class=\"dataframe\">\n",
       "  <thead>\n",
       "    <tr style=\"text-align: right;\">\n",
       "      <th></th>\n",
       "      <th>key</th>\n",
       "      <th>Температура</th>\n",
       "    </tr>\n",
       "  </thead>\n",
       "  <tbody>\n",
       "    <tr>\n",
       "      <th>count</th>\n",
       "      <td>18092.000000</td>\n",
       "      <td>14665.000000</td>\n",
       "    </tr>\n",
       "    <tr>\n",
       "      <th>mean</th>\n",
       "      <td>1616.460977</td>\n",
       "      <td>1590.722741</td>\n",
       "    </tr>\n",
       "    <tr>\n",
       "      <th>std</th>\n",
       "      <td>934.641385</td>\n",
       "      <td>20.394381</td>\n",
       "    </tr>\n",
       "    <tr>\n",
       "      <th>min</th>\n",
       "      <td>1.000000</td>\n",
       "      <td>1191.000000</td>\n",
       "    </tr>\n",
       "    <tr>\n",
       "      <th>25%</th>\n",
       "      <td>807.750000</td>\n",
       "      <td>1580.000000</td>\n",
       "    </tr>\n",
       "    <tr>\n",
       "      <th>50%</th>\n",
       "      <td>1618.000000</td>\n",
       "      <td>1590.000000</td>\n",
       "    </tr>\n",
       "    <tr>\n",
       "      <th>75%</th>\n",
       "      <td>2429.000000</td>\n",
       "      <td>1599.000000</td>\n",
       "    </tr>\n",
       "    <tr>\n",
       "      <th>max</th>\n",
       "      <td>3241.000000</td>\n",
       "      <td>1705.000000</td>\n",
       "    </tr>\n",
       "  </tbody>\n",
       "</table>\n",
       "</div>"
      ],
      "text/plain": [
       "                key   Температура\n",
       "count  18092.000000  14665.000000\n",
       "mean    1616.460977   1590.722741\n",
       "std      934.641385     20.394381\n",
       "min        1.000000   1191.000000\n",
       "25%      807.750000   1580.000000\n",
       "50%     1618.000000   1590.000000\n",
       "75%     2429.000000   1599.000000\n",
       "max     3241.000000   1705.000000"
      ]
     },
     "execution_count": 37,
     "metadata": {},
     "output_type": "execute_result"
    }
   ],
   "source": [
    "df_temp.describe()"
   ]
  },
  {
   "cell_type": "markdown",
   "metadata": {},
   "source": [
    "Произведем группировку по KEY и оставим значения первого и последнего замера"
   ]
  },
  {
   "cell_type": "code",
   "execution_count": 38,
   "metadata": {},
   "outputs": [
    {
     "data": {
      "text/html": [
       "<div>\n",
       "<style scoped>\n",
       "    .dataframe tbody tr th:only-of-type {\n",
       "        vertical-align: middle;\n",
       "    }\n",
       "\n",
       "    .dataframe tbody tr th {\n",
       "        vertical-align: top;\n",
       "    }\n",
       "\n",
       "    .dataframe thead th {\n",
       "        text-align: right;\n",
       "    }\n",
       "</style>\n",
       "<table border=\"1\" class=\"dataframe\">\n",
       "  <thead>\n",
       "    <tr style=\"text-align: right;\">\n",
       "      <th></th>\n",
       "      <th>time_first</th>\n",
       "      <th>time_last</th>\n",
       "      <th>temp_first</th>\n",
       "      <th>temp_last</th>\n",
       "    </tr>\n",
       "    <tr>\n",
       "      <th>key</th>\n",
       "      <th></th>\n",
       "      <th></th>\n",
       "      <th></th>\n",
       "      <th></th>\n",
       "    </tr>\n",
       "  </thead>\n",
       "  <tbody>\n",
       "    <tr>\n",
       "      <th>1</th>\n",
       "      <td>2019-05-03 11:02:04</td>\n",
       "      <td>2019-05-03 11:30:38</td>\n",
       "      <td>1571.0</td>\n",
       "      <td>1613.0</td>\n",
       "    </tr>\n",
       "    <tr>\n",
       "      <th>2</th>\n",
       "      <td>2019-05-03 11:34:04</td>\n",
       "      <td>2019-05-03 11:55:09</td>\n",
       "      <td>1581.0</td>\n",
       "      <td>1602.0</td>\n",
       "    </tr>\n",
       "    <tr>\n",
       "      <th>3</th>\n",
       "      <td>2019-05-03 12:06:44</td>\n",
       "      <td>2019-05-03 12:35:57</td>\n",
       "      <td>1596.0</td>\n",
       "      <td>1599.0</td>\n",
       "    </tr>\n",
       "    <tr>\n",
       "      <th>4</th>\n",
       "      <td>2019-05-03 12:39:27</td>\n",
       "      <td>2019-05-03 12:59:47</td>\n",
       "      <td>1601.0</td>\n",
       "      <td>1625.0</td>\n",
       "    </tr>\n",
       "    <tr>\n",
       "      <th>5</th>\n",
       "      <td>2019-05-03 13:11:03</td>\n",
       "      <td>2019-05-03 13:36:39</td>\n",
       "      <td>1576.0</td>\n",
       "      <td>1602.0</td>\n",
       "    </tr>\n",
       "  </tbody>\n",
       "</table>\n",
       "</div>"
      ],
      "text/plain": [
       "              time_first            time_last  temp_first  temp_last\n",
       "key                                                                 \n",
       "1    2019-05-03 11:02:04  2019-05-03 11:30:38      1571.0     1613.0\n",
       "2    2019-05-03 11:34:04  2019-05-03 11:55:09      1581.0     1602.0\n",
       "3    2019-05-03 12:06:44  2019-05-03 12:35:57      1596.0     1599.0\n",
       "4    2019-05-03 12:39:27  2019-05-03 12:59:47      1601.0     1625.0\n",
       "5    2019-05-03 13:11:03  2019-05-03 13:36:39      1576.0     1602.0"
      ]
     },
     "execution_count": 38,
     "metadata": {},
     "output_type": "execute_result"
    }
   ],
   "source": [
    "df_temp = df_temp.groupby(by = 'key', as_index = False).agg(['first', 'last'])\n",
    "df_temp.columns = ['time_first', 'time_last', 'temp_first', 'temp_last']\n",
    "df_temp.head(5)"
   ]
  },
  {
   "cell_type": "markdown",
   "metadata": {},
   "source": [
    "Удалим строки где была всего одна итерация или первый и последний замер совпадает"
   ]
  },
  {
   "cell_type": "code",
   "execution_count": 39,
   "metadata": {},
   "outputs": [],
   "source": [
    "df_temp = df_temp[df_temp['temp_first'] != df_temp['temp_last']]"
   ]
  },
  {
   "cell_type": "markdown",
   "metadata": {},
   "source": [
    "#### Данные о проволочных материалах (объём)"
   ]
  },
  {
   "cell_type": "code",
   "execution_count": 40,
   "metadata": {},
   "outputs": [
    {
     "name": "stdout",
     "output_type": "stream",
     "text": [
      "<class 'pandas.core.frame.DataFrame'>\n",
      "RangeIndex: 3081 entries, 0 to 3080\n",
      "Data columns (total 10 columns):\n",
      " #   Column  Non-Null Count  Dtype  \n",
      "---  ------  --------------  -----  \n",
      " 0   key     3081 non-null   int64  \n",
      " 1   Wire 1  3055 non-null   float64\n",
      " 2   Wire 2  1079 non-null   float64\n",
      " 3   Wire 3  63 non-null     float64\n",
      " 4   Wire 4  14 non-null     float64\n",
      " 5   Wire 5  1 non-null      float64\n",
      " 6   Wire 6  73 non-null     float64\n",
      " 7   Wire 7  11 non-null     float64\n",
      " 8   Wire 8  19 non-null     float64\n",
      " 9   Wire 9  29 non-null     float64\n",
      "dtypes: float64(9), int64(1)\n",
      "memory usage: 240.8 KB\n"
     ]
    }
   ],
   "source": [
    "df_wire.info()"
   ]
  },
  {
   "cell_type": "markdown",
   "metadata": {},
   "source": [
    "Посмотрим какое количество итераций встречается"
   ]
  },
  {
   "cell_type": "code",
   "execution_count": 41,
   "metadata": {},
   "outputs": [
    {
     "data": {
      "text/plain": [
       "array([1])"
      ]
     },
     "execution_count": 41,
     "metadata": {},
     "output_type": "execute_result"
    }
   ],
   "source": [
    "df_wire['key'].value_counts().unique()"
   ]
  },
  {
   "cell_type": "code",
   "execution_count": 42,
   "metadata": {},
   "outputs": [
    {
     "data": {
      "text/html": [
       "<div>\n",
       "<style scoped>\n",
       "    .dataframe tbody tr th:only-of-type {\n",
       "        vertical-align: middle;\n",
       "    }\n",
       "\n",
       "    .dataframe tbody tr th {\n",
       "        vertical-align: top;\n",
       "    }\n",
       "\n",
       "    .dataframe thead th {\n",
       "        text-align: right;\n",
       "    }\n",
       "</style>\n",
       "<table border=\"1\" class=\"dataframe\">\n",
       "  <thead>\n",
       "    <tr style=\"text-align: right;\">\n",
       "      <th></th>\n",
       "      <th>key</th>\n",
       "      <th>Wire 1</th>\n",
       "      <th>Wire 2</th>\n",
       "      <th>Wire 3</th>\n",
       "      <th>Wire 4</th>\n",
       "      <th>Wire 5</th>\n",
       "      <th>Wire 6</th>\n",
       "      <th>Wire 7</th>\n",
       "      <th>Wire 8</th>\n",
       "      <th>Wire 9</th>\n",
       "    </tr>\n",
       "  </thead>\n",
       "  <tbody>\n",
       "    <tr>\n",
       "      <th>0</th>\n",
       "      <td>1</td>\n",
       "      <td>60.059998</td>\n",
       "      <td>NaN</td>\n",
       "      <td>NaN</td>\n",
       "      <td>NaN</td>\n",
       "      <td>NaN</td>\n",
       "      <td>NaN</td>\n",
       "      <td>NaN</td>\n",
       "      <td>NaN</td>\n",
       "      <td>NaN</td>\n",
       "    </tr>\n",
       "    <tr>\n",
       "      <th>1</th>\n",
       "      <td>2</td>\n",
       "      <td>96.052315</td>\n",
       "      <td>NaN</td>\n",
       "      <td>NaN</td>\n",
       "      <td>NaN</td>\n",
       "      <td>NaN</td>\n",
       "      <td>NaN</td>\n",
       "      <td>NaN</td>\n",
       "      <td>NaN</td>\n",
       "      <td>NaN</td>\n",
       "    </tr>\n",
       "    <tr>\n",
       "      <th>2</th>\n",
       "      <td>3</td>\n",
       "      <td>91.160157</td>\n",
       "      <td>NaN</td>\n",
       "      <td>NaN</td>\n",
       "      <td>NaN</td>\n",
       "      <td>NaN</td>\n",
       "      <td>NaN</td>\n",
       "      <td>NaN</td>\n",
       "      <td>NaN</td>\n",
       "      <td>NaN</td>\n",
       "    </tr>\n",
       "    <tr>\n",
       "      <th>3</th>\n",
       "      <td>4</td>\n",
       "      <td>89.063515</td>\n",
       "      <td>NaN</td>\n",
       "      <td>NaN</td>\n",
       "      <td>NaN</td>\n",
       "      <td>NaN</td>\n",
       "      <td>NaN</td>\n",
       "      <td>NaN</td>\n",
       "      <td>NaN</td>\n",
       "      <td>NaN</td>\n",
       "    </tr>\n",
       "    <tr>\n",
       "      <th>4</th>\n",
       "      <td>5</td>\n",
       "      <td>89.238236</td>\n",
       "      <td>9.11456</td>\n",
       "      <td>NaN</td>\n",
       "      <td>NaN</td>\n",
       "      <td>NaN</td>\n",
       "      <td>NaN</td>\n",
       "      <td>NaN</td>\n",
       "      <td>NaN</td>\n",
       "      <td>NaN</td>\n",
       "    </tr>\n",
       "  </tbody>\n",
       "</table>\n",
       "</div>"
      ],
      "text/plain": [
       "   key     Wire 1   Wire 2  Wire 3  Wire 4  Wire 5  Wire 6  Wire 7  Wire 8  \\\n",
       "0    1  60.059998      NaN     NaN     NaN     NaN     NaN     NaN     NaN   \n",
       "1    2  96.052315      NaN     NaN     NaN     NaN     NaN     NaN     NaN   \n",
       "2    3  91.160157      NaN     NaN     NaN     NaN     NaN     NaN     NaN   \n",
       "3    4  89.063515      NaN     NaN     NaN     NaN     NaN     NaN     NaN   \n",
       "4    5  89.238236  9.11456     NaN     NaN     NaN     NaN     NaN     NaN   \n",
       "\n",
       "   Wire 9  \n",
       "0     NaN  \n",
       "1     NaN  \n",
       "2     NaN  \n",
       "3     NaN  \n",
       "4     NaN  "
      ]
     },
     "execution_count": 42,
     "metadata": {},
     "output_type": "execute_result"
    }
   ],
   "source": [
    "df_wire.head()"
   ]
  },
  {
   "cell_type": "code",
   "execution_count": 43,
   "metadata": {},
   "outputs": [
    {
     "data": {
      "text/html": [
       "<div>\n",
       "<style scoped>\n",
       "    .dataframe tbody tr th:only-of-type {\n",
       "        vertical-align: middle;\n",
       "    }\n",
       "\n",
       "    .dataframe tbody tr th {\n",
       "        vertical-align: top;\n",
       "    }\n",
       "\n",
       "    .dataframe thead th {\n",
       "        text-align: right;\n",
       "    }\n",
       "</style>\n",
       "<table border=\"1\" class=\"dataframe\">\n",
       "  <thead>\n",
       "    <tr style=\"text-align: right;\">\n",
       "      <th></th>\n",
       "      <th>key</th>\n",
       "      <th>Wire 1</th>\n",
       "      <th>Wire 2</th>\n",
       "      <th>Wire 3</th>\n",
       "      <th>Wire 4</th>\n",
       "      <th>Wire 5</th>\n",
       "      <th>Wire 6</th>\n",
       "      <th>Wire 7</th>\n",
       "      <th>Wire 8</th>\n",
       "      <th>Wire 9</th>\n",
       "    </tr>\n",
       "  </thead>\n",
       "  <tbody>\n",
       "    <tr>\n",
       "      <th>count</th>\n",
       "      <td>3081.000000</td>\n",
       "      <td>3055.000000</td>\n",
       "      <td>1079.000000</td>\n",
       "      <td>63.000000</td>\n",
       "      <td>14.000000</td>\n",
       "      <td>1.000</td>\n",
       "      <td>73.000000</td>\n",
       "      <td>11.000000</td>\n",
       "      <td>19.000000</td>\n",
       "      <td>29.000000</td>\n",
       "    </tr>\n",
       "    <tr>\n",
       "      <th>mean</th>\n",
       "      <td>1623.426485</td>\n",
       "      <td>100.895853</td>\n",
       "      <td>50.577323</td>\n",
       "      <td>189.482681</td>\n",
       "      <td>57.442841</td>\n",
       "      <td>15.132</td>\n",
       "      <td>48.016974</td>\n",
       "      <td>10.039007</td>\n",
       "      <td>53.625193</td>\n",
       "      <td>34.155752</td>\n",
       "    </tr>\n",
       "    <tr>\n",
       "      <th>std</th>\n",
       "      <td>932.996726</td>\n",
       "      <td>42.012518</td>\n",
       "      <td>39.320216</td>\n",
       "      <td>99.513444</td>\n",
       "      <td>28.824667</td>\n",
       "      <td>NaN</td>\n",
       "      <td>33.919845</td>\n",
       "      <td>8.610584</td>\n",
       "      <td>16.881728</td>\n",
       "      <td>19.931616</td>\n",
       "    </tr>\n",
       "    <tr>\n",
       "      <th>min</th>\n",
       "      <td>1.000000</td>\n",
       "      <td>1.918800</td>\n",
       "      <td>0.030160</td>\n",
       "      <td>0.144144</td>\n",
       "      <td>24.148801</td>\n",
       "      <td>15.132</td>\n",
       "      <td>0.034320</td>\n",
       "      <td>0.234208</td>\n",
       "      <td>45.076721</td>\n",
       "      <td>4.622800</td>\n",
       "    </tr>\n",
       "    <tr>\n",
       "      <th>25%</th>\n",
       "      <td>823.000000</td>\n",
       "      <td>72.115684</td>\n",
       "      <td>20.193680</td>\n",
       "      <td>95.135044</td>\n",
       "      <td>40.807002</td>\n",
       "      <td>15.132</td>\n",
       "      <td>25.053600</td>\n",
       "      <td>6.762756</td>\n",
       "      <td>46.094879</td>\n",
       "      <td>22.058401</td>\n",
       "    </tr>\n",
       "    <tr>\n",
       "      <th>50%</th>\n",
       "      <td>1619.000000</td>\n",
       "      <td>100.158234</td>\n",
       "      <td>40.142956</td>\n",
       "      <td>235.194977</td>\n",
       "      <td>45.234282</td>\n",
       "      <td>15.132</td>\n",
       "      <td>42.076324</td>\n",
       "      <td>9.017009</td>\n",
       "      <td>46.279999</td>\n",
       "      <td>30.066399</td>\n",
       "    </tr>\n",
       "    <tr>\n",
       "      <th>75%</th>\n",
       "      <td>2434.000000</td>\n",
       "      <td>126.060483</td>\n",
       "      <td>70.227558</td>\n",
       "      <td>276.252014</td>\n",
       "      <td>76.124619</td>\n",
       "      <td>15.132</td>\n",
       "      <td>64.212723</td>\n",
       "      <td>11.886057</td>\n",
       "      <td>48.089603</td>\n",
       "      <td>43.862003</td>\n",
       "    </tr>\n",
       "    <tr>\n",
       "      <th>max</th>\n",
       "      <td>3241.000000</td>\n",
       "      <td>330.314424</td>\n",
       "      <td>282.780152</td>\n",
       "      <td>385.008668</td>\n",
       "      <td>113.231044</td>\n",
       "      <td>15.132</td>\n",
       "      <td>180.454575</td>\n",
       "      <td>32.847674</td>\n",
       "      <td>102.762401</td>\n",
       "      <td>90.053604</td>\n",
       "    </tr>\n",
       "  </tbody>\n",
       "</table>\n",
       "</div>"
      ],
      "text/plain": [
       "               key       Wire 1       Wire 2      Wire 3      Wire 4  Wire 5  \\\n",
       "count  3081.000000  3055.000000  1079.000000   63.000000   14.000000   1.000   \n",
       "mean   1623.426485   100.895853    50.577323  189.482681   57.442841  15.132   \n",
       "std     932.996726    42.012518    39.320216   99.513444   28.824667     NaN   \n",
       "min       1.000000     1.918800     0.030160    0.144144   24.148801  15.132   \n",
       "25%     823.000000    72.115684    20.193680   95.135044   40.807002  15.132   \n",
       "50%    1619.000000   100.158234    40.142956  235.194977   45.234282  15.132   \n",
       "75%    2434.000000   126.060483    70.227558  276.252014   76.124619  15.132   \n",
       "max    3241.000000   330.314424   282.780152  385.008668  113.231044  15.132   \n",
       "\n",
       "           Wire 6     Wire 7      Wire 8     Wire 9  \n",
       "count   73.000000  11.000000   19.000000  29.000000  \n",
       "mean    48.016974  10.039007   53.625193  34.155752  \n",
       "std     33.919845   8.610584   16.881728  19.931616  \n",
       "min      0.034320   0.234208   45.076721   4.622800  \n",
       "25%     25.053600   6.762756   46.094879  22.058401  \n",
       "50%     42.076324   9.017009   46.279999  30.066399  \n",
       "75%     64.212723  11.886057   48.089603  43.862003  \n",
       "max    180.454575  32.847674  102.762401  90.053604  "
      ]
     },
     "execution_count": 43,
     "metadata": {},
     "output_type": "execute_result"
    }
   ],
   "source": [
    "df_wire.describe()"
   ]
  },
  {
   "cell_type": "markdown",
   "metadata": {},
   "source": [
    "Поменяем имена столбцов"
   ]
  },
  {
   "cell_type": "code",
   "execution_count": 44,
   "metadata": {},
   "outputs": [],
   "source": [
    "df_wire.columns = ['key','wire_1','wire_2','wire_3','wire_4','wire_5','wire_6','wire_7','wire_8','wire_9']"
   ]
  },
  {
   "cell_type": "code",
   "execution_count": 45,
   "metadata": {},
   "outputs": [
    {
     "data": {
      "image/png": "[encoded data removed]",
      "text/plain": [
       "<Figure size 1800x1800 with 12 Axes>"
      ]
     },
     "metadata": {
      "needs_background": "light"
     },
     "output_type": "display_data"
    }
   ],
   "source": [
    "df_wire.hist(bins=100, figsize=(25,25));"
   ]
  },
  {
   "cell_type": "markdown",
   "metadata": {},
   "source": [
    "#### Данные о проволочных материалах (время)"
   ]
  },
  {
   "cell_type": "code",
   "execution_count": 46,
   "metadata": {},
   "outputs": [
    {
     "name": "stdout",
     "output_type": "stream",
     "text": [
      "<class 'pandas.core.frame.DataFrame'>\n",
      "RangeIndex: 3081 entries, 0 to 3080\n",
      "Data columns (total 10 columns):\n",
      " #   Column  Non-Null Count  Dtype \n",
      "---  ------  --------------  ----- \n",
      " 0   key     3081 non-null   int64 \n",
      " 1   Wire 1  3055 non-null   object\n",
      " 2   Wire 2  1079 non-null   object\n",
      " 3   Wire 3  63 non-null     object\n",
      " 4   Wire 4  14 non-null     object\n",
      " 5   Wire 5  1 non-null      object\n",
      " 6   Wire 6  73 non-null     object\n",
      " 7   Wire 7  11 non-null     object\n",
      " 8   Wire 8  19 non-null     object\n",
      " 9   Wire 9  29 non-null     object\n",
      "dtypes: int64(1), object(9)\n",
      "memory usage: 240.8+ KB\n"
     ]
    }
   ],
   "source": [
    "df_wire_time.info()"
   ]
  },
  {
   "cell_type": "markdown",
   "metadata": {},
   "source": [
    "Посмотрим какое количество итераций встречается"
   ]
  },
  {
   "cell_type": "code",
   "execution_count": 47,
   "metadata": {},
   "outputs": [
    {
     "data": {
      "text/plain": [
       "array([1])"
      ]
     },
     "execution_count": 47,
     "metadata": {},
     "output_type": "execute_result"
    }
   ],
   "source": [
    "df_wire_time['key'].value_counts().unique()"
   ]
  },
  {
   "cell_type": "code",
   "execution_count": 48,
   "metadata": {},
   "outputs": [
    {
     "data": {
      "text/html": [
       "<div>\n",
       "<style scoped>\n",
       "    .dataframe tbody tr th:only-of-type {\n",
       "        vertical-align: middle;\n",
       "    }\n",
       "\n",
       "    .dataframe tbody tr th {\n",
       "        vertical-align: top;\n",
       "    }\n",
       "\n",
       "    .dataframe thead th {\n",
       "        text-align: right;\n",
       "    }\n",
       "</style>\n",
       "<table border=\"1\" class=\"dataframe\">\n",
       "  <thead>\n",
       "    <tr style=\"text-align: right;\">\n",
       "      <th></th>\n",
       "      <th>key</th>\n",
       "      <th>Wire 1</th>\n",
       "      <th>Wire 2</th>\n",
       "      <th>Wire 3</th>\n",
       "      <th>Wire 4</th>\n",
       "      <th>Wire 5</th>\n",
       "      <th>Wire 6</th>\n",
       "      <th>Wire 7</th>\n",
       "      <th>Wire 8</th>\n",
       "      <th>Wire 9</th>\n",
       "    </tr>\n",
       "  </thead>\n",
       "  <tbody>\n",
       "    <tr>\n",
       "      <th>0</th>\n",
       "      <td>1</td>\n",
       "      <td>2019-05-03 11:06:19</td>\n",
       "      <td>NaN</td>\n",
       "      <td>NaN</td>\n",
       "      <td>NaN</td>\n",
       "      <td>NaN</td>\n",
       "      <td>NaN</td>\n",
       "      <td>NaN</td>\n",
       "      <td>NaN</td>\n",
       "      <td>NaN</td>\n",
       "    </tr>\n",
       "    <tr>\n",
       "      <th>1</th>\n",
       "      <td>2</td>\n",
       "      <td>2019-05-03 11:36:50</td>\n",
       "      <td>NaN</td>\n",
       "      <td>NaN</td>\n",
       "      <td>NaN</td>\n",
       "      <td>NaN</td>\n",
       "      <td>NaN</td>\n",
       "      <td>NaN</td>\n",
       "      <td>NaN</td>\n",
       "      <td>NaN</td>\n",
       "    </tr>\n",
       "    <tr>\n",
       "      <th>2</th>\n",
       "      <td>3</td>\n",
       "      <td>2019-05-03 12:11:46</td>\n",
       "      <td>NaN</td>\n",
       "      <td>NaN</td>\n",
       "      <td>NaN</td>\n",
       "      <td>NaN</td>\n",
       "      <td>NaN</td>\n",
       "      <td>NaN</td>\n",
       "      <td>NaN</td>\n",
       "      <td>NaN</td>\n",
       "    </tr>\n",
       "    <tr>\n",
       "      <th>3</th>\n",
       "      <td>4</td>\n",
       "      <td>2019-05-03 12:43:22</td>\n",
       "      <td>NaN</td>\n",
       "      <td>NaN</td>\n",
       "      <td>NaN</td>\n",
       "      <td>NaN</td>\n",
       "      <td>NaN</td>\n",
       "      <td>NaN</td>\n",
       "      <td>NaN</td>\n",
       "      <td>NaN</td>\n",
       "    </tr>\n",
       "    <tr>\n",
       "      <th>4</th>\n",
       "      <td>5</td>\n",
       "      <td>2019-05-03 13:20:44</td>\n",
       "      <td>2019-05-03 13:15:34</td>\n",
       "      <td>NaN</td>\n",
       "      <td>NaN</td>\n",
       "      <td>NaN</td>\n",
       "      <td>NaN</td>\n",
       "      <td>NaN</td>\n",
       "      <td>NaN</td>\n",
       "      <td>NaN</td>\n",
       "    </tr>\n",
       "  </tbody>\n",
       "</table>\n",
       "</div>"
      ],
      "text/plain": [
       "   key               Wire 1               Wire 2 Wire 3 Wire 4 Wire 5 Wire 6  \\\n",
       "0    1  2019-05-03 11:06:19                  NaN    NaN    NaN    NaN    NaN   \n",
       "1    2  2019-05-03 11:36:50                  NaN    NaN    NaN    NaN    NaN   \n",
       "2    3  2019-05-03 12:11:46                  NaN    NaN    NaN    NaN    NaN   \n",
       "3    4  2019-05-03 12:43:22                  NaN    NaN    NaN    NaN    NaN   \n",
       "4    5  2019-05-03 13:20:44  2019-05-03 13:15:34    NaN    NaN    NaN    NaN   \n",
       "\n",
       "  Wire 7 Wire 8 Wire 9  \n",
       "0    NaN    NaN    NaN  \n",
       "1    NaN    NaN    NaN  \n",
       "2    NaN    NaN    NaN  \n",
       "3    NaN    NaN    NaN  \n",
       "4    NaN    NaN    NaN  "
      ]
     },
     "execution_count": 48,
     "metadata": {},
     "output_type": "execute_result"
    }
   ],
   "source": [
    "df_wire_time.head()"
   ]
  },
  {
   "cell_type": "markdown",
   "metadata": {},
   "source": [
    "Поменяем имена столбцов"
   ]
  },
  {
   "cell_type": "code",
   "execution_count": 49,
   "metadata": {},
   "outputs": [],
   "source": [
    "df_wire_time.columns = ['key','wire_1','wire_2','wire_3','wire_4','wire_5','wire_6','wire_7','wire_8','wire_9']"
   ]
  },
  {
   "cell_type": "markdown",
   "metadata": {},
   "source": [
    "После 1 этапа можно сделать следующие выводы:\n",
    "\n",
    "В датасетах имеются пропуски. Они могут быть по разным причинам от особенности технологического производства до ошибки датчиков.\n",
    "\n",
    "Объединить датасеты в один по столбцу key\n",
    "\n",
    "Имена столбцов нужно превести на английский язык.\n",
    "\n",
    "Целевым признаком будет последний замер температуры в df_temp"
   ]
  },
  {
   "cell_type": "markdown",
   "metadata": {},
   "source": [
    "### Подготовка таблицы для обучения"
   ]
  },
  {
   "cell_type": "markdown",
   "metadata": {},
   "source": [
    "Произведем слияние таблиц по ключу KEY"
   ]
  },
  {
   "cell_type": "code",
   "execution_count": 50,
   "metadata": {},
   "outputs": [],
   "source": [
    "data = df_temp.merge(right=df_arc, how='inner', on='key')"
   ]
  },
  {
   "cell_type": "code",
   "execution_count": 51,
   "metadata": {},
   "outputs": [],
   "source": [
    "data = data.merge(right=df_bulk, how='inner', on='key')"
   ]
  },
  {
   "cell_type": "code",
   "execution_count": 52,
   "metadata": {},
   "outputs": [],
   "source": [
    "data = data.merge(right=df_gas, how='inner', on='key')"
   ]
  },
  {
   "cell_type": "code",
   "execution_count": 53,
   "metadata": {},
   "outputs": [],
   "source": [
    "data = data.merge(right=df_wire, how='inner', on='key')"
   ]
  },
  {
   "cell_type": "code",
   "execution_count": 54,
   "metadata": {},
   "outputs": [
    {
     "data": {
      "text/html": [
       "<div>\n",
       "<style scoped>\n",
       "    .dataframe tbody tr th:only-of-type {\n",
       "        vertical-align: middle;\n",
       "    }\n",
       "\n",
       "    .dataframe tbody tr th {\n",
       "        vertical-align: top;\n",
       "    }\n",
       "\n",
       "    .dataframe thead th {\n",
       "        text-align: right;\n",
       "    }\n",
       "</style>\n",
       "<table border=\"1\" class=\"dataframe\">\n",
       "  <thead>\n",
       "    <tr style=\"text-align: right;\">\n",
       "      <th></th>\n",
       "      <th>key</th>\n",
       "      <th>time_first</th>\n",
       "      <th>time_last</th>\n",
       "      <th>temp_first</th>\n",
       "      <th>temp_last</th>\n",
       "      <th>active_power</th>\n",
       "      <th>reactive_power</th>\n",
       "      <th>all_time</th>\n",
       "      <th>full_power</th>\n",
       "      <th>bulk_1</th>\n",
       "      <th>...</th>\n",
       "      <th>gas_1</th>\n",
       "      <th>wire_1</th>\n",
       "      <th>wire_2</th>\n",
       "      <th>wire_3</th>\n",
       "      <th>wire_4</th>\n",
       "      <th>wire_5</th>\n",
       "      <th>wire_6</th>\n",
       "      <th>wire_7</th>\n",
       "      <th>wire_8</th>\n",
       "      <th>wire_9</th>\n",
       "    </tr>\n",
       "  </thead>\n",
       "  <tbody>\n",
       "    <tr>\n",
       "      <th>0</th>\n",
       "      <td>1</td>\n",
       "      <td>2019-05-03 11:02:04</td>\n",
       "      <td>2019-05-03 11:30:38</td>\n",
       "      <td>1571.0</td>\n",
       "      <td>1613.0</td>\n",
       "      <td>3.036730</td>\n",
       "      <td>2.142821</td>\n",
       "      <td>1098</td>\n",
       "      <td>3.718736</td>\n",
       "      <td>NaN</td>\n",
       "      <td>...</td>\n",
       "      <td>29.749986</td>\n",
       "      <td>60.059998</td>\n",
       "      <td>NaN</td>\n",
       "      <td>NaN</td>\n",
       "      <td>NaN</td>\n",
       "      <td>NaN</td>\n",
       "      <td>NaN</td>\n",
       "      <td>NaN</td>\n",
       "      <td>NaN</td>\n",
       "      <td>NaN</td>\n",
       "    </tr>\n",
       "    <tr>\n",
       "      <th>1</th>\n",
       "      <td>2</td>\n",
       "      <td>2019-05-03 11:34:04</td>\n",
       "      <td>2019-05-03 11:55:09</td>\n",
       "      <td>1581.0</td>\n",
       "      <td>1602.0</td>\n",
       "      <td>2.139408</td>\n",
       "      <td>1.453357</td>\n",
       "      <td>811</td>\n",
       "      <td>2.588349</td>\n",
       "      <td>NaN</td>\n",
       "      <td>...</td>\n",
       "      <td>12.555561</td>\n",
       "      <td>96.052315</td>\n",
       "      <td>NaN</td>\n",
       "      <td>NaN</td>\n",
       "      <td>NaN</td>\n",
       "      <td>NaN</td>\n",
       "      <td>NaN</td>\n",
       "      <td>NaN</td>\n",
       "      <td>NaN</td>\n",
       "      <td>NaN</td>\n",
       "    </tr>\n",
       "    <tr>\n",
       "      <th>2</th>\n",
       "      <td>3</td>\n",
       "      <td>2019-05-03 12:06:44</td>\n",
       "      <td>2019-05-03 12:35:57</td>\n",
       "      <td>1596.0</td>\n",
       "      <td>1599.0</td>\n",
       "      <td>4.063641</td>\n",
       "      <td>2.937457</td>\n",
       "      <td>655</td>\n",
       "      <td>5.019223</td>\n",
       "      <td>NaN</td>\n",
       "      <td>...</td>\n",
       "      <td>28.554793</td>\n",
       "      <td>91.160157</td>\n",
       "      <td>NaN</td>\n",
       "      <td>NaN</td>\n",
       "      <td>NaN</td>\n",
       "      <td>NaN</td>\n",
       "      <td>NaN</td>\n",
       "      <td>NaN</td>\n",
       "      <td>NaN</td>\n",
       "      <td>NaN</td>\n",
       "    </tr>\n",
       "  </tbody>\n",
       "</table>\n",
       "<p>3 rows × 34 columns</p>\n",
       "</div>"
      ],
      "text/plain": [
       "   key           time_first            time_last  temp_first  temp_last  \\\n",
       "0    1  2019-05-03 11:02:04  2019-05-03 11:30:38      1571.0     1613.0   \n",
       "1    2  2019-05-03 11:34:04  2019-05-03 11:55:09      1581.0     1602.0   \n",
       "2    3  2019-05-03 12:06:44  2019-05-03 12:35:57      1596.0     1599.0   \n",
       "\n",
       "   active_power  reactive_power  all_time  full_power  bulk_1  ...      gas_1  \\\n",
       "0      3.036730        2.142821      1098    3.718736     NaN  ...  29.749986   \n",
       "1      2.139408        1.453357       811    2.588349     NaN  ...  12.555561   \n",
       "2      4.063641        2.937457       655    5.019223     NaN  ...  28.554793   \n",
       "\n",
       "      wire_1  wire_2  wire_3  wire_4  wire_5  wire_6  wire_7  wire_8  wire_9  \n",
       "0  60.059998     NaN     NaN     NaN     NaN     NaN     NaN     NaN     NaN  \n",
       "1  96.052315     NaN     NaN     NaN     NaN     NaN     NaN     NaN     NaN  \n",
       "2  91.160157     NaN     NaN     NaN     NaN     NaN     NaN     NaN     NaN  \n",
       "\n",
       "[3 rows x 34 columns]"
      ]
     },
     "execution_count": 54,
     "metadata": {},
     "output_type": "execute_result"
    }
   ],
   "source": [
    "data.head(3)"
   ]
  },
  {
   "cell_type": "markdown",
   "metadata": {},
   "source": [
    "Заменим все пропуски на 0"
   ]
  },
  {
   "cell_type": "code",
   "execution_count": 55,
   "metadata": {},
   "outputs": [],
   "source": [
    "data = data.fillna(0)"
   ]
  },
  {
   "cell_type": "markdown",
   "metadata": {},
   "source": [
    "Столбец KEY сделаем INDEX"
   ]
  },
  {
   "cell_type": "code",
   "execution_count": 56,
   "metadata": {},
   "outputs": [],
   "source": [
    "data = data.set_index('key')"
   ]
  },
  {
   "cell_type": "markdown",
   "metadata": {},
   "source": [
    "Проверим признаки на мультиколлинеарность"
   ]
  },
  {
   "cell_type": "code",
   "execution_count": 57,
   "metadata": {},
   "outputs": [
    {
     "data": {
      "text/html": [
       "<style  type=\"text/css\" >\n",
       "#T_ff5c5_row0_col0,#T_ff5c5_row1_col1,#T_ff5c5_row2_col2,#T_ff5c5_row2_col5,#T_ff5c5_row3_col3,#T_ff5c5_row3_col5,#T_ff5c5_row4_col4,#T_ff5c5_row5_col2,#T_ff5c5_row5_col3,#T_ff5c5_row5_col5,#T_ff5c5_row6_col6,#T_ff5c5_row7_col7,#T_ff5c5_row8_col8,#T_ff5c5_row9_col9,#T_ff5c5_row10_col10,#T_ff5c5_row11_col11,#T_ff5c5_row12_col12,#T_ff5c5_row13_col13,#T_ff5c5_row14_col14,#T_ff5c5_row15_col15,#T_ff5c5_row16_col16,#T_ff5c5_row17_col17,#T_ff5c5_row18_col18,#T_ff5c5_row19_col19,#T_ff5c5_row20_col20,#T_ff5c5_row21_col21,#T_ff5c5_row22_col22,#T_ff5c5_row23_col23,#T_ff5c5_row24_col24,#T_ff5c5_row25_col25,#T_ff5c5_row27_col27,#T_ff5c5_row28_col28,#T_ff5c5_row29_col29,#T_ff5c5_row30_col30{\n",
       "            background-color:  #b40426;\n",
       "            color:  #f1f1f1;\n",
       "        }#T_ff5c5_row0_col1,#T_ff5c5_row2_col21,#T_ff5c5_row5_col21,#T_ff5c5_row10_col12,#T_ff5c5_row13_col29,#T_ff5c5_row19_col2,#T_ff5c5_row19_col5{\n",
       "            background-color:  #b9d0f9;\n",
       "            color:  #000000;\n",
       "        }#T_ff5c5_row0_col2,#T_ff5c5_row0_col3,#T_ff5c5_row0_col4,#T_ff5c5_row0_col5,#T_ff5c5_row1_col6,#T_ff5c5_row1_col25,#T_ff5c5_row1_col28,#T_ff5c5_row4_col0,#T_ff5c5_row7_col19,#T_ff5c5_row8_col9,#T_ff5c5_row9_col8,#T_ff5c5_row9_col11,#T_ff5c5_row9_col16,#T_ff5c5_row9_col23,#T_ff5c5_row9_col30,#T_ff5c5_row11_col22,#T_ff5c5_row15_col21,#T_ff5c5_row17_col10,#T_ff5c5_row17_col24,#T_ff5c5_row19_col13,#T_ff5c5_row19_col18,#T_ff5c5_row20_col14,#T_ff5c5_row20_col24,#T_ff5c5_row20_col29,#T_ff5c5_row22_col7,#T_ff5c5_row22_col12,#T_ff5c5_row22_col16,#T_ff5c5_row22_col27,#T_ff5c5_row23_col1,#T_ff5c5_row23_col15,#T_ff5c5_row24_col17,#T_ff5c5_row24_col20{\n",
       "            background-color:  #3b4cc0;\n",
       "            color:  #f1f1f1;\n",
       "        }#T_ff5c5_row0_col6,#T_ff5c5_row2_col10,#T_ff5c5_row4_col24,#T_ff5c5_row5_col10,#T_ff5c5_row13_col25,#T_ff5c5_row20_col15,#T_ff5c5_row29_col2,#T_ff5c5_row29_col5,#T_ff5c5_row30_col7,#T_ff5c5_row30_col19{\n",
       "            background-color:  #6687ed;\n",
       "            color:  #000000;\n",
       "        }#T_ff5c5_row0_col7,#T_ff5c5_row6_col21,#T_ff5c5_row6_col27,#T_ff5c5_row10_col4,#T_ff5c5_row10_col9,#T_ff5c5_row12_col24,#T_ff5c5_row29_col4{\n",
       "            background-color:  #8caffe;\n",
       "            color:  #000000;\n",
       "        }#T_ff5c5_row0_col8,#T_ff5c5_row4_col28,#T_ff5c5_row10_col1,#T_ff5c5_row16_col7,#T_ff5c5_row19_col22,#T_ff5c5_row23_col14,#T_ff5c5_row23_col29,#T_ff5c5_row28_col6,#T_ff5c5_row30_col1{\n",
       "            background-color:  #688aef;\n",
       "            color:  #000000;\n",
       "        }#T_ff5c5_row0_col9,#T_ff5c5_row6_col7,#T_ff5c5_row12_col10,#T_ff5c5_row24_col7{\n",
       "            background-color:  #abc8fd;\n",
       "            color:  #000000;\n",
       "        }#T_ff5c5_row0_col10,#T_ff5c5_row0_col27,#T_ff5c5_row14_col3,#T_ff5c5_row14_col5,#T_ff5c5_row15_col7,#T_ff5c5_row15_col17,#T_ff5c5_row17_col23,#T_ff5c5_row20_col23,#T_ff5c5_row24_col1{\n",
       "            background-color:  #6384eb;\n",
       "            color:  #000000;\n",
       "        }#T_ff5c5_row0_col11,#T_ff5c5_row13_col12,#T_ff5c5_row13_col28,#T_ff5c5_row14_col12,#T_ff5c5_row15_col11,#T_ff5c5_row16_col12,#T_ff5c5_row16_col27,#T_ff5c5_row17_col18,#T_ff5c5_row18_col12,#T_ff5c5_row18_col20,#T_ff5c5_row19_col14,#T_ff5c5_row19_col29,#T_ff5c5_row22_col21,#T_ff5c5_row29_col12{\n",
       "            background-color:  #6180e9;\n",
       "            color:  #000000;\n",
       "        }#T_ff5c5_row0_col12,#T_ff5c5_row0_col25,#T_ff5c5_row4_col18,#T_ff5c5_row13_col11,#T_ff5c5_row16_col19,#T_ff5c5_row21_col14,#T_ff5c5_row21_col28,#T_ff5c5_row21_col29,#T_ff5c5_row23_col24{\n",
       "            background-color:  #799cf8;\n",
       "            color:  #000000;\n",
       "        }#T_ff5c5_row0_col13,#T_ff5c5_row1_col12,#T_ff5c5_row1_col30,#T_ff5c5_row11_col13{\n",
       "            background-color:  #4358cb;\n",
       "            color:  #f1f1f1;\n",
       "        }#T_ff5c5_row0_col14,#T_ff5c5_row0_col29,#T_ff5c5_row0_col30,#T_ff5c5_row1_col18,#T_ff5c5_row6_col18,#T_ff5c5_row8_col6,#T_ff5c5_row8_col10,#T_ff5c5_row8_col30,#T_ff5c5_row10_col18,#T_ff5c5_row11_col14,#T_ff5c5_row14_col10,#T_ff5c5_row16_col18,#T_ff5c5_row16_col20,#T_ff5c5_row17_col7,#T_ff5c5_row18_col6,#T_ff5c5_row18_col10,#T_ff5c5_row20_col16,#T_ff5c5_row20_col25,#T_ff5c5_row22_col28,#T_ff5c5_row23_col27,#T_ff5c5_row29_col10{\n",
       "            background-color:  #4c66d6;\n",
       "            color:  #000000;\n",
       "        }#T_ff5c5_row0_col15,#T_ff5c5_row6_col10,#T_ff5c5_row6_col24,#T_ff5c5_row8_col17,#T_ff5c5_row10_col6,#T_ff5c5_row14_col21,#T_ff5c5_row15_col23,#T_ff5c5_row15_col25,#T_ff5c5_row16_col25,#T_ff5c5_row23_col12,#T_ff5c5_row29_col21{\n",
       "            background-color:  #6282ea;\n",
       "            color:  #000000;\n",
       "        }#T_ff5c5_row0_col16,#T_ff5c5_row4_col13,#T_ff5c5_row9_col13,#T_ff5c5_row9_col21,#T_ff5c5_row12_col20,#T_ff5c5_row19_col7,#T_ff5c5_row25_col20,#T_ff5c5_row29_col20,#T_ff5c5_row30_col21{\n",
       "            background-color:  #4257c9;\n",
       "            color:  #f1f1f1;\n",
       "        }#T_ff5c5_row0_col17,#T_ff5c5_row7_col22,#T_ff5c5_row13_col30,#T_ff5c5_row14_col6,#T_ff5c5_row15_col18,#T_ff5c5_row16_col10,#T_ff5c5_row16_col15,#T_ff5c5_row16_col21,#T_ff5c5_row20_col7,#T_ff5c5_row28_col30,#T_ff5c5_row29_col6{\n",
       "            background-color:  #4a63d3;\n",
       "            color:  #f1f1f1;\n",
       "        }#T_ff5c5_row0_col18,#T_ff5c5_row8_col29,#T_ff5c5_row13_col2,#T_ff5c5_row13_col3,#T_ff5c5_row13_col5,#T_ff5c5_row13_col15,#T_ff5c5_row13_col19,#T_ff5c5_row16_col24,#T_ff5c5_row20_col18,#T_ff5c5_row24_col6,#T_ff5c5_row28_col15,#T_ff5c5_row28_col21,#T_ff5c5_row30_col2,#T_ff5c5_row30_col5{\n",
       "            background-color:  #5572df;\n",
       "            color:  #000000;\n",
       "        }#T_ff5c5_row0_col19,#T_ff5c5_row7_col20,#T_ff5c5_row17_col13,#T_ff5c5_row20_col13{\n",
       "            background-color:  #3d50c3;\n",
       "            color:  #f1f1f1;\n",
       "        }#T_ff5c5_row0_col20,#T_ff5c5_row1_col21,#T_ff5c5_row6_col14,#T_ff5c5_row8_col21,#T_ff5c5_row10_col15,#T_ff5c5_row11_col24,#T_ff5c5_row13_col18,#T_ff5c5_row15_col14,#T_ff5c5_row15_col29,#T_ff5c5_row19_col27,#T_ff5c5_row19_col28,#T_ff5c5_row20_col6,#T_ff5c5_row21_col30,#T_ff5c5_row23_col18,#T_ff5c5_row24_col15,#T_ff5c5_row27_col17,#T_ff5c5_row28_col18,#T_ff5c5_row28_col20,#T_ff5c5_row30_col17{\n",
       "            background-color:  #4f69d9;\n",
       "            color:  #000000;\n",
       "        }#T_ff5c5_row0_col21,#T_ff5c5_row1_col23,#T_ff5c5_row7_col30,#T_ff5c5_row11_col10,#T_ff5c5_row12_col30,#T_ff5c5_row14_col30,#T_ff5c5_row15_col6,#T_ff5c5_row18_col30,#T_ff5c5_row19_col15,#T_ff5c5_row20_col21,#T_ff5c5_row25_col30,#T_ff5c5_row29_col30{\n",
       "            background-color:  #4961d2;\n",
       "            color:  #f1f1f1;\n",
       "        }#T_ff5c5_row0_col22,#T_ff5c5_row20_col19{\n",
       "            background-color:  #b2ccfb;\n",
       "            color:  #000000;\n",
       "        }#T_ff5c5_row0_col23,#T_ff5c5_row2_col0,#T_ff5c5_row3_col0,#T_ff5c5_row5_col0,#T_ff5c5_row8_col1,#T_ff5c5_row13_col7,#T_ff5c5_row14_col7,#T_ff5c5_row18_col7,#T_ff5c5_row21_col16,#T_ff5c5_row21_col20,#T_ff5c5_row22_col24,#T_ff5c5_row29_col7{\n",
       "            background-color:  #6788ee;\n",
       "            color:  #000000;\n",
       "        }#T_ff5c5_row0_col24,#T_ff5c5_row3_col14,#T_ff5c5_row6_col20,#T_ff5c5_row7_col16,#T_ff5c5_row9_col6,#T_ff5c5_row13_col24,#T_ff5c5_row14_col27,#T_ff5c5_row18_col27,#T_ff5c5_row22_col14,#T_ff5c5_row22_col18,#T_ff5c5_row23_col28,#T_ff5c5_row29_col27{\n",
       "            background-color:  #5b7ae5;\n",
       "            color:  #000000;\n",
       "        }#T_ff5c5_row0_col26,#T_ff5c5_row1_col26,#T_ff5c5_row2_col26,#T_ff5c5_row3_col26,#T_ff5c5_row4_col26,#T_ff5c5_row5_col26,#T_ff5c5_row6_col26,#T_ff5c5_row7_col26,#T_ff5c5_row8_col26,#T_ff5c5_row9_col26,#T_ff5c5_row10_col26,#T_ff5c5_row11_col26,#T_ff5c5_row12_col26,#T_ff5c5_row13_col26,#T_ff5c5_row14_col26,#T_ff5c5_row15_col26,#T_ff5c5_row16_col26,#T_ff5c5_row17_col26,#T_ff5c5_row18_col26,#T_ff5c5_row19_col26,#T_ff5c5_row20_col26,#T_ff5c5_row21_col26,#T_ff5c5_row22_col26,#T_ff5c5_row23_col26,#T_ff5c5_row24_col26,#T_ff5c5_row25_col26,#T_ff5c5_row26_col0,#T_ff5c5_row26_col1,#T_ff5c5_row26_col2,#T_ff5c5_row26_col3,#T_ff5c5_row26_col4,#T_ff5c5_row26_col5,#T_ff5c5_row26_col6,#T_ff5c5_row26_col7,#T_ff5c5_row26_col8,#T_ff5c5_row26_col9,#T_ff5c5_row26_col10,#T_ff5c5_row26_col11,#T_ff5c5_row26_col12,#T_ff5c5_row26_col13,#T_ff5c5_row26_col14,#T_ff5c5_row26_col15,#T_ff5c5_row26_col16,#T_ff5c5_row26_col17,#T_ff5c5_row26_col18,#T_ff5c5_row26_col19,#T_ff5c5_row26_col20,#T_ff5c5_row26_col21,#T_ff5c5_row26_col22,#T_ff5c5_row26_col23,#T_ff5c5_row26_col24,#T_ff5c5_row26_col25,#T_ff5c5_row26_col26,#T_ff5c5_row26_col27,#T_ff5c5_row26_col28,#T_ff5c5_row26_col29,#T_ff5c5_row26_col30,#T_ff5c5_row27_col26,#T_ff5c5_row28_col26,#T_ff5c5_row29_col26,#T_ff5c5_row30_col26{\n",
       "            background-color:  #000000;\n",
       "            color:  #f1f1f1;\n",
       "        }#T_ff5c5_row0_col28,#T_ff5c5_row2_col27,#T_ff5c5_row3_col6,#T_ff5c5_row3_col27,#T_ff5c5_row5_col6,#T_ff5c5_row5_col27,#T_ff5c5_row11_col0,#T_ff5c5_row15_col8,#T_ff5c5_row15_col9,#T_ff5c5_row18_col1,#T_ff5c5_row24_col11,#T_ff5c5_row27_col23,#T_ff5c5_row29_col1,#T_ff5c5_row29_col19{\n",
       "            background-color:  #6e90f2;\n",
       "            color:  #000000;\n",
       "        }#T_ff5c5_row1_col0{\n",
       "            background-color:  #c7d7f0;\n",
       "            color:  #000000;\n",
       "        }#T_ff5c5_row1_col2,#T_ff5c5_row1_col5,#T_ff5c5_row2_col23,#T_ff5c5_row7_col4,#T_ff5c5_row12_col9,#T_ff5c5_row14_col23,#T_ff5c5_row15_col0,#T_ff5c5_row16_col23,#T_ff5c5_row19_col1,#T_ff5c5_row19_col6,#T_ff5c5_row21_col0,#T_ff5c5_row21_col25,#T_ff5c5_row24_col12,#T_ff5c5_row29_col23{\n",
       "            background-color:  #92b4fe;\n",
       "            color:  #000000;\n",
       "        }#T_ff5c5_row1_col3,#T_ff5c5_row3_col23,#T_ff5c5_row5_col23,#T_ff5c5_row6_col9,#T_ff5c5_row7_col9,#T_ff5c5_row20_col2,#T_ff5c5_row20_col3,#T_ff5c5_row20_col5,#T_ff5c5_row22_col8,#T_ff5c5_row22_col17,#T_ff5c5_row24_col4,#T_ff5c5_row25_col24,#T_ff5c5_row27_col10{\n",
       "            background-color:  #90b2fe;\n",
       "            color:  #000000;\n",
       "        }#T_ff5c5_row1_col4,#T_ff5c5_row12_col28{\n",
       "            background-color:  #cedaeb;\n",
       "            color:  #000000;\n",
       "        }#T_ff5c5_row1_col7,#T_ff5c5_row7_col15,#T_ff5c5_row10_col29,#T_ff5c5_row16_col17,#T_ff5c5_row17_col27,#T_ff5c5_row18_col15,#T_ff5c5_row22_col19,#T_ff5c5_row22_col30,#T_ff5c5_row24_col29,#T_ff5c5_row27_col15,#T_ff5c5_row27_col19,#T_ff5c5_row27_col20,#T_ff5c5_row27_col29,#T_ff5c5_row30_col29{\n",
       "            background-color:  #516ddb;\n",
       "            color:  #000000;\n",
       "        }#T_ff5c5_row1_col8,#T_ff5c5_row6_col3,#T_ff5c5_row6_col11,#T_ff5c5_row6_col28,#T_ff5c5_row8_col2,#T_ff5c5_row8_col3,#T_ff5c5_row8_col5,#T_ff5c5_row9_col20,#T_ff5c5_row24_col9,#T_ff5c5_row25_col8,#T_ff5c5_row28_col23,#T_ff5c5_row28_col24{\n",
       "            background-color:  #7a9df8;\n",
       "            color:  #000000;\n",
       "        }#T_ff5c5_row1_col9,#T_ff5c5_row4_col20,#T_ff5c5_row11_col23{\n",
       "            background-color:  #b6cefa;\n",
       "            color:  #000000;\n",
       "        }#T_ff5c5_row1_col10,#T_ff5c5_row10_col17,#T_ff5c5_row11_col30,#T_ff5c5_row15_col10,#T_ff5c5_row21_col13{\n",
       "            background-color:  #465ecf;\n",
       "            color:  #f1f1f1;\n",
       "        }#T_ff5c5_row1_col11,#T_ff5c5_row8_col13,#T_ff5c5_row8_col18,#T_ff5c5_row11_col29,#T_ff5c5_row12_col19,#T_ff5c5_row14_col17,#T_ff5c5_row18_col19,#T_ff5c5_row18_col21,#T_ff5c5_row19_col12,#T_ff5c5_row22_col10,#T_ff5c5_row23_col6,#T_ff5c5_row23_col10,#T_ff5c5_row23_col13,#T_ff5c5_row28_col1,#T_ff5c5_row29_col17,#T_ff5c5_row30_col10{\n",
       "            background-color:  #4b64d5;\n",
       "            color:  #f1f1f1;\n",
       "        }#T_ff5c5_row1_col13,#T_ff5c5_row2_col13,#T_ff5c5_row3_col13,#T_ff5c5_row5_col13,#T_ff5c5_row13_col21,#T_ff5c5_row17_col30,#T_ff5c5_row22_col11{\n",
       "            background-color:  #3e51c5;\n",
       "            color:  #f1f1f1;\n",
       "        }#T_ff5c5_row1_col14,#T_ff5c5_row1_col29,#T_ff5c5_row6_col15,#T_ff5c5_row6_col16,#T_ff5c5_row9_col18,#T_ff5c5_row9_col24,#T_ff5c5_row12_col22,#T_ff5c5_row16_col14,#T_ff5c5_row16_col29,#T_ff5c5_row17_col16,#T_ff5c5_row19_col30,#T_ff5c5_row22_col13,#T_ff5c5_row25_col22,#T_ff5c5_row28_col17,#T_ff5c5_row28_col19,#T_ff5c5_row30_col15,#T_ff5c5_row30_col20{\n",
       "            background-color:  #506bda;\n",
       "            color:  #000000;\n",
       "        }#T_ff5c5_row1_col15,#T_ff5c5_row4_col27,#T_ff5c5_row9_col28,#T_ff5c5_row11_col21,#T_ff5c5_row13_col1,#T_ff5c5_row15_col20,#T_ff5c5_row21_col10,#T_ff5c5_row22_col15{\n",
       "            background-color:  #6a8bef;\n",
       "            color:  #000000;\n",
       "        }#T_ff5c5_row1_col16,#T_ff5c5_row11_col15,#T_ff5c5_row11_col17,#T_ff5c5_row11_col20,#T_ff5c5_row19_col10,#T_ff5c5_row20_col10{\n",
       "            background-color:  #3c4ec2;\n",
       "            color:  #f1f1f1;\n",
       "        }#T_ff5c5_row1_col17,#T_ff5c5_row1_col20,#T_ff5c5_row9_col0,#T_ff5c5_row29_col13{\n",
       "            background-color:  #aec9fc;\n",
       "            color:  #000000;\n",
       "        }#T_ff5c5_row1_col19,#T_ff5c5_row2_col7,#T_ff5c5_row5_col7,#T_ff5c5_row7_col21,#T_ff5c5_row13_col23,#T_ff5c5_row14_col9,#T_ff5c5_row15_col4,#T_ff5c5_row17_col21{\n",
       "            background-color:  #84a7fc;\n",
       "            color:  #000000;\n",
       "        }#T_ff5c5_row1_col22{\n",
       "            background-color:  #cdd9ec;\n",
       "            color:  #000000;\n",
       "        }#T_ff5c5_row1_col24,#T_ff5c5_row6_col29,#T_ff5c5_row6_col30,#T_ff5c5_row7_col18,#T_ff5c5_row10_col19,#T_ff5c5_row11_col6,#T_ff5c5_row12_col18,#T_ff5c5_row13_col6,#T_ff5c5_row13_col10,#T_ff5c5_row14_col18,#T_ff5c5_row15_col16,#T_ff5c5_row17_col25,#T_ff5c5_row24_col18,#T_ff5c5_row25_col18,#T_ff5c5_row27_col18,#T_ff5c5_row29_col18,#T_ff5c5_row30_col18{\n",
       "            background-color:  #4e68d8;\n",
       "            color:  #000000;\n",
       "        }#T_ff5c5_row1_col27,#T_ff5c5_row3_col30,#T_ff5c5_row7_col13,#T_ff5c5_row10_col13,#T_ff5c5_row12_col13,#T_ff5c5_row16_col30,#T_ff5c5_row18_col13,#T_ff5c5_row24_col13,#T_ff5c5_row25_col1,#T_ff5c5_row25_col13,#T_ff5c5_row27_col13,#T_ff5c5_row28_col13,#T_ff5c5_row30_col13{\n",
       "            background-color:  #455cce;\n",
       "            color:  #f1f1f1;\n",
       "        }#T_ff5c5_row2_col1,#T_ff5c5_row5_col1,#T_ff5c5_row6_col4,#T_ff5c5_row21_col11,#T_ff5c5_row25_col10{\n",
       "            background-color:  #a3c2fe;\n",
       "            color:  #000000;\n",
       "        }#T_ff5c5_row2_col3,#T_ff5c5_row3_col2{\n",
       "            background-color:  #b50927;\n",
       "            color:  #f1f1f1;\n",
       "        }#T_ff5c5_row2_col4,#T_ff5c5_row5_col4{\n",
       "            background-color:  #f08a6c;\n",
       "            color:  #000000;\n",
       "        }#T_ff5c5_row2_col6,#T_ff5c5_row3_col16,#T_ff5c5_row3_col18,#T_ff5c5_row4_col6,#T_ff5c5_row9_col12,#T_ff5c5_row23_col2,#T_ff5c5_row23_col3,#T_ff5c5_row23_col5,#T_ff5c5_row23_col16,#T_ff5c5_row28_col2,#T_ff5c5_row28_col5{\n",
       "            background-color:  #6f92f3;\n",
       "            color:  #000000;\n",
       "        }#T_ff5c5_row2_col8,#T_ff5c5_row3_col8,#T_ff5c5_row5_col8,#T_ff5c5_row12_col4,#T_ff5c5_row16_col4,#T_ff5c5_row23_col8{\n",
       "            background-color:  #9fbfff;\n",
       "            color:  #000000;\n",
       "        }#T_ff5c5_row2_col9,#T_ff5c5_row2_col25,#T_ff5c5_row3_col9,#T_ff5c5_row3_col25,#T_ff5c5_row5_col9,#T_ff5c5_row5_col25,#T_ff5c5_row11_col2,#T_ff5c5_row11_col3,#T_ff5c5_row11_col5,#T_ff5c5_row13_col0,#T_ff5c5_row13_col4,#T_ff5c5_row18_col9,#T_ff5c5_row28_col10,#T_ff5c5_row30_col4{\n",
       "            background-color:  #85a8fc;\n",
       "            color:  #000000;\n",
       "        }#T_ff5c5_row2_col11,#T_ff5c5_row3_col11,#T_ff5c5_row5_col11,#T_ff5c5_row6_col19,#T_ff5c5_row7_col24,#T_ff5c5_row8_col4,#T_ff5c5_row17_col9,#T_ff5c5_row20_col9{\n",
       "            background-color:  #a1c0ff;\n",
       "            color:  #000000;\n",
       "        }#T_ff5c5_row2_col12,#T_ff5c5_row2_col20,#T_ff5c5_row3_col20,#T_ff5c5_row4_col23,#T_ff5c5_row5_col20,#T_ff5c5_row23_col30,#T_ff5c5_row25_col9,#T_ff5c5_row28_col4{\n",
       "            background-color:  #8fb1fe;\n",
       "            color:  #000000;\n",
       "        }#T_ff5c5_row2_col14,#T_ff5c5_row3_col29,#T_ff5c5_row5_col14,#T_ff5c5_row5_col29,#T_ff5c5_row6_col1,#T_ff5c5_row8_col24,#T_ff5c5_row9_col2,#T_ff5c5_row9_col3,#T_ff5c5_row9_col5,#T_ff5c5_row11_col18,#T_ff5c5_row11_col28,#T_ff5c5_row13_col27,#T_ff5c5_row15_col12,#T_ff5c5_row17_col11,#T_ff5c5_row17_col12,#T_ff5c5_row20_col11,#T_ff5c5_row23_col7,#T_ff5c5_row23_col21,#T_ff5c5_row23_col25,#T_ff5c5_row24_col21{\n",
       "            background-color:  #5d7ce6;\n",
       "            color:  #000000;\n",
       "        }#T_ff5c5_row2_col15,#T_ff5c5_row7_col1,#T_ff5c5_row8_col7,#T_ff5c5_row8_col25,#T_ff5c5_row8_col28,#T_ff5c5_row9_col27,#T_ff5c5_row11_col12,#T_ff5c5_row13_col16,#T_ff5c5_row30_col27{\n",
       "            background-color:  #5a78e4;\n",
       "            color:  #000000;\n",
       "        }#T_ff5c5_row2_col16,#T_ff5c5_row2_col18,#T_ff5c5_row5_col16,#T_ff5c5_row5_col18,#T_ff5c5_row9_col25,#T_ff5c5_row10_col24,#T_ff5c5_row16_col0,#T_ff5c5_row16_col3,#T_ff5c5_row23_col0,#T_ff5c5_row28_col3{\n",
       "            background-color:  #7093f3;\n",
       "            color:  #000000;\n",
       "        }#T_ff5c5_row2_col17,#T_ff5c5_row3_col17,#T_ff5c5_row5_col17,#T_ff5c5_row11_col4,#T_ff5c5_row16_col11,#T_ff5c5_row21_col19,#T_ff5c5_row23_col11{\n",
       "            background-color:  #b3cdfb;\n",
       "            color:  #000000;\n",
       "        }#T_ff5c5_row2_col19,#T_ff5c5_row5_col19,#T_ff5c5_row27_col28{\n",
       "            background-color:  #bcd2f7;\n",
       "            color:  #000000;\n",
       "        }#T_ff5c5_row2_col22,#T_ff5c5_row3_col22,#T_ff5c5_row4_col8,#T_ff5c5_row5_col22,#T_ff5c5_row21_col12,#T_ff5c5_row21_col17{\n",
       "            background-color:  #9ebeff;\n",
       "            color:  #000000;\n",
       "        }#T_ff5c5_row2_col24,#T_ff5c5_row3_col24,#T_ff5c5_row5_col24,#T_ff5c5_row8_col0,#T_ff5c5_row14_col1,#T_ff5c5_row14_col19,#T_ff5c5_row18_col17,#T_ff5c5_row19_col9,#T_ff5c5_row22_col23,#T_ff5c5_row24_col2,#T_ff5c5_row24_col3,#T_ff5c5_row24_col5,#T_ff5c5_row27_col2,#T_ff5c5_row27_col3,#T_ff5c5_row27_col5{\n",
       "            background-color:  #6c8ff1;\n",
       "            color:  #000000;\n",
       "        }#T_ff5c5_row2_col28,#T_ff5c5_row4_col7,#T_ff5c5_row5_col28,#T_ff5c5_row7_col11,#T_ff5c5_row7_col23,#T_ff5c5_row10_col22,#T_ff5c5_row14_col11,#T_ff5c5_row25_col11,#T_ff5c5_row29_col11{\n",
       "            background-color:  #7396f5;\n",
       "            color:  #000000;\n",
       "        }#T_ff5c5_row2_col29,#T_ff5c5_row11_col25,#T_ff5c5_row15_col2,#T_ff5c5_row15_col3,#T_ff5c5_row15_col5,#T_ff5c5_row15_col28,#T_ff5c5_row16_col28,#T_ff5c5_row17_col15,#T_ff5c5_row21_col18,#T_ff5c5_row24_col19,#T_ff5c5_row27_col16,#T_ff5c5_row27_col21{\n",
       "            background-color:  #5e7de7;\n",
       "            color:  #000000;\n",
       "        }#T_ff5c5_row2_col30,#T_ff5c5_row5_col30,#T_ff5c5_row6_col13,#T_ff5c5_row11_col9,#T_ff5c5_row15_col13,#T_ff5c5_row15_col30,#T_ff5c5_row16_col6,#T_ff5c5_row16_col13,#T_ff5c5_row17_col14,#T_ff5c5_row17_col29,#T_ff5c5_row19_col25,#T_ff5c5_row25_col17{\n",
       "            background-color:  #445acc;\n",
       "            color:  #f1f1f1;\n",
       "        }#T_ff5c5_row3_col1{\n",
       "            background-color:  #a2c1ff;\n",
       "            color:  #000000;\n",
       "        }#T_ff5c5_row3_col4{\n",
       "            background-color:  #f18d6f;\n",
       "            color:  #000000;\n",
       "        }#T_ff5c5_row3_col7,#T_ff5c5_row6_col8,#T_ff5c5_row8_col22,#T_ff5c5_row10_col8,#T_ff5c5_row15_col1,#T_ff5c5_row16_col8,#T_ff5c5_row18_col22,#T_ff5c5_row21_col1,#T_ff5c5_row24_col22{\n",
       "            background-color:  #82a6fb;\n",
       "            color:  #000000;\n",
       "        }#T_ff5c5_row3_col10,#T_ff5c5_row8_col19,#T_ff5c5_row14_col2,#T_ff5c5_row14_col25,#T_ff5c5_row16_col9,#T_ff5c5_row18_col25,#T_ff5c5_row19_col0,#T_ff5c5_row23_col22,#T_ff5c5_row24_col10,#T_ff5c5_row28_col22,#T_ff5c5_row29_col3,#T_ff5c5_row29_col25,#T_ff5c5_row30_col25{\n",
       "            background-color:  #6485ec;\n",
       "            color:  #000000;\n",
       "        }#T_ff5c5_row3_col12,#T_ff5c5_row5_col12,#T_ff5c5_row8_col11,#T_ff5c5_row18_col0,#T_ff5c5_row27_col0,#T_ff5c5_row28_col9{\n",
       "            background-color:  #8db0fe;\n",
       "            color:  #000000;\n",
       "        }#T_ff5c5_row3_col15,#T_ff5c5_row4_col14,#T_ff5c5_row4_col29,#T_ff5c5_row5_col15,#T_ff5c5_row12_col16,#T_ff5c5_row14_col24,#T_ff5c5_row15_col27,#T_ff5c5_row18_col24,#T_ff5c5_row19_col24,#T_ff5c5_row22_col29,#T_ff5c5_row27_col1,#T_ff5c5_row28_col16,#T_ff5c5_row29_col24,#T_ff5c5_row30_col24{\n",
       "            background-color:  #5977e3;\n",
       "            color:  #000000;\n",
       "        }#T_ff5c5_row3_col19{\n",
       "            background-color:  #bbd1f8;\n",
       "            color:  #000000;\n",
       "        }#T_ff5c5_row3_col21,#T_ff5c5_row17_col6,#T_ff5c5_row19_col3{\n",
       "            background-color:  #b7cff9;\n",
       "            color:  #000000;\n",
       "        }#T_ff5c5_row3_col28,#T_ff5c5_row4_col16,#T_ff5c5_row9_col7,#T_ff5c5_row10_col11,#T_ff5c5_row12_col11,#T_ff5c5_row30_col9{\n",
       "            background-color:  #7597f6;\n",
       "            color:  #000000;\n",
       "        }#T_ff5c5_row4_col1,#T_ff5c5_row6_col17{\n",
       "            background-color:  #c0d4f5;\n",
       "            color:  #000000;\n",
       "        }#T_ff5c5_row4_col2,#T_ff5c5_row4_col5{\n",
       "            background-color:  #f4987a;\n",
       "            color:  #000000;\n",
       "        }#T_ff5c5_row4_col3,#T_ff5c5_row25_col7{\n",
       "            background-color:  #f59c7d;\n",
       "            color:  #000000;\n",
       "        }#T_ff5c5_row4_col9,#T_ff5c5_row18_col2,#T_ff5c5_row18_col5,#T_ff5c5_row20_col0,#T_ff5c5_row25_col6,#T_ff5c5_row29_col22,#T_ff5c5_row30_col22{\n",
       "            background-color:  #7da0f9;\n",
       "            color:  #000000;\n",
       "        }#T_ff5c5_row4_col10,#T_ff5c5_row7_col14,#T_ff5c5_row7_col29,#T_ff5c5_row10_col14,#T_ff5c5_row12_col1,#T_ff5c5_row12_col14,#T_ff5c5_row12_col15,#T_ff5c5_row12_col29,#T_ff5c5_row13_col20,#T_ff5c5_row14_col15,#T_ff5c5_row15_col19,#T_ff5c5_row16_col1,#T_ff5c5_row18_col14,#T_ff5c5_row18_col29,#T_ff5c5_row24_col14,#T_ff5c5_row25_col14,#T_ff5c5_row25_col15,#T_ff5c5_row25_col29,#T_ff5c5_row27_col14,#T_ff5c5_row28_col29,#T_ff5c5_row29_col15,#T_ff5c5_row30_col6,#T_ff5c5_row30_col14{\n",
       "            background-color:  #536edd;\n",
       "            color:  #000000;\n",
       "        }#T_ff5c5_row4_col11,#T_ff5c5_row7_col0{\n",
       "            background-color:  #a9c6fd;\n",
       "            color:  #000000;\n",
       "        }#T_ff5c5_row4_col12,#T_ff5c5_row6_col2,#T_ff5c5_row6_col5,#T_ff5c5_row6_col22,#T_ff5c5_row6_col23,#T_ff5c5_row9_col17,#T_ff5c5_row10_col23,#T_ff5c5_row12_col8,#T_ff5c5_row18_col3,#T_ff5c5_row21_col24,#T_ff5c5_row25_col2,#T_ff5c5_row25_col3,#T_ff5c5_row25_col5{\n",
       "            background-color:  #7b9ff9;\n",
       "            color:  #000000;\n",
       "        }#T_ff5c5_row4_col15,#T_ff5c5_row9_col14,#T_ff5c5_row13_col17,#T_ff5c5_row15_col24,#T_ff5c5_row17_col28,#T_ff5c5_row20_col27,#T_ff5c5_row20_col28,#T_ff5c5_row21_col15,#T_ff5c5_row22_col6,#T_ff5c5_row24_col16,#T_ff5c5_row27_col22,#T_ff5c5_row28_col14{\n",
       "            background-color:  #5470de;\n",
       "            color:  #000000;\n",
       "        }#T_ff5c5_row4_col17,#T_ff5c5_row27_col25{\n",
       "            background-color:  #e2dad5;\n",
       "            color:  #000000;\n",
       "        }#T_ff5c5_row4_col19{\n",
       "            background-color:  #e4d9d2;\n",
       "            color:  #000000;\n",
       "        }#T_ff5c5_row4_col21,#T_ff5c5_row7_col10{\n",
       "            background-color:  #c1d4f4;\n",
       "            color:  #000000;\n",
       "        }#T_ff5c5_row4_col22,#T_ff5c5_row22_col2,#T_ff5c5_row22_col3,#T_ff5c5_row22_col5,#T_ff5c5_row24_col8,#T_ff5c5_row27_col8,#T_ff5c5_row29_col8,#T_ff5c5_row29_col9,#T_ff5c5_row30_col8{\n",
       "            background-color:  #86a9fc;\n",
       "            color:  #000000;\n",
       "        }#T_ff5c5_row4_col25,#T_ff5c5_row25_col23,#T_ff5c5_row27_col11{\n",
       "            background-color:  #7699f6;\n",
       "            color:  #000000;\n",
       "        }#T_ff5c5_row4_col30,#T_ff5c5_row9_col19,#T_ff5c5_row10_col20,#T_ff5c5_row10_col30,#T_ff5c5_row20_col12,#T_ff5c5_row24_col30,#T_ff5c5_row27_col30{\n",
       "            background-color:  #485fd1;\n",
       "            color:  #f1f1f1;\n",
       "        }#T_ff5c5_row6_col0,#T_ff5c5_row12_col6,#T_ff5c5_row21_col6,#T_ff5c5_row21_col23{\n",
       "            background-color:  #9bbcff;\n",
       "            color:  #000000;\n",
       "        }#T_ff5c5_row6_col12,#T_ff5c5_row18_col4,#T_ff5c5_row21_col7{\n",
       "            background-color:  #aac7fd;\n",
       "            color:  #000000;\n",
       "        }#T_ff5c5_row6_col25,#T_ff5c5_row27_col4{\n",
       "            background-color:  #93b5fe;\n",
       "            color:  #000000;\n",
       "        }#T_ff5c5_row7_col2,#T_ff5c5_row7_col3,#T_ff5c5_row7_col5,#T_ff5c5_row7_col8,#T_ff5c5_row17_col0,#T_ff5c5_row28_col11,#T_ff5c5_row30_col11{\n",
       "            background-color:  #779af7;\n",
       "            color:  #000000;\n",
       "        }#T_ff5c5_row7_col6,#T_ff5c5_row11_col8,#T_ff5c5_row11_col19,#T_ff5c5_row23_col4,#T_ff5c5_row25_col4{\n",
       "            background-color:  #97b8ff;\n",
       "            color:  #000000;\n",
       "        }#T_ff5c5_row7_col12{\n",
       "            background-color:  #f6a586;\n",
       "            color:  #000000;\n",
       "        }#T_ff5c5_row7_col17,#T_ff5c5_row8_col15,#T_ff5c5_row9_col15,#T_ff5c5_row22_col25,#T_ff5c5_row23_col17,#T_ff5c5_row23_col20,#T_ff5c5_row25_col19{\n",
       "            background-color:  #3f53c6;\n",
       "            color:  #f1f1f1;\n",
       "        }#T_ff5c5_row7_col25{\n",
       "            background-color:  #f59d7e;\n",
       "            color:  #000000;\n",
       "        }#T_ff5c5_row7_col27{\n",
       "            background-color:  #f2c9b4;\n",
       "            color:  #000000;\n",
       "        }#T_ff5c5_row7_col28{\n",
       "            background-color:  #dddcdc;\n",
       "            color:  #000000;\n",
       "        }#T_ff5c5_row8_col12,#T_ff5c5_row8_col14,#T_ff5c5_row8_col16,#T_ff5c5_row8_col20,#T_ff5c5_row9_col10,#T_ff5c5_row10_col21,#T_ff5c5_row11_col27,#T_ff5c5_row16_col22,#T_ff5c5_row18_col16,#T_ff5c5_row25_col16{\n",
       "            background-color:  #5875e1;\n",
       "            color:  #000000;\n",
       "        }#T_ff5c5_row8_col23,#T_ff5c5_row10_col0,#T_ff5c5_row20_col22,#T_ff5c5_row25_col0{\n",
       "            background-color:  #9abbff;\n",
       "            color:  #000000;\n",
       "        }#T_ff5c5_row8_col27,#T_ff5c5_row11_col7,#T_ff5c5_row14_col28,#T_ff5c5_row18_col28,#T_ff5c5_row29_col28,#T_ff5c5_row30_col12,#T_ff5c5_row30_col28{\n",
       "            background-color:  #5f7fe8;\n",
       "            color:  #000000;\n",
       "        }#T_ff5c5_row9_col1,#T_ff5c5_row17_col22{\n",
       "            background-color:  #a7c5fe;\n",
       "            color:  #000000;\n",
       "        }#T_ff5c5_row9_col4,#T_ff5c5_row22_col20,#T_ff5c5_row28_col8{\n",
       "            background-color:  #80a3fa;\n",
       "            color:  #000000;\n",
       "        }#T_ff5c5_row9_col22{\n",
       "            background-color:  #c9d7f0;\n",
       "            color:  #000000;\n",
       "        }#T_ff5c5_row9_col29,#T_ff5c5_row10_col16,#T_ff5c5_row12_col17,#T_ff5c5_row14_col16,#T_ff5c5_row29_col16,#T_ff5c5_row30_col3,#T_ff5c5_row30_col16{\n",
       "            background-color:  #5673e0;\n",
       "            color:  #000000;\n",
       "        }#T_ff5c5_row10_col2,#T_ff5c5_row10_col3,#T_ff5c5_row10_col5,#T_ff5c5_row16_col2,#T_ff5c5_row16_col5,#T_ff5c5_row19_col16{\n",
       "            background-color:  #7295f4;\n",
       "            color:  #000000;\n",
       "        }#T_ff5c5_row10_col7,#T_ff5c5_row22_col9{\n",
       "            background-color:  #d1dae9;\n",
       "            color:  #000000;\n",
       "        }#T_ff5c5_row10_col25,#T_ff5c5_row17_col2,#T_ff5c5_row17_col3,#T_ff5c5_row17_col5{\n",
       "            background-color:  #b5cdfa;\n",
       "            color:  #000000;\n",
       "        }#T_ff5c5_row10_col27,#T_ff5c5_row12_col0{\n",
       "            background-color:  #9dbdff;\n",
       "            color:  #000000;\n",
       "        }#T_ff5c5_row10_col28,#T_ff5c5_row21_col8,#T_ff5c5_row27_col24,#T_ff5c5_row28_col0{\n",
       "            background-color:  #94b6ff;\n",
       "            color:  #000000;\n",
       "        }#T_ff5c5_row11_col1,#T_ff5c5_row14_col20,#T_ff5c5_row20_col30,#T_ff5c5_row23_col9{\n",
       "            background-color:  #4055c8;\n",
       "            color:  #f1f1f1;\n",
       "        }#T_ff5c5_row11_col16,#T_ff5c5_row21_col22,#T_ff5c5_row24_col23,#T_ff5c5_row24_col25{\n",
       "            background-color:  #98b9ff;\n",
       "            color:  #000000;\n",
       "        }#T_ff5c5_row12_col2,#T_ff5c5_row12_col5,#T_ff5c5_row15_col22,#T_ff5c5_row17_col8,#T_ff5c5_row19_col23,#T_ff5c5_row21_col9,#T_ff5c5_row30_col0{\n",
       "            background-color:  #89acfd;\n",
       "            color:  #000000;\n",
       "        }#T_ff5c5_row12_col3,#T_ff5c5_row14_col8,#T_ff5c5_row18_col11,#T_ff5c5_row19_col8,#T_ff5c5_row24_col0{\n",
       "            background-color:  #88abfd;\n",
       "            color:  #000000;\n",
       "        }#T_ff5c5_row12_col7{\n",
       "            background-color:  #f6a385;\n",
       "            color:  #000000;\n",
       "        }#T_ff5c5_row12_col21,#T_ff5c5_row12_col23,#T_ff5c5_row14_col22,#T_ff5c5_row18_col23,#T_ff5c5_row21_col27,#T_ff5c5_row24_col28,#T_ff5c5_row27_col6{\n",
       "            background-color:  #7ea1fa;\n",
       "            color:  #000000;\n",
       "        }#T_ff5c5_row12_col25{\n",
       "            background-color:  #f18f71;\n",
       "            color:  #000000;\n",
       "        }#T_ff5c5_row12_col27{\n",
       "            background-color:  #e1dad6;\n",
       "            color:  #000000;\n",
       "        }#T_ff5c5_row13_col8,#T_ff5c5_row14_col4{\n",
       "            background-color:  #8badfd;\n",
       "            color:  #000000;\n",
       "        }#T_ff5c5_row13_col9,#T_ff5c5_row13_col22,#T_ff5c5_row14_col0,#T_ff5c5_row18_col8,#T_ff5c5_row20_col8,#T_ff5c5_row27_col9,#T_ff5c5_row29_col0{\n",
       "            background-color:  #81a4fb;\n",
       "            color:  #000000;\n",
       "        }#T_ff5c5_row13_col14{\n",
       "            background-color:  #e5d8d1;\n",
       "            color:  #000000;\n",
       "        }#T_ff5c5_row14_col13,#T_ff5c5_row25_col27{\n",
       "            background-color:  #dfdbd9;\n",
       "            color:  #000000;\n",
       "        }#T_ff5c5_row14_col29,#T_ff5c5_row29_col14{\n",
       "            background-color:  #bb1b2c;\n",
       "            color:  #f1f1f1;\n",
       "        }#T_ff5c5_row17_col1,#T_ff5c5_row20_col1{\n",
       "            background-color:  #bed2f6;\n",
       "            color:  #000000;\n",
       "        }#T_ff5c5_row17_col4{\n",
       "            background-color:  #f1cdba;\n",
       "            color:  #000000;\n",
       "        }#T_ff5c5_row17_col19{\n",
       "            background-color:  #e8d6cc;\n",
       "            color:  #000000;\n",
       "        }#T_ff5c5_row17_col20,#T_ff5c5_row20_col17{\n",
       "            background-color:  #f7bca1;\n",
       "            color:  #000000;\n",
       "        }#T_ff5c5_row19_col4{\n",
       "            background-color:  #f0cdbb;\n",
       "            color:  #000000;\n",
       "        }#T_ff5c5_row19_col11,#T_ff5c5_row19_col20{\n",
       "            background-color:  #adc9fd;\n",
       "            color:  #000000;\n",
       "        }#T_ff5c5_row19_col17{\n",
       "            background-color:  #e6d7cf;\n",
       "            color:  #000000;\n",
       "        }#T_ff5c5_row19_col21,#T_ff5c5_row22_col4,#T_ff5c5_row24_col27{\n",
       "            background-color:  #96b7ff;\n",
       "            color:  #000000;\n",
       "        }#T_ff5c5_row20_col4{\n",
       "            background-color:  #d3dbe7;\n",
       "            color:  #000000;\n",
       "        }#T_ff5c5_row21_col2,#T_ff5c5_row21_col5{\n",
       "            background-color:  #ccd9ed;\n",
       "            color:  #000000;\n",
       "        }#T_ff5c5_row21_col3{\n",
       "            background-color:  #cbd8ee;\n",
       "            color:  #000000;\n",
       "        }#T_ff5c5_row21_col4{\n",
       "            background-color:  #e7d7ce;\n",
       "            color:  #000000;\n",
       "        }#T_ff5c5_row22_col0{\n",
       "            background-color:  #bfd3f6;\n",
       "            color:  #000000;\n",
       "        }#T_ff5c5_row22_col1{\n",
       "            background-color:  #cad8ef;\n",
       "            color:  #000000;\n",
       "        }#T_ff5c5_row23_col19,#T_ff5c5_row25_col21{\n",
       "            background-color:  #6b8df0;\n",
       "            color:  #000000;\n",
       "        }#T_ff5c5_row25_col12{\n",
       "            background-color:  #f29072;\n",
       "            color:  #000000;\n",
       "        }#T_ff5c5_row25_col28{\n",
       "            background-color:  #f6bda2;\n",
       "            color:  #000000;\n",
       "        }#T_ff5c5_row27_col7{\n",
       "            background-color:  #f4c5ad;\n",
       "            color:  #000000;\n",
       "        }#T_ff5c5_row27_col12{\n",
       "            background-color:  #e3d9d3;\n",
       "            color:  #000000;\n",
       "        }#T_ff5c5_row28_col7{\n",
       "            background-color:  #e0dbd8;\n",
       "            color:  #000000;\n",
       "        }#T_ff5c5_row28_col12{\n",
       "            background-color:  #cfdaea;\n",
       "            color:  #000000;\n",
       "        }#T_ff5c5_row28_col25{\n",
       "            background-color:  #f7ba9f;\n",
       "            color:  #000000;\n",
       "        }#T_ff5c5_row28_col27,#T_ff5c5_row30_col23{\n",
       "            background-color:  #bad0f8;\n",
       "            color:  #000000;\n",
       "        }</style><table id=\"T_ff5c5_\" ><thead>    <tr>        <th class=\"blank level0\" ></th>        <th class=\"col_heading level0 col0\" >temp_first</th>        <th class=\"col_heading level0 col1\" >temp_last</th>        <th class=\"col_heading level0 col2\" >active_power</th>        <th class=\"col_heading level0 col3\" >reactive_power</th>        <th class=\"col_heading level0 col4\" >all_time</th>        <th class=\"col_heading level0 col5\" >full_power</th>        <th class=\"col_heading level0 col6\" >bulk_1</th>        <th class=\"col_heading level0 col7\" >bulk_2</th>        <th class=\"col_heading level0 col8\" >bulk_3</th>        <th class=\"col_heading level0 col9\" >bulk_4</th>        <th class=\"col_heading level0 col10\" >bulk_5</th>        <th class=\"col_heading level0 col11\" >bulk_6</th>        <th class=\"col_heading level0 col12\" >bulk_7</th>        <th class=\"col_heading level0 col13\" >bulk_8</th>        <th class=\"col_heading level0 col14\" >bulk_9</th>        <th class=\"col_heading level0 col15\" >bulk_10</th>        <th class=\"col_heading level0 col16\" >bulk_11</th>        <th class=\"col_heading level0 col17\" >bulk_12</th>        <th class=\"col_heading level0 col18\" >bulk_13</th>        <th class=\"col_heading level0 col19\" >bulk_14</th>        <th class=\"col_heading level0 col20\" >bulk_15</th>        <th class=\"col_heading level0 col21\" >gas_1</th>        <th class=\"col_heading level0 col22\" >wire_1</th>        <th class=\"col_heading level0 col23\" >wire_2</th>        <th class=\"col_heading level0 col24\" >wire_3</th>        <th class=\"col_heading level0 col25\" >wire_4</th>        <th class=\"col_heading level0 col26\" >wire_5</th>        <th class=\"col_heading level0 col27\" >wire_6</th>        <th class=\"col_heading level0 col28\" >wire_7</th>        <th class=\"col_heading level0 col29\" >wire_8</th>        <th class=\"col_heading level0 col30\" >wire_9</th>    </tr></thead><tbody>\n",
       "                <tr>\n",
       "                        <th id=\"T_ff5c5_level0_row0\" class=\"row_heading level0 row0\" >temp_first</th>\n",
       "                        <td id=\"T_ff5c5_row0_col0\" class=\"data row0 col0\" >1.000000</td>\n",
       "                        <td id=\"T_ff5c5_row0_col1\" class=\"data row0 col1\" >0.247758</td>\n",
       "                        <td id=\"T_ff5c5_row0_col2\" class=\"data row0 col2\" >-0.122739</td>\n",
       "                        <td id=\"T_ff5c5_row0_col3\" class=\"data row0 col3\" >-0.123289</td>\n",
       "                        <td id=\"T_ff5c5_row0_col4\" class=\"data row0 col4\" >-0.309426</td>\n",
       "                        <td id=\"T_ff5c5_row0_col5\" class=\"data row0 col5\" >-0.123175</td>\n",
       "                        <td id=\"T_ff5c5_row0_col6\" class=\"data row0 col6\" >0.073896</td>\n",
       "                        <td id=\"T_ff5c5_row0_col7\" class=\"data row0 col7\" >0.120302</td>\n",
       "                        <td id=\"T_ff5c5_row0_col8\" class=\"data row0 col8\" >-0.104162</td>\n",
       "                        <td id=\"T_ff5c5_row0_col9\" class=\"data row0 col9\" >0.142999</td>\n",
       "                        <td id=\"T_ff5c5_row0_col10\" class=\"data row0 col10\" >0.068947</td>\n",
       "                        <td id=\"T_ff5c5_row0_col11\" class=\"data row0 col11\" >-0.095032</td>\n",
       "                        <td id=\"T_ff5c5_row0_col12\" class=\"data row0 col12\" >0.075107</td>\n",
       "                        <td id=\"T_ff5c5_row0_col13\" class=\"data row0 col13\" >-0.009264</td>\n",
       "                        <td id=\"T_ff5c5_row0_col14\" class=\"data row0 col14\" >-0.026013</td>\n",
       "                        <td id=\"T_ff5c5_row0_col15\" class=\"data row0 col15\" >0.035791</td>\n",
       "                        <td id=\"T_ff5c5_row0_col16\" class=\"data row0 col16\" >-0.087717</td>\n",
       "                        <td id=\"T_ff5c5_row0_col17\" class=\"data row0 col17\" >-0.061164</td>\n",
       "                        <td id=\"T_ff5c5_row0_col18\" class=\"data row0 col18\" >0.018910</td>\n",
       "                        <td id=\"T_ff5c5_row0_col19\" class=\"data row0 col19\" >-0.132640</td>\n",
       "                        <td id=\"T_ff5c5_row0_col20\" class=\"data row0 col20\" >-0.041960</td>\n",
       "                        <td id=\"T_ff5c5_row0_col21\" class=\"data row0 col21\" >0.037686</td>\n",
       "                        <td id=\"T_ff5c5_row0_col22\" class=\"data row0 col22\" >0.207442</td>\n",
       "                        <td id=\"T_ff5c5_row0_col23\" class=\"data row0 col23\" >-0.084844</td>\n",
       "                        <td id=\"T_ff5c5_row0_col24\" class=\"data row0 col24\" >0.000232</td>\n",
       "                        <td id=\"T_ff5c5_row0_col25\" class=\"data row0 col25\" >0.065347</td>\n",
       "                        <td id=\"T_ff5c5_row0_col26\" class=\"data row0 col26\" >nan</td>\n",
       "                        <td id=\"T_ff5c5_row0_col27\" class=\"data row0 col27\" >0.020325</td>\n",
       "                        <td id=\"T_ff5c5_row0_col28\" class=\"data row0 col28\" >0.044967</td>\n",
       "                        <td id=\"T_ff5c5_row0_col29\" class=\"data row0 col29\" >-0.023055</td>\n",
       "                        <td id=\"T_ff5c5_row0_col30\" class=\"data row0 col30\" >0.004645</td>\n",
       "            </tr>\n",
       "            <tr>\n",
       "                        <th id=\"T_ff5c5_level0_row1\" class=\"row_heading level0 row1\" >temp_last</th>\n",
       "                        <td id=\"T_ff5c5_row1_col0\" class=\"data row1 col0\" >0.247758</td>\n",
       "                        <td id=\"T_ff5c5_row1_col1\" class=\"data row1 col1\" >1.000000</td>\n",
       "                        <td id=\"T_ff5c5_row1_col2\" class=\"data row1 col2\" >0.173775</td>\n",
       "                        <td id=\"T_ff5c5_row1_col3\" class=\"data row1 col3\" >0.168563</td>\n",
       "                        <td id=\"T_ff5c5_row1_col4\" class=\"data row1 col4\" >0.276022</td>\n",
       "                        <td id=\"T_ff5c5_row1_col5\" class=\"data row1 col5\" >0.172191</td>\n",
       "                        <td id=\"T_ff5c5_row1_col6\" class=\"data row1 col6\" >-0.074559</td>\n",
       "                        <td id=\"T_ff5c5_row1_col7\" class=\"data row1 col7\" >-0.083292</td>\n",
       "                        <td id=\"T_ff5c5_row1_col8\" class=\"data row1 col8\" >-0.036533</td>\n",
       "                        <td id=\"T_ff5c5_row1_col9\" class=\"data row1 col9\" >0.184636</td>\n",
       "                        <td id=\"T_ff5c5_row1_col10\" class=\"data row1 col10\" >-0.028678</td>\n",
       "                        <td id=\"T_ff5c5_row1_col11\" class=\"data row1 col11\" >-0.179633</td>\n",
       "                        <td id=\"T_ff5c5_row1_col12\" class=\"data row1 col12\" >-0.108353</td>\n",
       "                        <td id=\"T_ff5c5_row1_col13\" class=\"data row1 col13\" >-0.026855</td>\n",
       "                        <td id=\"T_ff5c5_row1_col14\" class=\"data row1 col14\" >-0.016259</td>\n",
       "                        <td id=\"T_ff5c5_row1_col15\" class=\"data row1 col15\" >0.061691</td>\n",
       "                        <td id=\"T_ff5c5_row1_col16\" class=\"data row1 col16\" >-0.110517</td>\n",
       "                        <td id=\"T_ff5c5_row1_col17\" class=\"data row1 col17\" >0.265241</td>\n",
       "                        <td id=\"T_ff5c5_row1_col18\" class=\"data row1 col18\" >-0.011054</td>\n",
       "                        <td id=\"T_ff5c5_row1_col19\" class=\"data row1 col19\" >0.113165</td>\n",
       "                        <td id=\"T_ff5c5_row1_col20\" class=\"data row1 col20\" >0.266348</td>\n",
       "                        <td id=\"T_ff5c5_row1_col21\" class=\"data row1 col21\" >0.058063</td>\n",
       "                        <td id=\"T_ff5c5_row1_col22\" class=\"data row1 col22\" >0.313493</td>\n",
       "                        <td id=\"T_ff5c5_row1_col23\" class=\"data row1 col23\" >-0.206883</td>\n",
       "                        <td id=\"T_ff5c5_row1_col24\" class=\"data row1 col24\" >-0.048049</td>\n",
       "                        <td id=\"T_ff5c5_row1_col25\" class=\"data row1 col25\" >-0.161311</td>\n",
       "                        <td id=\"T_ff5c5_row1_col26\" class=\"data row1 col26\" >nan</td>\n",
       "                        <td id=\"T_ff5c5_row1_col27\" class=\"data row1 col27\" >-0.084906</td>\n",
       "                        <td id=\"T_ff5c5_row1_col28\" class=\"data row1 col28\" >-0.138618</td>\n",
       "                        <td id=\"T_ff5c5_row1_col29\" class=\"data row1 col29\" >-0.010898</td>\n",
       "                        <td id=\"T_ff5c5_row1_col30\" class=\"data row1 col30\" >-0.027792</td>\n",
       "            </tr>\n",
       "            <tr>\n",
       "                        <th id=\"T_ff5c5_level0_row2\" class=\"row_heading level0 row2\" >active_power</th>\n",
       "                        <td id=\"T_ff5c5_row2_col0\" class=\"data row2 col0\" >-0.122739</td>\n",
       "                        <td id=\"T_ff5c5_row2_col1\" class=\"data row2 col1\" >0.173775</td>\n",
       "                        <td id=\"T_ff5c5_row2_col2\" class=\"data row2 col2\" >1.000000</td>\n",
       "                        <td id=\"T_ff5c5_row2_col3\" class=\"data row2 col3\" >0.992446</td>\n",
       "                        <td id=\"T_ff5c5_row2_col4\" class=\"data row2 col4\" >0.721637</td>\n",
       "                        <td id=\"T_ff5c5_row2_col5\" class=\"data row2 col5\" >0.999033</td>\n",
       "                        <td id=\"T_ff5c5_row2_col6\" class=\"data row2 col6\" >0.102407</td>\n",
       "                        <td id=\"T_ff5c5_row2_col7\" class=\"data row2 col7\" >0.091493</td>\n",
       "                        <td id=\"T_ff5c5_row2_col8\" class=\"data row2 col8\" >0.100040</td>\n",
       "                        <td id=\"T_ff5c5_row2_col9\" class=\"data row2 col9\" >0.002618</td>\n",
       "                        <td id=\"T_ff5c5_row2_col10\" class=\"data row2 col10\" >0.073466</td>\n",
       "                        <td id=\"T_ff5c5_row2_col11\" class=\"data row2 col11\" >0.135105</td>\n",
       "                        <td id=\"T_ff5c5_row2_col12\" class=\"data row2 col12\" >0.146445</td>\n",
       "                        <td id=\"T_ff5c5_row2_col13\" class=\"data row2 col13\" >-0.025655</td>\n",
       "                        <td id=\"T_ff5c5_row2_col14\" class=\"data row2 col14\" >0.027288</td>\n",
       "                        <td id=\"T_ff5c5_row2_col15\" class=\"data row2 col15\" >0.008036</td>\n",
       "                        <td id=\"T_ff5c5_row2_col16\" class=\"data row2 col16\" >0.070390</td>\n",
       "                        <td id=\"T_ff5c5_row2_col17\" class=\"data row2 col17\" >0.285134</td>\n",
       "                        <td id=\"T_ff5c5_row2_col18\" class=\"data row2 col18\" >0.105748</td>\n",
       "                        <td id=\"T_ff5c5_row2_col19\" class=\"data row2 col19\" >0.301258</td>\n",
       "                        <td id=\"T_ff5c5_row2_col20\" class=\"data row2 col20\" >0.167875</td>\n",
       "                        <td id=\"T_ff5c5_row2_col21\" class=\"data row2 col21\" >0.371061</td>\n",
       "                        <td id=\"T_ff5c5_row2_col22\" class=\"data row2 col22\" >0.136508</td>\n",
       "                        <td id=\"T_ff5c5_row2_col23\" class=\"data row2 col23\" >0.064633</td>\n",
       "                        <td id=\"T_ff5c5_row2_col24\" class=\"data row2 col24\" >0.054862</td>\n",
       "                        <td id=\"T_ff5c5_row2_col25\" class=\"data row2 col25\" >0.103658</td>\n",
       "                        <td id=\"T_ff5c5_row2_col26\" class=\"data row2 col26\" >nan</td>\n",
       "                        <td id=\"T_ff5c5_row2_col27\" class=\"data row2 col27\" >0.056359</td>\n",
       "                        <td id=\"T_ff5c5_row2_col28\" class=\"data row2 col28\" >0.061786</td>\n",
       "                        <td id=\"T_ff5c5_row2_col29\" class=\"data row2 col29\" >0.034535</td>\n",
       "                        <td id=\"T_ff5c5_row2_col30\" class=\"data row2 col30\" >-0.023906</td>\n",
       "            </tr>\n",
       "            <tr>\n",
       "                        <th id=\"T_ff5c5_level0_row3\" class=\"row_heading level0 row3\" >reactive_power</th>\n",
       "                        <td id=\"T_ff5c5_row3_col0\" class=\"data row3 col0\" >-0.123289</td>\n",
       "                        <td id=\"T_ff5c5_row3_col1\" class=\"data row3 col1\" >0.168563</td>\n",
       "                        <td id=\"T_ff5c5_row3_col2\" class=\"data row3 col2\" >0.992446</td>\n",
       "                        <td id=\"T_ff5c5_row3_col3\" class=\"data row3 col3\" >1.000000</td>\n",
       "                        <td id=\"T_ff5c5_row3_col4\" class=\"data row3 col4\" >0.713474</td>\n",
       "                        <td id=\"T_ff5c5_row3_col5\" class=\"data row3 col5\" >0.996877</td>\n",
       "                        <td id=\"T_ff5c5_row3_col6\" class=\"data row3 col6\" >0.098819</td>\n",
       "                        <td id=\"T_ff5c5_row3_col7\" class=\"data row3 col7\" >0.088116</td>\n",
       "                        <td id=\"T_ff5c5_row3_col8\" class=\"data row3 col8\" >0.097824</td>\n",
       "                        <td id=\"T_ff5c5_row3_col9\" class=\"data row3 col9\" >0.002103</td>\n",
       "                        <td id=\"T_ff5c5_row3_col10\" class=\"data row3 col10\" >0.072682</td>\n",
       "                        <td id=\"T_ff5c5_row3_col11\" class=\"data row3 col11\" >0.134172</td>\n",
       "                        <td id=\"T_ff5c5_row3_col12\" class=\"data row3 col12\" >0.144031</td>\n",
       "                        <td id=\"T_ff5c5_row3_col13\" class=\"data row3 col13\" >-0.025817</td>\n",
       "                        <td id=\"T_ff5c5_row3_col14\" class=\"data row3 col14\" >0.022405</td>\n",
       "                        <td id=\"T_ff5c5_row3_col15\" class=\"data row3 col15\" >0.005693</td>\n",
       "                        <td id=\"T_ff5c5_row3_col16\" class=\"data row3 col16\" >0.069483</td>\n",
       "                        <td id=\"T_ff5c5_row3_col17\" class=\"data row3 col17\" >0.284851</td>\n",
       "                        <td id=\"T_ff5c5_row3_col18\" class=\"data row3 col18\" >0.103397</td>\n",
       "                        <td id=\"T_ff5c5_row3_col19\" class=\"data row3 col19\" >0.297237</td>\n",
       "                        <td id=\"T_ff5c5_row3_col20\" class=\"data row3 col20\" >0.166447</td>\n",
       "                        <td id=\"T_ff5c5_row3_col21\" class=\"data row3 col21\" >0.368092</td>\n",
       "                        <td id=\"T_ff5c5_row3_col22\" class=\"data row3 col22\" >0.136888</td>\n",
       "                        <td id=\"T_ff5c5_row3_col23\" class=\"data row3 col23\" >0.063831</td>\n",
       "                        <td id=\"T_ff5c5_row3_col24\" class=\"data row3 col24\" >0.055732</td>\n",
       "                        <td id=\"T_ff5c5_row3_col25\" class=\"data row3 col25\" >0.102089</td>\n",
       "                        <td id=\"T_ff5c5_row3_col26\" class=\"data row3 col26\" >nan</td>\n",
       "                        <td id=\"T_ff5c5_row3_col27\" class=\"data row3 col27\" >0.054209</td>\n",
       "                        <td id=\"T_ff5c5_row3_col28\" class=\"data row3 col28\" >0.067243</td>\n",
       "                        <td id=\"T_ff5c5_row3_col29\" class=\"data row3 col29\" >0.029064</td>\n",
       "                        <td id=\"T_ff5c5_row3_col30\" class=\"data row3 col30\" >-0.020478</td>\n",
       "            </tr>\n",
       "            <tr>\n",
       "                        <th id=\"T_ff5c5_level0_row4\" class=\"row_heading level0 row4\" >all_time</th>\n",
       "                        <td id=\"T_ff5c5_row4_col0\" class=\"data row4 col0\" >-0.309426</td>\n",
       "                        <td id=\"T_ff5c5_row4_col1\" class=\"data row4 col1\" >0.276022</td>\n",
       "                        <td id=\"T_ff5c5_row4_col2\" class=\"data row4 col2\" >0.721637</td>\n",
       "                        <td id=\"T_ff5c5_row4_col3\" class=\"data row4 col3\" >0.713474</td>\n",
       "                        <td id=\"T_ff5c5_row4_col4\" class=\"data row4 col4\" >1.000000</td>\n",
       "                        <td id=\"T_ff5c5_row4_col5\" class=\"data row4 col5\" >0.719999</td>\n",
       "                        <td id=\"T_ff5c5_row4_col6\" class=\"data row4 col6\" >0.104844</td>\n",
       "                        <td id=\"T_ff5c5_row4_col7\" class=\"data row4 col7\" >0.038144</td>\n",
       "                        <td id=\"T_ff5c5_row4_col8\" class=\"data row4 col8\" >0.091713</td>\n",
       "                        <td id=\"T_ff5c5_row4_col9\" class=\"data row4 col9\" >-0.030722</td>\n",
       "                        <td id=\"T_ff5c5_row4_col10\" class=\"data row4 col10\" >0.013106</td>\n",
       "                        <td id=\"T_ff5c5_row4_col11\" class=\"data row4 col11\" >0.163627</td>\n",
       "                        <td id=\"T_ff5c5_row4_col12\" class=\"data row4 col12\" >0.084889</td>\n",
       "                        <td id=\"T_ff5c5_row4_col13\" class=\"data row4 col13\" >-0.011452</td>\n",
       "                        <td id=\"T_ff5c5_row4_col14\" class=\"data row4 col14\" >0.012727</td>\n",
       "                        <td id=\"T_ff5c5_row4_col15\" class=\"data row4 col15\" >-0.013147</td>\n",
       "                        <td id=\"T_ff5c5_row4_col16\" class=\"data row4 col16\" >0.085539</td>\n",
       "                        <td id=\"T_ff5c5_row4_col17\" class=\"data row4 col17\" >0.464815</td>\n",
       "                        <td id=\"T_ff5c5_row4_col18\" class=\"data row4 col18\" >0.129793</td>\n",
       "                        <td id=\"T_ff5c5_row4_col19\" class=\"data row4 col19\" >0.461021</td>\n",
       "                        <td id=\"T_ff5c5_row4_col20\" class=\"data row4 col20\" >0.295149</td>\n",
       "                        <td id=\"T_ff5c5_row4_col21\" class=\"data row4 col21\" >0.397048</td>\n",
       "                        <td id=\"T_ff5c5_row4_col22\" class=\"data row4 col22\" >0.052769</td>\n",
       "                        <td id=\"T_ff5c5_row4_col23\" class=\"data row4 col23\" >0.055739</td>\n",
       "                        <td id=\"T_ff5c5_row4_col24\" class=\"data row4 col24\" >0.033129</td>\n",
       "                        <td id=\"T_ff5c5_row4_col25\" class=\"data row4 col25\" >0.054883</td>\n",
       "                        <td id=\"T_ff5c5_row4_col26\" class=\"data row4 col26\" >nan</td>\n",
       "                        <td id=\"T_ff5c5_row4_col27\" class=\"data row4 col27\" >0.042085</td>\n",
       "                        <td id=\"T_ff5c5_row4_col28\" class=\"data row4 col28\" >0.027666</td>\n",
       "                        <td id=\"T_ff5c5_row4_col29\" class=\"data row4 col29\" >0.017690</td>\n",
       "                        <td id=\"T_ff5c5_row4_col30\" class=\"data row4 col30\" >-0.012050</td>\n",
       "            </tr>\n",
       "            <tr>\n",
       "                        <th id=\"T_ff5c5_level0_row5\" class=\"row_heading level0 row5\" >full_power</th>\n",
       "                        <td id=\"T_ff5c5_row5_col0\" class=\"data row5 col0\" >-0.123175</td>\n",
       "                        <td id=\"T_ff5c5_row5_col1\" class=\"data row5 col1\" >0.172191</td>\n",
       "                        <td id=\"T_ff5c5_row5_col2\" class=\"data row5 col2\" >0.999033</td>\n",
       "                        <td id=\"T_ff5c5_row5_col3\" class=\"data row5 col3\" >0.996877</td>\n",
       "                        <td id=\"T_ff5c5_row5_col4\" class=\"data row5 col4\" >0.719999</td>\n",
       "                        <td id=\"T_ff5c5_row5_col5\" class=\"data row5 col5\" >1.000000</td>\n",
       "                        <td id=\"T_ff5c5_row5_col6\" class=\"data row5 col6\" >0.101301</td>\n",
       "                        <td id=\"T_ff5c5_row5_col7\" class=\"data row5 col7\" >0.090476</td>\n",
       "                        <td id=\"T_ff5c5_row5_col8\" class=\"data row5 col8\" >0.099460</td>\n",
       "                        <td id=\"T_ff5c5_row5_col9\" class=\"data row5 col9\" >0.002429</td>\n",
       "                        <td id=\"T_ff5c5_row5_col10\" class=\"data row5 col10\" >0.073342</td>\n",
       "                        <td id=\"T_ff5c5_row5_col11\" class=\"data row5 col11\" >0.134933</td>\n",
       "                        <td id=\"T_ff5c5_row5_col12\" class=\"data row5 col12\" >0.145826</td>\n",
       "                        <td id=\"T_ff5c5_row5_col13\" class=\"data row5 col13\" >-0.025729</td>\n",
       "                        <td id=\"T_ff5c5_row5_col14\" class=\"data row5 col14\" >0.025605</td>\n",
       "                        <td id=\"T_ff5c5_row5_col15\" class=\"data row5 col15\" >0.007183</td>\n",
       "                        <td id=\"T_ff5c5_row5_col16\" class=\"data row5 col16\" >0.070141</td>\n",
       "                        <td id=\"T_ff5c5_row5_col17\" class=\"data row5 col17\" >0.285506</td>\n",
       "                        <td id=\"T_ff5c5_row5_col18\" class=\"data row5 col18\" >0.105096</td>\n",
       "                        <td id=\"T_ff5c5_row5_col19\" class=\"data row5 col19\" >0.300335</td>\n",
       "                        <td id=\"T_ff5c5_row5_col20\" class=\"data row5 col20\" >0.167640</td>\n",
       "                        <td id=\"T_ff5c5_row5_col21\" class=\"data row5 col21\" >0.370645</td>\n",
       "                        <td id=\"T_ff5c5_row5_col22\" class=\"data row5 col22\" >0.136913</td>\n",
       "                        <td id=\"T_ff5c5_row5_col23\" class=\"data row5 col23\" >0.064476</td>\n",
       "                        <td id=\"T_ff5c5_row5_col24\" class=\"data row5 col24\" >0.055234</td>\n",
       "                        <td id=\"T_ff5c5_row5_col25\" class=\"data row5 col25\" >0.103291</td>\n",
       "                        <td id=\"T_ff5c5_row5_col26\" class=\"data row5 col26\" >nan</td>\n",
       "                        <td id=\"T_ff5c5_row5_col27\" class=\"data row5 col27\" >0.055713</td>\n",
       "                        <td id=\"T_ff5c5_row5_col28\" class=\"data row5 col28\" >0.063870</td>\n",
       "                        <td id=\"T_ff5c5_row5_col29\" class=\"data row5 col29\" >0.032658</td>\n",
       "                        <td id=\"T_ff5c5_row5_col30\" class=\"data row5 col30\" >-0.022635</td>\n",
       "            </tr>\n",
       "            <tr>\n",
       "                        <th id=\"T_ff5c5_level0_row6\" class=\"row_heading level0 row6\" >bulk_1</th>\n",
       "                        <td id=\"T_ff5c5_row6_col0\" class=\"data row6 col0\" >0.073896</td>\n",
       "                        <td id=\"T_ff5c5_row6_col1\" class=\"data row6 col1\" >-0.074559</td>\n",
       "                        <td id=\"T_ff5c5_row6_col2\" class=\"data row6 col2\" >0.102407</td>\n",
       "                        <td id=\"T_ff5c5_row6_col3\" class=\"data row6 col3\" >0.098819</td>\n",
       "                        <td id=\"T_ff5c5_row6_col4\" class=\"data row6 col4\" >0.104844</td>\n",
       "                        <td id=\"T_ff5c5_row6_col5\" class=\"data row6 col5\" >0.101301</td>\n",
       "                        <td id=\"T_ff5c5_row6_col6\" class=\"data row6 col6\" >1.000000</td>\n",
       "                        <td id=\"T_ff5c5_row6_col7\" class=\"data row6 col7\" >0.226159</td>\n",
       "                        <td id=\"T_ff5c5_row6_col8\" class=\"data row6 col8\" >-0.010652</td>\n",
       "                        <td id=\"T_ff5c5_row6_col9\" class=\"data row6 col9\" >0.041917</td>\n",
       "                        <td id=\"T_ff5c5_row6_col10\" class=\"data row6 col10\" >0.060744</td>\n",
       "                        <td id=\"T_ff5c5_row6_col11\" class=\"data row6 col11\" >-0.005339</td>\n",
       "                        <td id=\"T_ff5c5_row6_col12\" class=\"data row6 col12\" >0.238760</td>\n",
       "                        <td id=\"T_ff5c5_row6_col13\" class=\"data row6 col13\" >-0.005780</td>\n",
       "                        <td id=\"T_ff5c5_row6_col14\" class=\"data row6 col14\" >-0.019948</td>\n",
       "                        <td id=\"T_ff5c5_row6_col15\" class=\"data row6 col15\" >-0.023044</td>\n",
       "                        <td id=\"T_ff5c5_row6_col16\" class=\"data row6 col16\" >-0.037009</td>\n",
       "                        <td id=\"T_ff5c5_row6_col17\" class=\"data row6 col17\" >0.327637</td>\n",
       "                        <td id=\"T_ff5c5_row6_col18\" class=\"data row6 col18\" >-0.010411</td>\n",
       "                        <td id=\"T_ff5c5_row6_col19\" class=\"data row6 col19\" >0.208215</td>\n",
       "                        <td id=\"T_ff5c5_row6_col20\" class=\"data row6 col20\" >-0.000323</td>\n",
       "                        <td id=\"T_ff5c5_row6_col21\" class=\"data row6 col21\" >0.239360</td>\n",
       "                        <td id=\"T_ff5c5_row6_col22\" class=\"data row6 col22\" >0.015794</td>\n",
       "                        <td id=\"T_ff5c5_row6_col23\" class=\"data row6 col23\" >-0.011764</td>\n",
       "                        <td id=\"T_ff5c5_row6_col24\" class=\"data row6 col24\" >0.020315</td>\n",
       "                        <td id=\"T_ff5c5_row6_col25\" class=\"data row6 col25\" >0.147235</td>\n",
       "                        <td id=\"T_ff5c5_row6_col26\" class=\"data row6 col26\" >nan</td>\n",
       "                        <td id=\"T_ff5c5_row6_col27\" class=\"data row6 col27\" >0.149481</td>\n",
       "                        <td id=\"T_ff5c5_row6_col28\" class=\"data row6 col28\" >0.083979</td>\n",
       "                        <td id=\"T_ff5c5_row6_col29\" class=\"data row6 col29\" >-0.019725</td>\n",
       "                        <td id=\"T_ff5c5_row6_col30\" class=\"data row6 col30\" >0.011065</td>\n",
       "            </tr>\n",
       "            <tr>\n",
       "                        <th id=\"T_ff5c5_level0_row7\" class=\"row_heading level0 row7\" >bulk_2</th>\n",
       "                        <td id=\"T_ff5c5_row7_col0\" class=\"data row7 col0\" >0.120302</td>\n",
       "                        <td id=\"T_ff5c5_row7_col1\" class=\"data row7 col1\" >-0.083292</td>\n",
       "                        <td id=\"T_ff5c5_row7_col2\" class=\"data row7 col2\" >0.091493</td>\n",
       "                        <td id=\"T_ff5c5_row7_col3\" class=\"data row7 col3\" >0.088116</td>\n",
       "                        <td id=\"T_ff5c5_row7_col4\" class=\"data row7 col4\" >0.038144</td>\n",
       "                        <td id=\"T_ff5c5_row7_col5\" class=\"data row7 col5\" >0.090476</td>\n",
       "                        <td id=\"T_ff5c5_row7_col6\" class=\"data row7 col6\" >0.226159</td>\n",
       "                        <td id=\"T_ff5c5_row7_col7\" class=\"data row7 col7\" >1.000000</td>\n",
       "                        <td id=\"T_ff5c5_row7_col8\" class=\"data row7 col8\" >-0.047407</td>\n",
       "                        <td id=\"T_ff5c5_row7_col9\" class=\"data row7 col9\" >0.041288</td>\n",
       "                        <td id=\"T_ff5c5_row7_col10\" class=\"data row7 col10\" >0.360219</td>\n",
       "                        <td id=\"T_ff5c5_row7_col11\" class=\"data row7 col11\" >-0.030261</td>\n",
       "                        <td id=\"T_ff5c5_row7_col12\" class=\"data row7 col12\" >0.679332</td>\n",
       "                        <td id=\"T_ff5c5_row7_col13\" class=\"data row7 col13\" >-0.001570</td>\n",
       "                        <td id=\"T_ff5c5_row7_col14\" class=\"data row7 col14\" >-0.005417</td>\n",
       "                        <td id=\"T_ff5c5_row7_col15\" class=\"data row7 col15\" >-0.018235</td>\n",
       "                        <td id=\"T_ff5c5_row7_col16\" class=\"data row7 col16\" >0.001837</td>\n",
       "                        <td id=\"T_ff5c5_row7_col17\" class=\"data row7 col17\" >-0.099758</td>\n",
       "                        <td id=\"T_ff5c5_row7_col18\" class=\"data row7 col18\" >-0.005681</td>\n",
       "                        <td id=\"T_ff5c5_row7_col19\" class=\"data row7 col19\" >-0.141981</td>\n",
       "                        <td id=\"T_ff5c5_row7_col20\" class=\"data row7 col20\" >-0.106577</td>\n",
       "                        <td id=\"T_ff5c5_row7_col21\" class=\"data row7 col21\" >0.218583</td>\n",
       "                        <td id=\"T_ff5c5_row7_col22\" class=\"data row7 col22\" >-0.170400</td>\n",
       "                        <td id=\"T_ff5c5_row7_col23\" class=\"data row7 col23\" >-0.039388</td>\n",
       "                        <td id=\"T_ff5c5_row7_col24\" class=\"data row7 col24\" >0.223100</td>\n",
       "                        <td id=\"T_ff5c5_row7_col25\" class=\"data row7 col25\" >0.699320</td>\n",
       "                        <td id=\"T_ff5c5_row7_col26\" class=\"data row7 col26\" >nan</td>\n",
       "                        <td id=\"T_ff5c5_row7_col27\" class=\"data row7 col27\" >0.558837</td>\n",
       "                        <td id=\"T_ff5c5_row7_col28\" class=\"data row7 col28\" >0.431723</td>\n",
       "                        <td id=\"T_ff5c5_row7_col29\" class=\"data row7 col29\" >-0.005357</td>\n",
       "                        <td id=\"T_ff5c5_row7_col30\" class=\"data row7 col30\" >-0.006950</td>\n",
       "            </tr>\n",
       "            <tr>\n",
       "                        <th id=\"T_ff5c5_level0_row8\" class=\"row_heading level0 row8\" >bulk_3</th>\n",
       "                        <td id=\"T_ff5c5_row8_col0\" class=\"data row8 col0\" >-0.104162</td>\n",
       "                        <td id=\"T_ff5c5_row8_col1\" class=\"data row8 col1\" >-0.036533</td>\n",
       "                        <td id=\"T_ff5c5_row8_col2\" class=\"data row8 col2\" >0.100040</td>\n",
       "                        <td id=\"T_ff5c5_row8_col3\" class=\"data row8 col3\" >0.097824</td>\n",
       "                        <td id=\"T_ff5c5_row8_col4\" class=\"data row8 col4\" >0.091713</td>\n",
       "                        <td id=\"T_ff5c5_row8_col5\" class=\"data row8 col5\" >0.099460</td>\n",
       "                        <td id=\"T_ff5c5_row8_col6\" class=\"data row8 col6\" >-0.010652</td>\n",
       "                        <td id=\"T_ff5c5_row8_col7\" class=\"data row8 col7\" >-0.047407</td>\n",
       "                        <td id=\"T_ff5c5_row8_col8\" class=\"data row8 col8\" >1.000000</td>\n",
       "                        <td id=\"T_ff5c5_row8_col9\" class=\"data row8 col9\" >-0.294200</td>\n",
       "                        <td id=\"T_ff5c5_row8_col10\" class=\"data row8 col10\" >-0.007302</td>\n",
       "                        <td id=\"T_ff5c5_row8_col11\" class=\"data row8 col11\" >0.066254</td>\n",
       "                        <td id=\"T_ff5c5_row8_col12\" class=\"data row8 col12\" >-0.033898</td>\n",
       "                        <td id=\"T_ff5c5_row8_col13\" class=\"data row8 col13\" >0.020839</td>\n",
       "                        <td id=\"T_ff5c5_row8_col14\" class=\"data row8 col14\" >0.011106</td>\n",
       "                        <td id=\"T_ff5c5_row8_col15\" class=\"data row8 col15\" >-0.085609</td>\n",
       "                        <td id=\"T_ff5c5_row8_col16\" class=\"data row8 col16\" >-0.008658</td>\n",
       "                        <td id=\"T_ff5c5_row8_col17\" class=\"data row8 col17\" >0.018912</td>\n",
       "                        <td id=\"T_ff5c5_row8_col18\" class=\"data row8 col18\" >-0.013751</td>\n",
       "                        <td id=\"T_ff5c5_row8_col19\" class=\"data row8 col19\" >0.010684</td>\n",
       "                        <td id=\"T_ff5c5_row8_col20\" class=\"data row8 col20\" >-0.013031</td>\n",
       "                        <td id=\"T_ff5c5_row8_col21\" class=\"data row8 col21\" >0.057472</td>\n",
       "                        <td id=\"T_ff5c5_row8_col22\" class=\"data row8 col22\" >0.040465</td>\n",
       "                        <td id=\"T_ff5c5_row8_col23\" class=\"data row8 col23\" >0.096544</td>\n",
       "                        <td id=\"T_ff5c5_row8_col24\" class=\"data row8 col24\" >0.005347</td>\n",
       "                        <td id=\"T_ff5c5_row8_col25\" class=\"data row8 col25\" >-0.040974</td>\n",
       "                        <td id=\"T_ff5c5_row8_col26\" class=\"data row8 col26\" >nan</td>\n",
       "                        <td id=\"T_ff5c5_row8_col27\" class=\"data row8 col27\" >0.006699</td>\n",
       "                        <td id=\"T_ff5c5_row8_col28\" class=\"data row8 col28\" >-0.019663</td>\n",
       "                        <td id=\"T_ff5c5_row8_col29\" class=\"data row8 col29\" >0.004588</td>\n",
       "                        <td id=\"T_ff5c5_row8_col30\" class=\"data row8 col30\" >0.004278</td>\n",
       "            </tr>\n",
       "            <tr>\n",
       "                        <th id=\"T_ff5c5_level0_row9\" class=\"row_heading level0 row9\" >bulk_4</th>\n",
       "                        <td id=\"T_ff5c5_row9_col0\" class=\"data row9 col0\" >0.142999</td>\n",
       "                        <td id=\"T_ff5c5_row9_col1\" class=\"data row9 col1\" >0.184636</td>\n",
       "                        <td id=\"T_ff5c5_row9_col2\" class=\"data row9 col2\" >0.002618</td>\n",
       "                        <td id=\"T_ff5c5_row9_col3\" class=\"data row9 col3\" >0.002103</td>\n",
       "                        <td id=\"T_ff5c5_row9_col4\" class=\"data row9 col4\" >-0.030722</td>\n",
       "                        <td id=\"T_ff5c5_row9_col5\" class=\"data row9 col5\" >0.002429</td>\n",
       "                        <td id=\"T_ff5c5_row9_col6\" class=\"data row9 col6\" >0.041917</td>\n",
       "                        <td id=\"T_ff5c5_row9_col7\" class=\"data row9 col7\" >0.041288</td>\n",
       "                        <td id=\"T_ff5c5_row9_col8\" class=\"data row9 col8\" >-0.294200</td>\n",
       "                        <td id=\"T_ff5c5_row9_col9\" class=\"data row9 col9\" >1.000000</td>\n",
       "                        <td id=\"T_ff5c5_row9_col10\" class=\"data row9 col10\" >0.028852</td>\n",
       "                        <td id=\"T_ff5c5_row9_col11\" class=\"data row9 col11\" >-0.250883</td>\n",
       "                        <td id=\"T_ff5c5_row9_col12\" class=\"data row9 col12\" >0.046405</td>\n",
       "                        <td id=\"T_ff5c5_row9_col13\" class=\"data row9 col13\" >-0.013239</td>\n",
       "                        <td id=\"T_ff5c5_row9_col14\" class=\"data row9 col14\" >-0.002791</td>\n",
       "                        <td id=\"T_ff5c5_row9_col15\" class=\"data row9 col15\" >-0.085481</td>\n",
       "                        <td id=\"T_ff5c5_row9_col16\" class=\"data row9 col16\" >-0.117665</td>\n",
       "                        <td id=\"T_ff5c5_row9_col17\" class=\"data row9 col17\" >0.104344</td>\n",
       "                        <td id=\"T_ff5c5_row9_col18\" class=\"data row9 col18\" >0.003414</td>\n",
       "                        <td id=\"T_ff5c5_row9_col19\" class=\"data row9 col19\" >-0.090557</td>\n",
       "                        <td id=\"T_ff5c5_row9_col20\" class=\"data row9 col20\" >0.102593</td>\n",
       "                        <td id=\"T_ff5c5_row9_col21\" class=\"data row9 col21\" >0.016853</td>\n",
       "                        <td id=\"T_ff5c5_row9_col22\" class=\"data row9 col22\" >0.295424</td>\n",
       "                        <td id=\"T_ff5c5_row9_col23\" class=\"data row9 col23\" >-0.266983</td>\n",
       "                        <td id=\"T_ff5c5_row9_col24\" class=\"data row9 col24\" >-0.039247</td>\n",
       "                        <td id=\"T_ff5c5_row9_col25\" class=\"data row9 col25\" >0.034843</td>\n",
       "                        <td id=\"T_ff5c5_row9_col26\" class=\"data row9 col26\" >nan</td>\n",
       "                        <td id=\"T_ff5c5_row9_col27\" class=\"data row9 col27\" >-0.011236</td>\n",
       "                        <td id=\"T_ff5c5_row9_col28\" class=\"data row9 col28\" >0.034164</td>\n",
       "                        <td id=\"T_ff5c5_row9_col29\" class=\"data row9 col29\" >0.008061</td>\n",
       "                        <td id=\"T_ff5c5_row9_col30\" class=\"data row9 col30\" >-0.058371</td>\n",
       "            </tr>\n",
       "            <tr>\n",
       "                        <th id=\"T_ff5c5_level0_row10\" class=\"row_heading level0 row10\" >bulk_5</th>\n",
       "                        <td id=\"T_ff5c5_row10_col0\" class=\"data row10 col0\" >0.068947</td>\n",
       "                        <td id=\"T_ff5c5_row10_col1\" class=\"data row10 col1\" >-0.028678</td>\n",
       "                        <td id=\"T_ff5c5_row10_col2\" class=\"data row10 col2\" >0.073466</td>\n",
       "                        <td id=\"T_ff5c5_row10_col3\" class=\"data row10 col3\" >0.072682</td>\n",
       "                        <td id=\"T_ff5c5_row10_col4\" class=\"data row10 col4\" >0.013106</td>\n",
       "                        <td id=\"T_ff5c5_row10_col5\" class=\"data row10 col5\" >0.073342</td>\n",
       "                        <td id=\"T_ff5c5_row10_col6\" class=\"data row10 col6\" >0.060744</td>\n",
       "                        <td id=\"T_ff5c5_row10_col7\" class=\"data row10 col7\" >0.360219</td>\n",
       "                        <td id=\"T_ff5c5_row10_col8\" class=\"data row10 col8\" >-0.007302</td>\n",
       "                        <td id=\"T_ff5c5_row10_col9\" class=\"data row10 col9\" >0.028852</td>\n",
       "                        <td id=\"T_ff5c5_row10_col10\" class=\"data row10 col10\" >1.000000</td>\n",
       "                        <td id=\"T_ff5c5_row10_col11\" class=\"data row10 col11\" >-0.022222</td>\n",
       "                        <td id=\"T_ff5c5_row10_col12\" class=\"data row10 col12\" >0.288258</td>\n",
       "                        <td id=\"T_ff5c5_row10_col13\" class=\"data row10 col13\" >-0.002482</td>\n",
       "                        <td id=\"T_ff5c5_row10_col14\" class=\"data row10 col14\" >-0.008565</td>\n",
       "                        <td id=\"T_ff5c5_row10_col15\" class=\"data row10 col15\" >-0.028830</td>\n",
       "                        <td id=\"T_ff5c5_row10_col16\" class=\"data row10 col16\" >-0.015630</td>\n",
       "                        <td id=\"T_ff5c5_row10_col17\" class=\"data row10 col17\" >-0.073461</td>\n",
       "                        <td id=\"T_ff5c5_row10_col18\" class=\"data row10 col18\" >-0.008981</td>\n",
       "                        <td id=\"T_ff5c5_row10_col19\" class=\"data row10 col19\" >-0.066610</td>\n",
       "                        <td id=\"T_ff5c5_row10_col20\" class=\"data row10 col20\" >-0.067909</td>\n",
       "                        <td id=\"T_ff5c5_row10_col21\" class=\"data row10 col21\" >0.087060</td>\n",
       "                        <td id=\"T_ff5c5_row10_col22\" class=\"data row10 col22\" >-0.013550</td>\n",
       "                        <td id=\"T_ff5c5_row10_col23\" class=\"data row10 col23\" >-0.014188</td>\n",
       "                        <td id=\"T_ff5c5_row10_col24\" class=\"data row10 col24\" >0.070718</td>\n",
       "                        <td id=\"T_ff5c5_row10_col25\" class=\"data row10 col25\" >0.262681</td>\n",
       "                        <td id=\"T_ff5c5_row10_col26\" class=\"data row10 col26\" >nan</td>\n",
       "                        <td id=\"T_ff5c5_row10_col27\" class=\"data row10 col27\" >0.204653</td>\n",
       "                        <td id=\"T_ff5c5_row10_col28\" class=\"data row10 col28\" >0.172104</td>\n",
       "                        <td id=\"T_ff5c5_row10_col29\" class=\"data row10 col29\" >-0.008469</td>\n",
       "                        <td id=\"T_ff5c5_row10_col30\" class=\"data row10 col30\" >-0.010989</td>\n",
       "            </tr>\n",
       "            <tr>\n",
       "                        <th id=\"T_ff5c5_level0_row11\" class=\"row_heading level0 row11\" >bulk_6</th>\n",
       "                        <td id=\"T_ff5c5_row11_col0\" class=\"data row11 col0\" >-0.095032</td>\n",
       "                        <td id=\"T_ff5c5_row11_col1\" class=\"data row11 col1\" >-0.179633</td>\n",
       "                        <td id=\"T_ff5c5_row11_col2\" class=\"data row11 col2\" >0.135105</td>\n",
       "                        <td id=\"T_ff5c5_row11_col3\" class=\"data row11 col3\" >0.134172</td>\n",
       "                        <td id=\"T_ff5c5_row11_col4\" class=\"data row11 col4\" >0.163627</td>\n",
       "                        <td id=\"T_ff5c5_row11_col5\" class=\"data row11 col5\" >0.134933</td>\n",
       "                        <td id=\"T_ff5c5_row11_col6\" class=\"data row11 col6\" >-0.005339</td>\n",
       "                        <td id=\"T_ff5c5_row11_col7\" class=\"data row11 col7\" >-0.030261</td>\n",
       "                        <td id=\"T_ff5c5_row11_col8\" class=\"data row11 col8\" >0.066254</td>\n",
       "                        <td id=\"T_ff5c5_row11_col9\" class=\"data row11 col9\" >-0.250883</td>\n",
       "                        <td id=\"T_ff5c5_row11_col10\" class=\"data row11 col10\" >-0.022222</td>\n",
       "                        <td id=\"T_ff5c5_row11_col11\" class=\"data row11 col11\" >1.000000</td>\n",
       "                        <td id=\"T_ff5c5_row11_col12\" class=\"data row11 col12\" >-0.025339</td>\n",
       "                        <td id=\"T_ff5c5_row11_col13\" class=\"data row11 col13\" >-0.008411</td>\n",
       "                        <td id=\"T_ff5c5_row11_col14\" class=\"data row11 col14\" >-0.029027</td>\n",
       "                        <td id=\"T_ff5c5_row11_col15\" class=\"data row11 col15\" >-0.097709</td>\n",
       "                        <td id=\"T_ff5c5_row11_col16\" class=\"data row11 col16\" >0.199274</td>\n",
       "                        <td id=\"T_ff5c5_row11_col17\" class=\"data row11 col17\" >-0.113537</td>\n",
       "                        <td id=\"T_ff5c5_row11_col18\" class=\"data row11 col18\" >0.042553</td>\n",
       "                        <td id=\"T_ff5c5_row11_col19\" class=\"data row11 col19\" >0.177188</td>\n",
       "                        <td id=\"T_ff5c5_row11_col20\" class=\"data row11 col20\" >-0.111807</td>\n",
       "                        <td id=\"T_ff5c5_row11_col21\" class=\"data row11 col21\" >0.140886</td>\n",
       "                        <td id=\"T_ff5c5_row11_col22\" class=\"data row11 col22\" >-0.233375</td>\n",
       "                        <td id=\"T_ff5c5_row11_col23\" class=\"data row11 col23\" >0.203061</td>\n",
       "                        <td id=\"T_ff5c5_row11_col24\" class=\"data row11 col24\" >-0.046949</td>\n",
       "                        <td id=\"T_ff5c5_row11_col25\" class=\"data row11 col25\" >-0.026155</td>\n",
       "                        <td id=\"T_ff5c5_row11_col26\" class=\"data row11 col26\" >nan</td>\n",
       "                        <td id=\"T_ff5c5_row11_col27\" class=\"data row11 col27\" >-0.020574</td>\n",
       "                        <td id=\"T_ff5c5_row11_col28\" class=\"data row11 col28\" >-0.012551</td>\n",
       "                        <td id=\"T_ff5c5_row11_col29\" class=\"data row11 col29\" >-0.028703</td>\n",
       "                        <td id=\"T_ff5c5_row11_col30\" class=\"data row11 col30\" >-0.013612</td>\n",
       "            </tr>\n",
       "            <tr>\n",
       "                        <th id=\"T_ff5c5_level0_row12\" class=\"row_heading level0 row12\" >bulk_7</th>\n",
       "                        <td id=\"T_ff5c5_row12_col0\" class=\"data row12 col0\" >0.075107</td>\n",
       "                        <td id=\"T_ff5c5_row12_col1\" class=\"data row12 col1\" >-0.108353</td>\n",
       "                        <td id=\"T_ff5c5_row12_col2\" class=\"data row12 col2\" >0.146445</td>\n",
       "                        <td id=\"T_ff5c5_row12_col3\" class=\"data row12 col3\" >0.144031</td>\n",
       "                        <td id=\"T_ff5c5_row12_col4\" class=\"data row12 col4\" >0.084889</td>\n",
       "                        <td id=\"T_ff5c5_row12_col5\" class=\"data row12 col5\" >0.145826</td>\n",
       "                        <td id=\"T_ff5c5_row12_col6\" class=\"data row12 col6\" >0.238760</td>\n",
       "                        <td id=\"T_ff5c5_row12_col7\" class=\"data row12 col7\" >0.679332</td>\n",
       "                        <td id=\"T_ff5c5_row12_col8\" class=\"data row12 col8\" >-0.033898</td>\n",
       "                        <td id=\"T_ff5c5_row12_col9\" class=\"data row12 col9\" >0.046405</td>\n",
       "                        <td id=\"T_ff5c5_row12_col10\" class=\"data row12 col10\" >0.288258</td>\n",
       "                        <td id=\"T_ff5c5_row12_col11\" class=\"data row12 col11\" >-0.025339</td>\n",
       "                        <td id=\"T_ff5c5_row12_col12\" class=\"data row12 col12\" >1.000000</td>\n",
       "                        <td id=\"T_ff5c5_row12_col13\" class=\"data row12 col13\" >-0.001376</td>\n",
       "                        <td id=\"T_ff5c5_row12_col14\" class=\"data row12 col14\" >-0.004749</td>\n",
       "                        <td id=\"T_ff5c5_row12_col15\" class=\"data row12 col15\" >-0.015985</td>\n",
       "                        <td id=\"T_ff5c5_row12_col16\" class=\"data row12 col16\" >-0.004717</td>\n",
       "                        <td id=\"T_ff5c5_row12_col17\" class=\"data row12 col17\" >-0.017977</td>\n",
       "                        <td id=\"T_ff5c5_row12_col18\" class=\"data row12 col18\" >-0.004980</td>\n",
       "                        <td id=\"T_ff5c5_row12_col19\" class=\"data row12 col19\" >-0.077015</td>\n",
       "                        <td id=\"T_ff5c5_row12_col20\" class=\"data row12 col20\" >-0.090856</td>\n",
       "                        <td id=\"T_ff5c5_row12_col21\" class=\"data row12 col21\" >0.199384</td>\n",
       "                        <td id=\"T_ff5c5_row12_col22\" class=\"data row12 col22\" >-0.144045</td>\n",
       "                        <td id=\"T_ff5c5_row12_col23\" class=\"data row12 col23\" >-0.000830</td>\n",
       "                        <td id=\"T_ff5c5_row12_col24\" class=\"data row12 col24\" >0.156529</td>\n",
       "                        <td id=\"T_ff5c5_row12_col25\" class=\"data row12 col25\" >0.740555</td>\n",
       "                        <td id=\"T_ff5c5_row12_col26\" class=\"data row12 col26\" >nan</td>\n",
       "                        <td id=\"T_ff5c5_row12_col27\" class=\"data row12 col27\" >0.456046</td>\n",
       "                        <td id=\"T_ff5c5_row12_col28\" class=\"data row12 col28\" >0.372234</td>\n",
       "                        <td id=\"T_ff5c5_row12_col29\" class=\"data row12 col29\" >-0.004696</td>\n",
       "                        <td id=\"T_ff5c5_row12_col30\" class=\"data row12 col30\" >-0.006093</td>\n",
       "            </tr>\n",
       "            <tr>\n",
       "                        <th id=\"T_ff5c5_level0_row13\" class=\"row_heading level0 row13\" >bulk_8</th>\n",
       "                        <td id=\"T_ff5c5_row13_col0\" class=\"data row13 col0\" >-0.009264</td>\n",
       "                        <td id=\"T_ff5c5_row13_col1\" class=\"data row13 col1\" >-0.026855</td>\n",
       "                        <td id=\"T_ff5c5_row13_col2\" class=\"data row13 col2\" >-0.025655</td>\n",
       "                        <td id=\"T_ff5c5_row13_col3\" class=\"data row13 col3\" >-0.025817</td>\n",
       "                        <td id=\"T_ff5c5_row13_col4\" class=\"data row13 col4\" >-0.011452</td>\n",
       "                        <td id=\"T_ff5c5_row13_col5\" class=\"data row13 col5\" >-0.025729</td>\n",
       "                        <td id=\"T_ff5c5_row13_col6\" class=\"data row13 col6\" >-0.005780</td>\n",
       "                        <td id=\"T_ff5c5_row13_col7\" class=\"data row13 col7\" >-0.001570</td>\n",
       "                        <td id=\"T_ff5c5_row13_col8\" class=\"data row13 col8\" >0.020839</td>\n",
       "                        <td id=\"T_ff5c5_row13_col9\" class=\"data row13 col9\" >-0.013239</td>\n",
       "                        <td id=\"T_ff5c5_row13_col10\" class=\"data row13 col10\" >-0.002482</td>\n",
       "                        <td id=\"T_ff5c5_row13_col11\" class=\"data row13 col11\" >-0.008411</td>\n",
       "                        <td id=\"T_ff5c5_row13_col12\" class=\"data row13 col12\" >-0.001376</td>\n",
       "                        <td id=\"T_ff5c5_row13_col13\" class=\"data row13 col13\" >1.000000</td>\n",
       "                        <td id=\"T_ff5c5_row13_col14\" class=\"data row13 col14\" >0.488389</td>\n",
       "                        <td id=\"T_ff5c5_row13_col15\" class=\"data row13 col15\" >-0.005068</td>\n",
       "                        <td id=\"T_ff5c5_row13_col16\" class=\"data row13 col16\" >-0.003893</td>\n",
       "                        <td id=\"T_ff5c5_row13_col17\" class=\"data row13 col17\" >-0.027728</td>\n",
       "                        <td id=\"T_ff5c5_row13_col18\" class=\"data row13 col18\" >-0.001579</td>\n",
       "                        <td id=\"T_ff5c5_row13_col19\" class=\"data row13 col19\" >-0.039464</td>\n",
       "                        <td id=\"T_ff5c5_row13_col20\" class=\"data row13 col20\" >-0.029623</td>\n",
       "                        <td id=\"T_ff5c5_row13_col21\" class=\"data row13 col21\" >0.004081</td>\n",
       "                        <td id=\"T_ff5c5_row13_col22\" class=\"data row13 col22\" >0.034843</td>\n",
       "                        <td id=\"T_ff5c5_row13_col23\" class=\"data row13 col23\" >0.018900</td>\n",
       "                        <td id=\"T_ff5c5_row13_col24\" class=\"data row13 col24\" >-0.002438</td>\n",
       "                        <td id=\"T_ff5c5_row13_col25\" class=\"data row13 col25\" >-0.001357</td>\n",
       "                        <td id=\"T_ff5c5_row13_col26\" class=\"data row13 col26\" >nan</td>\n",
       "                        <td id=\"T_ff5c5_row13_col27\" class=\"data row13 col27\" >-0.002371</td>\n",
       "                        <td id=\"T_ff5c5_row13_col28\" class=\"data row13 col28\" >-0.000651</td>\n",
       "                        <td id=\"T_ff5c5_row13_col29\" class=\"data row13 col29\" >0.321030</td>\n",
       "                        <td id=\"T_ff5c5_row13_col30\" class=\"data row13 col30\" >-0.001932</td>\n",
       "            </tr>\n",
       "            <tr>\n",
       "                        <th id=\"T_ff5c5_level0_row14\" class=\"row_heading level0 row14\" >bulk_9</th>\n",
       "                        <td id=\"T_ff5c5_row14_col0\" class=\"data row14 col0\" >-0.026013</td>\n",
       "                        <td id=\"T_ff5c5_row14_col1\" class=\"data row14 col1\" >-0.016259</td>\n",
       "                        <td id=\"T_ff5c5_row14_col2\" class=\"data row14 col2\" >0.027288</td>\n",
       "                        <td id=\"T_ff5c5_row14_col3\" class=\"data row14 col3\" >0.022405</td>\n",
       "                        <td id=\"T_ff5c5_row14_col4\" class=\"data row14 col4\" >0.012727</td>\n",
       "                        <td id=\"T_ff5c5_row14_col5\" class=\"data row14 col5\" >0.025605</td>\n",
       "                        <td id=\"T_ff5c5_row14_col6\" class=\"data row14 col6\" >-0.019948</td>\n",
       "                        <td id=\"T_ff5c5_row14_col7\" class=\"data row14 col7\" >-0.005417</td>\n",
       "                        <td id=\"T_ff5c5_row14_col8\" class=\"data row14 col8\" >0.011106</td>\n",
       "                        <td id=\"T_ff5c5_row14_col9\" class=\"data row14 col9\" >-0.002791</td>\n",
       "                        <td id=\"T_ff5c5_row14_col10\" class=\"data row14 col10\" >-0.008565</td>\n",
       "                        <td id=\"T_ff5c5_row14_col11\" class=\"data row14 col11\" >-0.029027</td>\n",
       "                        <td id=\"T_ff5c5_row14_col12\" class=\"data row14 col12\" >-0.004749</td>\n",
       "                        <td id=\"T_ff5c5_row14_col13\" class=\"data row14 col13\" >0.488389</td>\n",
       "                        <td id=\"T_ff5c5_row14_col14\" class=\"data row14 col14\" >1.000000</td>\n",
       "                        <td id=\"T_ff5c5_row14_col15\" class=\"data row14 col15\" >-0.017491</td>\n",
       "                        <td id=\"T_ff5c5_row14_col16\" class=\"data row14 col16\" >-0.013436</td>\n",
       "                        <td id=\"T_ff5c5_row14_col17\" class=\"data row14 col17\" >-0.058220</td>\n",
       "                        <td id=\"T_ff5c5_row14_col18\" class=\"data row14 col18\" >-0.005449</td>\n",
       "                        <td id=\"T_ff5c5_row14_col19\" class=\"data row14 col19\" >0.038870</td>\n",
       "                        <td id=\"T_ff5c5_row14_col20\" class=\"data row14 col20\" >-0.094300</td>\n",
       "                        <td id=\"T_ff5c5_row14_col21\" class=\"data row14 col21\" >0.117090</td>\n",
       "                        <td id=\"T_ff5c5_row14_col22\" class=\"data row14 col22\" >0.022732</td>\n",
       "                        <td id=\"T_ff5c5_row14_col23\" class=\"data row14 col23\" >0.066697</td>\n",
       "                        <td id=\"T_ff5c5_row14_col24\" class=\"data row14 col24\" >-0.008413</td>\n",
       "                        <td id=\"T_ff5c5_row14_col25\" class=\"data row14 col25\" >-0.004682</td>\n",
       "                        <td id=\"T_ff5c5_row14_col26\" class=\"data row14 col26\" >nan</td>\n",
       "                        <td id=\"T_ff5c5_row14_col27\" class=\"data row14 col27\" >-0.008182</td>\n",
       "                        <td id=\"T_ff5c5_row14_col28\" class=\"data row14 col28\" >-0.002247</td>\n",
       "                        <td id=\"T_ff5c5_row14_col29\" class=\"data row14 col29\" >0.974967</td>\n",
       "                        <td id=\"T_ff5c5_row14_col30\" class=\"data row14 col30\" >-0.006667</td>\n",
       "            </tr>\n",
       "            <tr>\n",
       "                        <th id=\"T_ff5c5_level0_row15\" class=\"row_heading level0 row15\" >bulk_10</th>\n",
       "                        <td id=\"T_ff5c5_row15_col0\" class=\"data row15 col0\" >0.035791</td>\n",
       "                        <td id=\"T_ff5c5_row15_col1\" class=\"data row15 col1\" >0.061691</td>\n",
       "                        <td id=\"T_ff5c5_row15_col2\" class=\"data row15 col2\" >0.008036</td>\n",
       "                        <td id=\"T_ff5c5_row15_col3\" class=\"data row15 col3\" >0.005693</td>\n",
       "                        <td id=\"T_ff5c5_row15_col4\" class=\"data row15 col4\" >-0.013147</td>\n",
       "                        <td id=\"T_ff5c5_row15_col5\" class=\"data row15 col5\" >0.007183</td>\n",
       "                        <td id=\"T_ff5c5_row15_col6\" class=\"data row15 col6\" >-0.023044</td>\n",
       "                        <td id=\"T_ff5c5_row15_col7\" class=\"data row15 col7\" >-0.018235</td>\n",
       "                        <td id=\"T_ff5c5_row15_col8\" class=\"data row15 col8\" >-0.085609</td>\n",
       "                        <td id=\"T_ff5c5_row15_col9\" class=\"data row15 col9\" >-0.085481</td>\n",
       "                        <td id=\"T_ff5c5_row15_col10\" class=\"data row15 col10\" >-0.028830</td>\n",
       "                        <td id=\"T_ff5c5_row15_col11\" class=\"data row15 col11\" >-0.097709</td>\n",
       "                        <td id=\"T_ff5c5_row15_col12\" class=\"data row15 col12\" >-0.015985</td>\n",
       "                        <td id=\"T_ff5c5_row15_col13\" class=\"data row15 col13\" >-0.005068</td>\n",
       "                        <td id=\"T_ff5c5_row15_col14\" class=\"data row15 col14\" >-0.017491</td>\n",
       "                        <td id=\"T_ff5c5_row15_col15\" class=\"data row15 col15\" >1.000000</td>\n",
       "                        <td id=\"T_ff5c5_row15_col16\" class=\"data row15 col16\" >-0.045227</td>\n",
       "                        <td id=\"T_ff5c5_row15_col17\" class=\"data row15 col17\" >0.024191</td>\n",
       "                        <td id=\"T_ff5c5_row15_col18\" class=\"data row15 col18\" >-0.018342</td>\n",
       "                        <td id=\"T_ff5c5_row15_col19\" class=\"data row15 col19\" >-0.048628</td>\n",
       "                        <td id=\"T_ff5c5_row15_col20\" class=\"data row15 col20\" >0.049956</td>\n",
       "                        <td id=\"T_ff5c5_row15_col21\" class=\"data row15 col21\" >-0.009879</td>\n",
       "                        <td id=\"T_ff5c5_row15_col22\" class=\"data row15 col22\" >0.062481</td>\n",
       "                        <td id=\"T_ff5c5_row15_col23\" class=\"data row15 col23\" >-0.104179</td>\n",
       "                        <td id=\"T_ff5c5_row15_col24\" class=\"data row15 col24\" >-0.028319</td>\n",
       "                        <td id=\"T_ff5c5_row15_col25\" class=\"data row15 col25\" >-0.015760</td>\n",
       "                        <td id=\"T_ff5c5_row15_col26\" class=\"data row15 col26\" >nan</td>\n",
       "                        <td id=\"T_ff5c5_row15_col27\" class=\"data row15 col27\" >-0.018076</td>\n",
       "                        <td id=\"T_ff5c5_row15_col28\" class=\"data row15 col28\" >-0.007563</td>\n",
       "                        <td id=\"T_ff5c5_row15_col29\" class=\"data row15 col29\" >-0.017296</td>\n",
       "                        <td id=\"T_ff5c5_row15_col30\" class=\"data row15 col30\" >-0.022441</td>\n",
       "            </tr>\n",
       "            <tr>\n",
       "                        <th id=\"T_ff5c5_level0_row16\" class=\"row_heading level0 row16\" >bulk_11</th>\n",
       "                        <td id=\"T_ff5c5_row16_col0\" class=\"data row16 col0\" >-0.087717</td>\n",
       "                        <td id=\"T_ff5c5_row16_col1\" class=\"data row16 col1\" >-0.110517</td>\n",
       "                        <td id=\"T_ff5c5_row16_col2\" class=\"data row16 col2\" >0.070390</td>\n",
       "                        <td id=\"T_ff5c5_row16_col3\" class=\"data row16 col3\" >0.069483</td>\n",
       "                        <td id=\"T_ff5c5_row16_col4\" class=\"data row16 col4\" >0.085539</td>\n",
       "                        <td id=\"T_ff5c5_row16_col5\" class=\"data row16 col5\" >0.070141</td>\n",
       "                        <td id=\"T_ff5c5_row16_col6\" class=\"data row16 col6\" >-0.037009</td>\n",
       "                        <td id=\"T_ff5c5_row16_col7\" class=\"data row16 col7\" >0.001837</td>\n",
       "                        <td id=\"T_ff5c5_row16_col8\" class=\"data row16 col8\" >-0.008658</td>\n",
       "                        <td id=\"T_ff5c5_row16_col9\" class=\"data row16 col9\" >-0.117665</td>\n",
       "                        <td id=\"T_ff5c5_row16_col10\" class=\"data row16 col10\" >-0.015630</td>\n",
       "                        <td id=\"T_ff5c5_row16_col11\" class=\"data row16 col11\" >0.199274</td>\n",
       "                        <td id=\"T_ff5c5_row16_col12\" class=\"data row16 col12\" >-0.004717</td>\n",
       "                        <td id=\"T_ff5c5_row16_col13\" class=\"data row16 col13\" >-0.003893</td>\n",
       "                        <td id=\"T_ff5c5_row16_col14\" class=\"data row16 col14\" >-0.013436</td>\n",
       "                        <td id=\"T_ff5c5_row16_col15\" class=\"data row16 col15\" >-0.045227</td>\n",
       "                        <td id=\"T_ff5c5_row16_col16\" class=\"data row16 col16\" >1.000000</td>\n",
       "                        <td id=\"T_ff5c5_row16_col17\" class=\"data row16 col17\" >-0.036643</td>\n",
       "                        <td id=\"T_ff5c5_row16_col18\" class=\"data row16 col18\" >-0.010117</td>\n",
       "                        <td id=\"T_ff5c5_row16_col19\" class=\"data row16 col19\" >0.078279</td>\n",
       "                        <td id=\"T_ff5c5_row16_col20\" class=\"data row16 col20\" >-0.049977</td>\n",
       "                        <td id=\"T_ff5c5_row16_col21\" class=\"data row16 col21\" >0.041922</td>\n",
       "                        <td id=\"T_ff5c5_row16_col22\" class=\"data row16 col22\" >-0.115356</td>\n",
       "                        <td id=\"T_ff5c5_row16_col23\" class=\"data row16 col23\" >0.066725</td>\n",
       "                        <td id=\"T_ff5c5_row16_col24\" class=\"data row16 col24\" >-0.021753</td>\n",
       "                        <td id=\"T_ff5c5_row16_col25\" class=\"data row16 col25\" >-0.012106</td>\n",
       "                        <td id=\"T_ff5c5_row16_col26\" class=\"data row16 col26\" >nan</td>\n",
       "                        <td id=\"T_ff5c5_row16_col27\" class=\"data row16 col27\" >0.009367</td>\n",
       "                        <td id=\"T_ff5c5_row16_col28\" class=\"data row16 col28\" >-0.005810</td>\n",
       "                        <td id=\"T_ff5c5_row16_col29\" class=\"data row16 col29\" >-0.013286</td>\n",
       "                        <td id=\"T_ff5c5_row16_col30\" class=\"data row16 col30\" >-0.017238</td>\n",
       "            </tr>\n",
       "            <tr>\n",
       "                        <th id=\"T_ff5c5_level0_row17\" class=\"row_heading level0 row17\" >bulk_12</th>\n",
       "                        <td id=\"T_ff5c5_row17_col0\" class=\"data row17 col0\" >-0.061164</td>\n",
       "                        <td id=\"T_ff5c5_row17_col1\" class=\"data row17 col1\" >0.265241</td>\n",
       "                        <td id=\"T_ff5c5_row17_col2\" class=\"data row17 col2\" >0.285134</td>\n",
       "                        <td id=\"T_ff5c5_row17_col3\" class=\"data row17 col3\" >0.284851</td>\n",
       "                        <td id=\"T_ff5c5_row17_col4\" class=\"data row17 col4\" >0.464815</td>\n",
       "                        <td id=\"T_ff5c5_row17_col5\" class=\"data row17 col5\" >0.285506</td>\n",
       "                        <td id=\"T_ff5c5_row17_col6\" class=\"data row17 col6\" >0.327637</td>\n",
       "                        <td id=\"T_ff5c5_row17_col7\" class=\"data row17 col7\" >-0.099758</td>\n",
       "                        <td id=\"T_ff5c5_row17_col8\" class=\"data row17 col8\" >0.018912</td>\n",
       "                        <td id=\"T_ff5c5_row17_col9\" class=\"data row17 col9\" >0.104344</td>\n",
       "                        <td id=\"T_ff5c5_row17_col10\" class=\"data row17 col10\" >-0.073461</td>\n",
       "                        <td id=\"T_ff5c5_row17_col11\" class=\"data row17 col11\" >-0.113537</td>\n",
       "                        <td id=\"T_ff5c5_row17_col12\" class=\"data row17 col12\" >-0.017977</td>\n",
       "                        <td id=\"T_ff5c5_row17_col13\" class=\"data row17 col13\" >-0.027728</td>\n",
       "                        <td id=\"T_ff5c5_row17_col14\" class=\"data row17 col14\" >-0.058220</td>\n",
       "                        <td id=\"T_ff5c5_row17_col15\" class=\"data row17 col15\" >0.024191</td>\n",
       "                        <td id=\"T_ff5c5_row17_col16\" class=\"data row17 col16\" >-0.036643</td>\n",
       "                        <td id=\"T_ff5c5_row17_col17\" class=\"data row17 col17\" >1.000000</td>\n",
       "                        <td id=\"T_ff5c5_row17_col18\" class=\"data row17 col18\" >0.054432</td>\n",
       "                        <td id=\"T_ff5c5_row17_col19\" class=\"data row17 col19\" >0.480171</td>\n",
       "                        <td id=\"T_ff5c5_row17_col20\" class=\"data row17 col20\" >0.614359</td>\n",
       "                        <td id=\"T_ff5c5_row17_col21\" class=\"data row17 col21\" >0.215532</td>\n",
       "                        <td id=\"T_ff5c5_row17_col22\" class=\"data row17 col22\" >0.170117</td>\n",
       "                        <td id=\"T_ff5c5_row17_col23\" class=\"data row17 col23\" >-0.100186</td>\n",
       "                        <td id=\"T_ff5c5_row17_col24\" class=\"data row17 col24\" >-0.121489</td>\n",
       "                        <td id=\"T_ff5c5_row17_col25\" class=\"data row17 col25\" >-0.086222</td>\n",
       "                        <td id=\"T_ff5c5_row17_col26\" class=\"data row17 col26\" >nan</td>\n",
       "                        <td id=\"T_ff5c5_row17_col27\" class=\"data row17 col27\" >-0.043221</td>\n",
       "                        <td id=\"T_ff5c5_row17_col28\" class=\"data row17 col28\" >-0.041377</td>\n",
       "                        <td id=\"T_ff5c5_row17_col29\" class=\"data row17 col29\" >-0.056273</td>\n",
       "                        <td id=\"T_ff5c5_row17_col30\" class=\"data row17 col30\" >-0.042666</td>\n",
       "            </tr>\n",
       "            <tr>\n",
       "                        <th id=\"T_ff5c5_level0_row18\" class=\"row_heading level0 row18\" >bulk_13</th>\n",
       "                        <td id=\"T_ff5c5_row18_col0\" class=\"data row18 col0\" >0.018910</td>\n",
       "                        <td id=\"T_ff5c5_row18_col1\" class=\"data row18 col1\" >-0.011054</td>\n",
       "                        <td id=\"T_ff5c5_row18_col2\" class=\"data row18 col2\" >0.105748</td>\n",
       "                        <td id=\"T_ff5c5_row18_col3\" class=\"data row18 col3\" >0.103397</td>\n",
       "                        <td id=\"T_ff5c5_row18_col4\" class=\"data row18 col4\" >0.129793</td>\n",
       "                        <td id=\"T_ff5c5_row18_col5\" class=\"data row18 col5\" >0.105096</td>\n",
       "                        <td id=\"T_ff5c5_row18_col6\" class=\"data row18 col6\" >-0.010411</td>\n",
       "                        <td id=\"T_ff5c5_row18_col7\" class=\"data row18 col7\" >-0.005681</td>\n",
       "                        <td id=\"T_ff5c5_row18_col8\" class=\"data row18 col8\" >-0.013751</td>\n",
       "                        <td id=\"T_ff5c5_row18_col9\" class=\"data row18 col9\" >0.003414</td>\n",
       "                        <td id=\"T_ff5c5_row18_col10\" class=\"data row18 col10\" >-0.008981</td>\n",
       "                        <td id=\"T_ff5c5_row18_col11\" class=\"data row18 col11\" >0.042553</td>\n",
       "                        <td id=\"T_ff5c5_row18_col12\" class=\"data row18 col12\" >-0.004980</td>\n",
       "                        <td id=\"T_ff5c5_row18_col13\" class=\"data row18 col13\" >-0.001579</td>\n",
       "                        <td id=\"T_ff5c5_row18_col14\" class=\"data row18 col14\" >-0.005449</td>\n",
       "                        <td id=\"T_ff5c5_row18_col15\" class=\"data row18 col15\" >-0.018342</td>\n",
       "                        <td id=\"T_ff5c5_row18_col16\" class=\"data row18 col16\" >-0.010117</td>\n",
       "                        <td id=\"T_ff5c5_row18_col17\" class=\"data row18 col17\" >0.054432</td>\n",
       "                        <td id=\"T_ff5c5_row18_col18\" class=\"data row18 col18\" >1.000000</td>\n",
       "                        <td id=\"T_ff5c5_row18_col19\" class=\"data row18 col19\" >-0.076228</td>\n",
       "                        <td id=\"T_ff5c5_row18_col20\" class=\"data row18 col20\" >0.018524</td>\n",
       "                        <td id=\"T_ff5c5_row18_col21\" class=\"data row18 col21\" >0.049112</td>\n",
       "                        <td id=\"T_ff5c5_row18_col22\" class=\"data row18 col22\" >0.039669</td>\n",
       "                        <td id=\"T_ff5c5_row18_col23\" class=\"data row18 col23\" >-0.001620</td>\n",
       "                        <td id=\"T_ff5c5_row18_col24\" class=\"data row18 col24\" >-0.008822</td>\n",
       "                        <td id=\"T_ff5c5_row18_col25\" class=\"data row18 col25\" >-0.004910</td>\n",
       "                        <td id=\"T_ff5c5_row18_col26\" class=\"data row18 col26\" >nan</td>\n",
       "                        <td id=\"T_ff5c5_row18_col27\" class=\"data row18 col27\" >-0.008580</td>\n",
       "                        <td id=\"T_ff5c5_row18_col28\" class=\"data row18 col28\" >-0.002356</td>\n",
       "                        <td id=\"T_ff5c5_row18_col29\" class=\"data row18 col29\" >-0.005388</td>\n",
       "                        <td id=\"T_ff5c5_row18_col30\" class=\"data row18 col30\" >-0.006991</td>\n",
       "            </tr>\n",
       "            <tr>\n",
       "                        <th id=\"T_ff5c5_level0_row19\" class=\"row_heading level0 row19\" >bulk_14</th>\n",
       "                        <td id=\"T_ff5c5_row19_col0\" class=\"data row19 col0\" >-0.132640</td>\n",
       "                        <td id=\"T_ff5c5_row19_col1\" class=\"data row19 col1\" >0.113165</td>\n",
       "                        <td id=\"T_ff5c5_row19_col2\" class=\"data row19 col2\" >0.301258</td>\n",
       "                        <td id=\"T_ff5c5_row19_col3\" class=\"data row19 col3\" >0.297237</td>\n",
       "                        <td id=\"T_ff5c5_row19_col4\" class=\"data row19 col4\" >0.461021</td>\n",
       "                        <td id=\"T_ff5c5_row19_col5\" class=\"data row19 col5\" >0.300335</td>\n",
       "                        <td id=\"T_ff5c5_row19_col6\" class=\"data row19 col6\" >0.208215</td>\n",
       "                        <td id=\"T_ff5c5_row19_col7\" class=\"data row19 col7\" >-0.141981</td>\n",
       "                        <td id=\"T_ff5c5_row19_col8\" class=\"data row19 col8\" >0.010684</td>\n",
       "                        <td id=\"T_ff5c5_row19_col9\" class=\"data row19 col9\" >-0.090557</td>\n",
       "                        <td id=\"T_ff5c5_row19_col10\" class=\"data row19 col10\" >-0.066610</td>\n",
       "                        <td id=\"T_ff5c5_row19_col11\" class=\"data row19 col11\" >0.177188</td>\n",
       "                        <td id=\"T_ff5c5_row19_col12\" class=\"data row19 col12\" >-0.077015</td>\n",
       "                        <td id=\"T_ff5c5_row19_col13\" class=\"data row19 col13\" >-0.039464</td>\n",
       "                        <td id=\"T_ff5c5_row19_col14\" class=\"data row19 col14\" >0.038870</td>\n",
       "                        <td id=\"T_ff5c5_row19_col15\" class=\"data row19 col15\" >-0.048628</td>\n",
       "                        <td id=\"T_ff5c5_row19_col16\" class=\"data row19 col16\" >0.078279</td>\n",
       "                        <td id=\"T_ff5c5_row19_col17\" class=\"data row19 col17\" >0.480171</td>\n",
       "                        <td id=\"T_ff5c5_row19_col18\" class=\"data row19 col18\" >-0.076228</td>\n",
       "                        <td id=\"T_ff5c5_row19_col19\" class=\"data row19 col19\" >1.000000</td>\n",
       "                        <td id=\"T_ff5c5_row19_col20\" class=\"data row19 col20\" >0.264504</td>\n",
       "                        <td id=\"T_ff5c5_row19_col21\" class=\"data row19 col21\" >0.269012</td>\n",
       "                        <td id=\"T_ff5c5_row19_col22\" class=\"data row19 col22\" >-0.054473</td>\n",
       "                        <td id=\"T_ff5c5_row19_col23\" class=\"data row19 col23\" >0.035552</td>\n",
       "                        <td id=\"T_ff5c5_row19_col24\" class=\"data row19 col24\" >-0.009236</td>\n",
       "                        <td id=\"T_ff5c5_row19_col25\" class=\"data row19 col25\" >-0.122715</td>\n",
       "                        <td id=\"T_ff5c5_row19_col26\" class=\"data row19 col26\" >nan</td>\n",
       "                        <td id=\"T_ff5c5_row19_col27\" class=\"data row19 col27\" >-0.053012</td>\n",
       "                        <td id=\"T_ff5c5_row19_col28\" class=\"data row19 col28\" >-0.058889</td>\n",
       "                        <td id=\"T_ff5c5_row19_col29\" class=\"data row19 col29\" >0.043710</td>\n",
       "                        <td id=\"T_ff5c5_row19_col30\" class=\"data row19 col30\" >0.018425</td>\n",
       "            </tr>\n",
       "            <tr>\n",
       "                        <th id=\"T_ff5c5_level0_row20\" class=\"row_heading level0 row20\" >bulk_15</th>\n",
       "                        <td id=\"T_ff5c5_row20_col0\" class=\"data row20 col0\" >-0.041960</td>\n",
       "                        <td id=\"T_ff5c5_row20_col1\" class=\"data row20 col1\" >0.266348</td>\n",
       "                        <td id=\"T_ff5c5_row20_col2\" class=\"data row20 col2\" >0.167875</td>\n",
       "                        <td id=\"T_ff5c5_row20_col3\" class=\"data row20 col3\" >0.166447</td>\n",
       "                        <td id=\"T_ff5c5_row20_col4\" class=\"data row20 col4\" >0.295149</td>\n",
       "                        <td id=\"T_ff5c5_row20_col5\" class=\"data row20 col5\" >0.167640</td>\n",
       "                        <td id=\"T_ff5c5_row20_col6\" class=\"data row20 col6\" >-0.000323</td>\n",
       "                        <td id=\"T_ff5c5_row20_col7\" class=\"data row20 col7\" >-0.106577</td>\n",
       "                        <td id=\"T_ff5c5_row20_col8\" class=\"data row20 col8\" >-0.013031</td>\n",
       "                        <td id=\"T_ff5c5_row20_col9\" class=\"data row20 col9\" >0.102593</td>\n",
       "                        <td id=\"T_ff5c5_row20_col10\" class=\"data row20 col10\" >-0.067909</td>\n",
       "                        <td id=\"T_ff5c5_row20_col11\" class=\"data row20 col11\" >-0.111807</td>\n",
       "                        <td id=\"T_ff5c5_row20_col12\" class=\"data row20 col12\" >-0.090856</td>\n",
       "                        <td id=\"T_ff5c5_row20_col13\" class=\"data row20 col13\" >-0.029623</td>\n",
       "                        <td id=\"T_ff5c5_row20_col14\" class=\"data row20 col14\" >-0.094300</td>\n",
       "                        <td id=\"T_ff5c5_row20_col15\" class=\"data row20 col15\" >0.049956</td>\n",
       "                        <td id=\"T_ff5c5_row20_col16\" class=\"data row20 col16\" >-0.049977</td>\n",
       "                        <td id=\"T_ff5c5_row20_col17\" class=\"data row20 col17\" >0.614359</td>\n",
       "                        <td id=\"T_ff5c5_row20_col18\" class=\"data row20 col18\" >0.018524</td>\n",
       "                        <td id=\"T_ff5c5_row20_col19\" class=\"data row20 col19\" >0.264504</td>\n",
       "                        <td id=\"T_ff5c5_row20_col20\" class=\"data row20 col20\" >1.000000</td>\n",
       "                        <td id=\"T_ff5c5_row20_col21\" class=\"data row20 col21\" >0.038998</td>\n",
       "                        <td id=\"T_ff5c5_row20_col22\" class=\"data row20 col22\" >0.120059</td>\n",
       "                        <td id=\"T_ff5c5_row20_col23\" class=\"data row20 col23\" >-0.100112</td>\n",
       "                        <td id=\"T_ff5c5_row20_col24\" class=\"data row20 col24\" >-0.119141</td>\n",
       "                        <td id=\"T_ff5c5_row20_col25\" class=\"data row20 col25\" >-0.092115</td>\n",
       "                        <td id=\"T_ff5c5_row20_col26\" class=\"data row20 col26\" >nan</td>\n",
       "                        <td id=\"T_ff5c5_row20_col27\" class=\"data row20 col27\" >-0.032889</td>\n",
       "                        <td id=\"T_ff5c5_row20_col28\" class=\"data row20 col28\" >-0.044205</td>\n",
       "                        <td id=\"T_ff5c5_row20_col29\" class=\"data row20 col29\" >-0.090714</td>\n",
       "                        <td id=\"T_ff5c5_row20_col30\" class=\"data row20 col30\" >-0.037412</td>\n",
       "            </tr>\n",
       "            <tr>\n",
       "                        <th id=\"T_ff5c5_level0_row21\" class=\"row_heading level0 row21\" >gas_1</th>\n",
       "                        <td id=\"T_ff5c5_row21_col0\" class=\"data row21 col0\" >0.037686</td>\n",
       "                        <td id=\"T_ff5c5_row21_col1\" class=\"data row21 col1\" >0.058063</td>\n",
       "                        <td id=\"T_ff5c5_row21_col2\" class=\"data row21 col2\" >0.371061</td>\n",
       "                        <td id=\"T_ff5c5_row21_col3\" class=\"data row21 col3\" >0.368092</td>\n",
       "                        <td id=\"T_ff5c5_row21_col4\" class=\"data row21 col4\" >0.397048</td>\n",
       "                        <td id=\"T_ff5c5_row21_col5\" class=\"data row21 col5\" >0.370645</td>\n",
       "                        <td id=\"T_ff5c5_row21_col6\" class=\"data row21 col6\" >0.239360</td>\n",
       "                        <td id=\"T_ff5c5_row21_col7\" class=\"data row21 col7\" >0.218583</td>\n",
       "                        <td id=\"T_ff5c5_row21_col8\" class=\"data row21 col8\" >0.057472</td>\n",
       "                        <td id=\"T_ff5c5_row21_col9\" class=\"data row21 col9\" >0.016853</td>\n",
       "                        <td id=\"T_ff5c5_row21_col10\" class=\"data row21 col10\" >0.087060</td>\n",
       "                        <td id=\"T_ff5c5_row21_col11\" class=\"data row21 col11\" >0.140886</td>\n",
       "                        <td id=\"T_ff5c5_row21_col12\" class=\"data row21 col12\" >0.199384</td>\n",
       "                        <td id=\"T_ff5c5_row21_col13\" class=\"data row21 col13\" >0.004081</td>\n",
       "                        <td id=\"T_ff5c5_row21_col14\" class=\"data row21 col14\" >0.117090</td>\n",
       "                        <td id=\"T_ff5c5_row21_col15\" class=\"data row21 col15\" >-0.009879</td>\n",
       "                        <td id=\"T_ff5c5_row21_col16\" class=\"data row21 col16\" >0.041922</td>\n",
       "                        <td id=\"T_ff5c5_row21_col17\" class=\"data row21 col17\" >0.215532</td>\n",
       "                        <td id=\"T_ff5c5_row21_col18\" class=\"data row21 col18\" >0.049112</td>\n",
       "                        <td id=\"T_ff5c5_row21_col19\" class=\"data row21 col19\" >0.269012</td>\n",
       "                        <td id=\"T_ff5c5_row21_col20\" class=\"data row21 col20\" >0.038998</td>\n",
       "                        <td id=\"T_ff5c5_row21_col21\" class=\"data row21 col21\" >1.000000</td>\n",
       "                        <td id=\"T_ff5c5_row21_col22\" class=\"data row21 col22\" >0.115629</td>\n",
       "                        <td id=\"T_ff5c5_row21_col23\" class=\"data row21 col23\" >0.103664</td>\n",
       "                        <td id=\"T_ff5c5_row21_col24\" class=\"data row21 col24\" >0.103659</td>\n",
       "                        <td id=\"T_ff5c5_row21_col25\" class=\"data row21 col25\" >0.146140</td>\n",
       "                        <td id=\"T_ff5c5_row21_col26\" class=\"data row21 col26\" >nan</td>\n",
       "                        <td id=\"T_ff5c5_row21_col27\" class=\"data row21 col27\" >0.108406</td>\n",
       "                        <td id=\"T_ff5c5_row21_col28\" class=\"data row21 col28\" >0.079361</td>\n",
       "                        <td id=\"T_ff5c5_row21_col29\" class=\"data row21 col29\" >0.118594</td>\n",
       "                        <td id=\"T_ff5c5_row21_col30\" class=\"data row21 col30\" >0.013835</td>\n",
       "            </tr>\n",
       "            <tr>\n",
       "                        <th id=\"T_ff5c5_level0_row22\" class=\"row_heading level0 row22\" >wire_1</th>\n",
       "                        <td id=\"T_ff5c5_row22_col0\" class=\"data row22 col0\" >0.207442</td>\n",
       "                        <td id=\"T_ff5c5_row22_col1\" class=\"data row22 col1\" >0.313493</td>\n",
       "                        <td id=\"T_ff5c5_row22_col2\" class=\"data row22 col2\" >0.136508</td>\n",
       "                        <td id=\"T_ff5c5_row22_col3\" class=\"data row22 col3\" >0.136888</td>\n",
       "                        <td id=\"T_ff5c5_row22_col4\" class=\"data row22 col4\" >0.052769</td>\n",
       "                        <td id=\"T_ff5c5_row22_col5\" class=\"data row22 col5\" >0.136913</td>\n",
       "                        <td id=\"T_ff5c5_row22_col6\" class=\"data row22 col6\" >0.015794</td>\n",
       "                        <td id=\"T_ff5c5_row22_col7\" class=\"data row22 col7\" >-0.170400</td>\n",
       "                        <td id=\"T_ff5c5_row22_col8\" class=\"data row22 col8\" >0.040465</td>\n",
       "                        <td id=\"T_ff5c5_row22_col9\" class=\"data row22 col9\" >0.295424</td>\n",
       "                        <td id=\"T_ff5c5_row22_col10\" class=\"data row22 col10\" >-0.013550</td>\n",
       "                        <td id=\"T_ff5c5_row22_col11\" class=\"data row22 col11\" >-0.233375</td>\n",
       "                        <td id=\"T_ff5c5_row22_col12\" class=\"data row22 col12\" >-0.144045</td>\n",
       "                        <td id=\"T_ff5c5_row22_col13\" class=\"data row22 col13\" >0.034843</td>\n",
       "                        <td id=\"T_ff5c5_row22_col14\" class=\"data row22 col14\" >0.022732</td>\n",
       "                        <td id=\"T_ff5c5_row22_col15\" class=\"data row22 col15\" >0.062481</td>\n",
       "                        <td id=\"T_ff5c5_row22_col16\" class=\"data row22 col16\" >-0.115356</td>\n",
       "                        <td id=\"T_ff5c5_row22_col17\" class=\"data row22 col17\" >0.170117</td>\n",
       "                        <td id=\"T_ff5c5_row22_col18\" class=\"data row22 col18\" >0.039669</td>\n",
       "                        <td id=\"T_ff5c5_row22_col19\" class=\"data row22 col19\" >-0.054473</td>\n",
       "                        <td id=\"T_ff5c5_row22_col20\" class=\"data row22 col20\" >0.120059</td>\n",
       "                        <td id=\"T_ff5c5_row22_col21\" class=\"data row22 col21\" >0.115629</td>\n",
       "                        <td id=\"T_ff5c5_row22_col22\" class=\"data row22 col22\" >1.000000</td>\n",
       "                        <td id=\"T_ff5c5_row22_col23\" class=\"data row22 col23\" >-0.067045</td>\n",
       "                        <td id=\"T_ff5c5_row22_col24\" class=\"data row22 col24\" >0.038305</td>\n",
       "                        <td id=\"T_ff5c5_row22_col25\" class=\"data row22 col25\" >-0.142777</td>\n",
       "                        <td id=\"T_ff5c5_row22_col26\" class=\"data row22 col26\" >nan</td>\n",
       "                        <td id=\"T_ff5c5_row22_col27\" class=\"data row22 col27\" >-0.128731</td>\n",
       "                        <td id=\"T_ff5c5_row22_col28\" class=\"data row22 col28\" >-0.067874</td>\n",
       "                        <td id=\"T_ff5c5_row22_col29\" class=\"data row22 col29\" >0.017340</td>\n",
       "                        <td id=\"T_ff5c5_row22_col30\" class=\"data row22 col30\" >0.021205</td>\n",
       "            </tr>\n",
       "            <tr>\n",
       "                        <th id=\"T_ff5c5_level0_row23\" class=\"row_heading level0 row23\" >wire_2</th>\n",
       "                        <td id=\"T_ff5c5_row23_col0\" class=\"data row23 col0\" >-0.084844</td>\n",
       "                        <td id=\"T_ff5c5_row23_col1\" class=\"data row23 col1\" >-0.206883</td>\n",
       "                        <td id=\"T_ff5c5_row23_col2\" class=\"data row23 col2\" >0.064633</td>\n",
       "                        <td id=\"T_ff5c5_row23_col3\" class=\"data row23 col3\" >0.063831</td>\n",
       "                        <td id=\"T_ff5c5_row23_col4\" class=\"data row23 col4\" >0.055739</td>\n",
       "                        <td id=\"T_ff5c5_row23_col5\" class=\"data row23 col5\" >0.064476</td>\n",
       "                        <td id=\"T_ff5c5_row23_col6\" class=\"data row23 col6\" >-0.011764</td>\n",
       "                        <td id=\"T_ff5c5_row23_col7\" class=\"data row23 col7\" >-0.039388</td>\n",
       "                        <td id=\"T_ff5c5_row23_col8\" class=\"data row23 col8\" >0.096544</td>\n",
       "                        <td id=\"T_ff5c5_row23_col9\" class=\"data row23 col9\" >-0.266983</td>\n",
       "                        <td id=\"T_ff5c5_row23_col10\" class=\"data row23 col10\" >-0.014188</td>\n",
       "                        <td id=\"T_ff5c5_row23_col11\" class=\"data row23 col11\" >0.203061</td>\n",
       "                        <td id=\"T_ff5c5_row23_col12\" class=\"data row23 col12\" >-0.000830</td>\n",
       "                        <td id=\"T_ff5c5_row23_col13\" class=\"data row23 col13\" >0.018900</td>\n",
       "                        <td id=\"T_ff5c5_row23_col14\" class=\"data row23 col14\" >0.066697</td>\n",
       "                        <td id=\"T_ff5c5_row23_col15\" class=\"data row23 col15\" >-0.104179</td>\n",
       "                        <td id=\"T_ff5c5_row23_col16\" class=\"data row23 col16\" >0.066725</td>\n",
       "                        <td id=\"T_ff5c5_row23_col17\" class=\"data row23 col17\" >-0.100186</td>\n",
       "                        <td id=\"T_ff5c5_row23_col18\" class=\"data row23 col18\" >-0.001620</td>\n",
       "                        <td id=\"T_ff5c5_row23_col19\" class=\"data row23 col19\" >0.035552</td>\n",
       "                        <td id=\"T_ff5c5_row23_col20\" class=\"data row23 col20\" >-0.100112</td>\n",
       "                        <td id=\"T_ff5c5_row23_col21\" class=\"data row23 col21\" >0.103664</td>\n",
       "                        <td id=\"T_ff5c5_row23_col22\" class=\"data row23 col22\" >-0.067045</td>\n",
       "                        <td id=\"T_ff5c5_row23_col23\" class=\"data row23 col23\" >1.000000</td>\n",
       "                        <td id=\"T_ff5c5_row23_col24\" class=\"data row23 col24\" >0.093985</td>\n",
       "                        <td id=\"T_ff5c5_row23_col25\" class=\"data row23 col25\" >-0.034043</td>\n",
       "                        <td id=\"T_ff5c5_row23_col26\" class=\"data row23 col26\" >nan</td>\n",
       "                        <td id=\"T_ff5c5_row23_col27\" class=\"data row23 col27\" >-0.059201</td>\n",
       "                        <td id=\"T_ff5c5_row23_col28\" class=\"data row23 col28\" >-0.016337</td>\n",
       "                        <td id=\"T_ff5c5_row23_col29\" class=\"data row23 col29\" >0.069245</td>\n",
       "                        <td id=\"T_ff5c5_row23_col30\" class=\"data row23 col30\" >0.213453</td>\n",
       "            </tr>\n",
       "            <tr>\n",
       "                        <th id=\"T_ff5c5_level0_row24\" class=\"row_heading level0 row24\" >wire_3</th>\n",
       "                        <td id=\"T_ff5c5_row24_col0\" class=\"data row24 col0\" >0.000232</td>\n",
       "                        <td id=\"T_ff5c5_row24_col1\" class=\"data row24 col1\" >-0.048049</td>\n",
       "                        <td id=\"T_ff5c5_row24_col2\" class=\"data row24 col2\" >0.054862</td>\n",
       "                        <td id=\"T_ff5c5_row24_col3\" class=\"data row24 col3\" >0.055732</td>\n",
       "                        <td id=\"T_ff5c5_row24_col4\" class=\"data row24 col4\" >0.033129</td>\n",
       "                        <td id=\"T_ff5c5_row24_col5\" class=\"data row24 col5\" >0.055234</td>\n",
       "                        <td id=\"T_ff5c5_row24_col6\" class=\"data row24 col6\" >0.020315</td>\n",
       "                        <td id=\"T_ff5c5_row24_col7\" class=\"data row24 col7\" >0.223100</td>\n",
       "                        <td id=\"T_ff5c5_row24_col8\" class=\"data row24 col8\" >0.005347</td>\n",
       "                        <td id=\"T_ff5c5_row24_col9\" class=\"data row24 col9\" >-0.039247</td>\n",
       "                        <td id=\"T_ff5c5_row24_col10\" class=\"data row24 col10\" >0.070718</td>\n",
       "                        <td id=\"T_ff5c5_row24_col11\" class=\"data row24 col11\" >-0.046949</td>\n",
       "                        <td id=\"T_ff5c5_row24_col12\" class=\"data row24 col12\" >0.156529</td>\n",
       "                        <td id=\"T_ff5c5_row24_col13\" class=\"data row24 col13\" >-0.002438</td>\n",
       "                        <td id=\"T_ff5c5_row24_col14\" class=\"data row24 col14\" >-0.008413</td>\n",
       "                        <td id=\"T_ff5c5_row24_col15\" class=\"data row24 col15\" >-0.028319</td>\n",
       "                        <td id=\"T_ff5c5_row24_col16\" class=\"data row24 col16\" >-0.021753</td>\n",
       "                        <td id=\"T_ff5c5_row24_col17\" class=\"data row24 col17\" >-0.121489</td>\n",
       "                        <td id=\"T_ff5c5_row24_col18\" class=\"data row24 col18\" >-0.008822</td>\n",
       "                        <td id=\"T_ff5c5_row24_col19\" class=\"data row24 col19\" >-0.009236</td>\n",
       "                        <td id=\"T_ff5c5_row24_col20\" class=\"data row24 col20\" >-0.119141</td>\n",
       "                        <td id=\"T_ff5c5_row24_col21\" class=\"data row24 col21\" >0.103659</td>\n",
       "                        <td id=\"T_ff5c5_row24_col22\" class=\"data row24 col22\" >0.038305</td>\n",
       "                        <td id=\"T_ff5c5_row24_col23\" class=\"data row24 col23\" >0.093985</td>\n",
       "                        <td id=\"T_ff5c5_row24_col24\" class=\"data row24 col24\" >1.000000</td>\n",
       "                        <td id=\"T_ff5c5_row24_col25\" class=\"data row24 col25\" >0.169716</td>\n",
       "                        <td id=\"T_ff5c5_row24_col26\" class=\"data row24 col26\" >nan</td>\n",
       "                        <td id=\"T_ff5c5_row24_col27\" class=\"data row24 col27\" >0.183289</td>\n",
       "                        <td id=\"T_ff5c5_row24_col28\" class=\"data row24 col28\" >0.100347</td>\n",
       "                        <td id=\"T_ff5c5_row24_col29\" class=\"data row24 col29\" >-0.008319</td>\n",
       "                        <td id=\"T_ff5c5_row24_col30\" class=\"data row24 col30\" >-0.010794</td>\n",
       "            </tr>\n",
       "            <tr>\n",
       "                        <th id=\"T_ff5c5_level0_row25\" class=\"row_heading level0 row25\" >wire_4</th>\n",
       "                        <td id=\"T_ff5c5_row25_col0\" class=\"data row25 col0\" >0.065347</td>\n",
       "                        <td id=\"T_ff5c5_row25_col1\" class=\"data row25 col1\" >-0.161311</td>\n",
       "                        <td id=\"T_ff5c5_row25_col2\" class=\"data row25 col2\" >0.103658</td>\n",
       "                        <td id=\"T_ff5c5_row25_col3\" class=\"data row25 col3\" >0.102089</td>\n",
       "                        <td id=\"T_ff5c5_row25_col4\" class=\"data row25 col4\" >0.054883</td>\n",
       "                        <td id=\"T_ff5c5_row25_col5\" class=\"data row25 col5\" >0.103291</td>\n",
       "                        <td id=\"T_ff5c5_row25_col6\" class=\"data row25 col6\" >0.147235</td>\n",
       "                        <td id=\"T_ff5c5_row25_col7\" class=\"data row25 col7\" >0.699320</td>\n",
       "                        <td id=\"T_ff5c5_row25_col8\" class=\"data row25 col8\" >-0.040974</td>\n",
       "                        <td id=\"T_ff5c5_row25_col9\" class=\"data row25 col9\" >0.034843</td>\n",
       "                        <td id=\"T_ff5c5_row25_col10\" class=\"data row25 col10\" >0.262681</td>\n",
       "                        <td id=\"T_ff5c5_row25_col11\" class=\"data row25 col11\" >-0.026155</td>\n",
       "                        <td id=\"T_ff5c5_row25_col12\" class=\"data row25 col12\" >0.740555</td>\n",
       "                        <td id=\"T_ff5c5_row25_col13\" class=\"data row25 col13\" >-0.001357</td>\n",
       "                        <td id=\"T_ff5c5_row25_col14\" class=\"data row25 col14\" >-0.004682</td>\n",
       "                        <td id=\"T_ff5c5_row25_col15\" class=\"data row25 col15\" >-0.015760</td>\n",
       "                        <td id=\"T_ff5c5_row25_col16\" class=\"data row25 col16\" >-0.012106</td>\n",
       "                        <td id=\"T_ff5c5_row25_col17\" class=\"data row25 col17\" >-0.086222</td>\n",
       "                        <td id=\"T_ff5c5_row25_col18\" class=\"data row25 col18\" >-0.004910</td>\n",
       "                        <td id=\"T_ff5c5_row25_col19\" class=\"data row25 col19\" >-0.122715</td>\n",
       "                        <td id=\"T_ff5c5_row25_col20\" class=\"data row25 col20\" >-0.092115</td>\n",
       "                        <td id=\"T_ff5c5_row25_col21\" class=\"data row25 col21\" >0.146140</td>\n",
       "                        <td id=\"T_ff5c5_row25_col22\" class=\"data row25 col22\" >-0.142777</td>\n",
       "                        <td id=\"T_ff5c5_row25_col23\" class=\"data row25 col23\" >-0.034043</td>\n",
       "                        <td id=\"T_ff5c5_row25_col24\" class=\"data row25 col24\" >0.169716</td>\n",
       "                        <td id=\"T_ff5c5_row25_col25\" class=\"data row25 col25\" >1.000000</td>\n",
       "                        <td id=\"T_ff5c5_row25_col26\" class=\"data row25 col26\" >nan</td>\n",
       "                        <td id=\"T_ff5c5_row25_col27\" class=\"data row25 col27\" >0.445905</td>\n",
       "                        <td id=\"T_ff5c5_row25_col28\" class=\"data row25 col28\" >0.602957</td>\n",
       "                        <td id=\"T_ff5c5_row25_col29\" class=\"data row25 col29\" >-0.004630</td>\n",
       "                        <td id=\"T_ff5c5_row25_col30\" class=\"data row25 col30\" >-0.006007</td>\n",
       "            </tr>\n",
       "            <tr>\n",
       "                        <th id=\"T_ff5c5_level0_row26\" class=\"row_heading level0 row26\" >wire_5</th>\n",
       "                        <td id=\"T_ff5c5_row26_col0\" class=\"data row26 col0\" >nan</td>\n",
       "                        <td id=\"T_ff5c5_row26_col1\" class=\"data row26 col1\" >nan</td>\n",
       "                        <td id=\"T_ff5c5_row26_col2\" class=\"data row26 col2\" >nan</td>\n",
       "                        <td id=\"T_ff5c5_row26_col3\" class=\"data row26 col3\" >nan</td>\n",
       "                        <td id=\"T_ff5c5_row26_col4\" class=\"data row26 col4\" >nan</td>\n",
       "                        <td id=\"T_ff5c5_row26_col5\" class=\"data row26 col5\" >nan</td>\n",
       "                        <td id=\"T_ff5c5_row26_col6\" class=\"data row26 col6\" >nan</td>\n",
       "                        <td id=\"T_ff5c5_row26_col7\" class=\"data row26 col7\" >nan</td>\n",
       "                        <td id=\"T_ff5c5_row26_col8\" class=\"data row26 col8\" >nan</td>\n",
       "                        <td id=\"T_ff5c5_row26_col9\" class=\"data row26 col9\" >nan</td>\n",
       "                        <td id=\"T_ff5c5_row26_col10\" class=\"data row26 col10\" >nan</td>\n",
       "                        <td id=\"T_ff5c5_row26_col11\" class=\"data row26 col11\" >nan</td>\n",
       "                        <td id=\"T_ff5c5_row26_col12\" class=\"data row26 col12\" >nan</td>\n",
       "                        <td id=\"T_ff5c5_row26_col13\" class=\"data row26 col13\" >nan</td>\n",
       "                        <td id=\"T_ff5c5_row26_col14\" class=\"data row26 col14\" >nan</td>\n",
       "                        <td id=\"T_ff5c5_row26_col15\" class=\"data row26 col15\" >nan</td>\n",
       "                        <td id=\"T_ff5c5_row26_col16\" class=\"data row26 col16\" >nan</td>\n",
       "                        <td id=\"T_ff5c5_row26_col17\" class=\"data row26 col17\" >nan</td>\n",
       "                        <td id=\"T_ff5c5_row26_col18\" class=\"data row26 col18\" >nan</td>\n",
       "                        <td id=\"T_ff5c5_row26_col19\" class=\"data row26 col19\" >nan</td>\n",
       "                        <td id=\"T_ff5c5_row26_col20\" class=\"data row26 col20\" >nan</td>\n",
       "                        <td id=\"T_ff5c5_row26_col21\" class=\"data row26 col21\" >nan</td>\n",
       "                        <td id=\"T_ff5c5_row26_col22\" class=\"data row26 col22\" >nan</td>\n",
       "                        <td id=\"T_ff5c5_row26_col23\" class=\"data row26 col23\" >nan</td>\n",
       "                        <td id=\"T_ff5c5_row26_col24\" class=\"data row26 col24\" >nan</td>\n",
       "                        <td id=\"T_ff5c5_row26_col25\" class=\"data row26 col25\" >nan</td>\n",
       "                        <td id=\"T_ff5c5_row26_col26\" class=\"data row26 col26\" >nan</td>\n",
       "                        <td id=\"T_ff5c5_row26_col27\" class=\"data row26 col27\" >nan</td>\n",
       "                        <td id=\"T_ff5c5_row26_col28\" class=\"data row26 col28\" >nan</td>\n",
       "                        <td id=\"T_ff5c5_row26_col29\" class=\"data row26 col29\" >nan</td>\n",
       "                        <td id=\"T_ff5c5_row26_col30\" class=\"data row26 col30\" >nan</td>\n",
       "            </tr>\n",
       "            <tr>\n",
       "                        <th id=\"T_ff5c5_level0_row27\" class=\"row_heading level0 row27\" >wire_6</th>\n",
       "                        <td id=\"T_ff5c5_row27_col0\" class=\"data row27 col0\" >0.020325</td>\n",
       "                        <td id=\"T_ff5c5_row27_col1\" class=\"data row27 col1\" >-0.084906</td>\n",
       "                        <td id=\"T_ff5c5_row27_col2\" class=\"data row27 col2\" >0.056359</td>\n",
       "                        <td id=\"T_ff5c5_row27_col3\" class=\"data row27 col3\" >0.054209</td>\n",
       "                        <td id=\"T_ff5c5_row27_col4\" class=\"data row27 col4\" >0.042085</td>\n",
       "                        <td id=\"T_ff5c5_row27_col5\" class=\"data row27 col5\" >0.055713</td>\n",
       "                        <td id=\"T_ff5c5_row27_col6\" class=\"data row27 col6\" >0.149481</td>\n",
       "                        <td id=\"T_ff5c5_row27_col7\" class=\"data row27 col7\" >0.558837</td>\n",
       "                        <td id=\"T_ff5c5_row27_col8\" class=\"data row27 col8\" >0.006699</td>\n",
       "                        <td id=\"T_ff5c5_row27_col9\" class=\"data row27 col9\" >-0.011236</td>\n",
       "                        <td id=\"T_ff5c5_row27_col10\" class=\"data row27 col10\" >0.204653</td>\n",
       "                        <td id=\"T_ff5c5_row27_col11\" class=\"data row27 col11\" >-0.020574</td>\n",
       "                        <td id=\"T_ff5c5_row27_col12\" class=\"data row27 col12\" >0.456046</td>\n",
       "                        <td id=\"T_ff5c5_row27_col13\" class=\"data row27 col13\" >-0.002371</td>\n",
       "                        <td id=\"T_ff5c5_row27_col14\" class=\"data row27 col14\" >-0.008182</td>\n",
       "                        <td id=\"T_ff5c5_row27_col15\" class=\"data row27 col15\" >-0.018076</td>\n",
       "                        <td id=\"T_ff5c5_row27_col16\" class=\"data row27 col16\" >0.009367</td>\n",
       "                        <td id=\"T_ff5c5_row27_col17\" class=\"data row27 col17\" >-0.043221</td>\n",
       "                        <td id=\"T_ff5c5_row27_col18\" class=\"data row27 col18\" >-0.008580</td>\n",
       "                        <td id=\"T_ff5c5_row27_col19\" class=\"data row27 col19\" >-0.053012</td>\n",
       "                        <td id=\"T_ff5c5_row27_col20\" class=\"data row27 col20\" >-0.032889</td>\n",
       "                        <td id=\"T_ff5c5_row27_col21\" class=\"data row27 col21\" >0.108406</td>\n",
       "                        <td id=\"T_ff5c5_row27_col22\" class=\"data row27 col22\" >-0.128731</td>\n",
       "                        <td id=\"T_ff5c5_row27_col23\" class=\"data row27 col23\" >-0.059201</td>\n",
       "                        <td id=\"T_ff5c5_row27_col24\" class=\"data row27 col24\" >0.183289</td>\n",
       "                        <td id=\"T_ff5c5_row27_col25\" class=\"data row27 col25\" >0.445905</td>\n",
       "                        <td id=\"T_ff5c5_row27_col26\" class=\"data row27 col26\" >nan</td>\n",
       "                        <td id=\"T_ff5c5_row27_col27\" class=\"data row27 col27\" >1.000000</td>\n",
       "                        <td id=\"T_ff5c5_row27_col28\" class=\"data row27 col28\" >0.302720</td>\n",
       "                        <td id=\"T_ff5c5_row27_col29\" class=\"data row27 col29\" >-0.008091</td>\n",
       "                        <td id=\"T_ff5c5_row27_col30\" class=\"data row27 col30\" >-0.010498</td>\n",
       "            </tr>\n",
       "            <tr>\n",
       "                        <th id=\"T_ff5c5_level0_row28\" class=\"row_heading level0 row28\" >wire_7</th>\n",
       "                        <td id=\"T_ff5c5_row28_col0\" class=\"data row28 col0\" >0.044967</td>\n",
       "                        <td id=\"T_ff5c5_row28_col1\" class=\"data row28 col1\" >-0.138618</td>\n",
       "                        <td id=\"T_ff5c5_row28_col2\" class=\"data row28 col2\" >0.061786</td>\n",
       "                        <td id=\"T_ff5c5_row28_col3\" class=\"data row28 col3\" >0.067243</td>\n",
       "                        <td id=\"T_ff5c5_row28_col4\" class=\"data row28 col4\" >0.027666</td>\n",
       "                        <td id=\"T_ff5c5_row28_col5\" class=\"data row28 col5\" >0.063870</td>\n",
       "                        <td id=\"T_ff5c5_row28_col6\" class=\"data row28 col6\" >0.083979</td>\n",
       "                        <td id=\"T_ff5c5_row28_col7\" class=\"data row28 col7\" >0.431723</td>\n",
       "                        <td id=\"T_ff5c5_row28_col8\" class=\"data row28 col8\" >-0.019663</td>\n",
       "                        <td id=\"T_ff5c5_row28_col9\" class=\"data row28 col9\" >0.034164</td>\n",
       "                        <td id=\"T_ff5c5_row28_col10\" class=\"data row28 col10\" >0.172104</td>\n",
       "                        <td id=\"T_ff5c5_row28_col11\" class=\"data row28 col11\" >-0.012551</td>\n",
       "                        <td id=\"T_ff5c5_row28_col12\" class=\"data row28 col12\" >0.372234</td>\n",
       "                        <td id=\"T_ff5c5_row28_col13\" class=\"data row28 col13\" >-0.000651</td>\n",
       "                        <td id=\"T_ff5c5_row28_col14\" class=\"data row28 col14\" >-0.002247</td>\n",
       "                        <td id=\"T_ff5c5_row28_col15\" class=\"data row28 col15\" >-0.007563</td>\n",
       "                        <td id=\"T_ff5c5_row28_col16\" class=\"data row28 col16\" >-0.005810</td>\n",
       "                        <td id=\"T_ff5c5_row28_col17\" class=\"data row28 col17\" >-0.041377</td>\n",
       "                        <td id=\"T_ff5c5_row28_col18\" class=\"data row28 col18\" >-0.002356</td>\n",
       "                        <td id=\"T_ff5c5_row28_col19\" class=\"data row28 col19\" >-0.058889</td>\n",
       "                        <td id=\"T_ff5c5_row28_col20\" class=\"data row28 col20\" >-0.044205</td>\n",
       "                        <td id=\"T_ff5c5_row28_col21\" class=\"data row28 col21\" >0.079361</td>\n",
       "                        <td id=\"T_ff5c5_row28_col22\" class=\"data row28 col22\" >-0.067874</td>\n",
       "                        <td id=\"T_ff5c5_row28_col23\" class=\"data row28 col23\" >-0.016337</td>\n",
       "                        <td id=\"T_ff5c5_row28_col24\" class=\"data row28 col24\" >0.100347</td>\n",
       "                        <td id=\"T_ff5c5_row28_col25\" class=\"data row28 col25\" >0.602957</td>\n",
       "                        <td id=\"T_ff5c5_row28_col26\" class=\"data row28 col26\" >nan</td>\n",
       "                        <td id=\"T_ff5c5_row28_col27\" class=\"data row28 col27\" >0.302720</td>\n",
       "                        <td id=\"T_ff5c5_row28_col28\" class=\"data row28 col28\" >1.000000</td>\n",
       "                        <td id=\"T_ff5c5_row28_col29\" class=\"data row28 col29\" >-0.002222</td>\n",
       "                        <td id=\"T_ff5c5_row28_col30\" class=\"data row28 col30\" >-0.002883</td>\n",
       "            </tr>\n",
       "            <tr>\n",
       "                        <th id=\"T_ff5c5_level0_row29\" class=\"row_heading level0 row29\" >wire_8</th>\n",
       "                        <td id=\"T_ff5c5_row29_col0\" class=\"data row29 col0\" >-0.023055</td>\n",
       "                        <td id=\"T_ff5c5_row29_col1\" class=\"data row29 col1\" >-0.010898</td>\n",
       "                        <td id=\"T_ff5c5_row29_col2\" class=\"data row29 col2\" >0.034535</td>\n",
       "                        <td id=\"T_ff5c5_row29_col3\" class=\"data row29 col3\" >0.029064</td>\n",
       "                        <td id=\"T_ff5c5_row29_col4\" class=\"data row29 col4\" >0.017690</td>\n",
       "                        <td id=\"T_ff5c5_row29_col5\" class=\"data row29 col5\" >0.032658</td>\n",
       "                        <td id=\"T_ff5c5_row29_col6\" class=\"data row29 col6\" >-0.019725</td>\n",
       "                        <td id=\"T_ff5c5_row29_col7\" class=\"data row29 col7\" >-0.005357</td>\n",
       "                        <td id=\"T_ff5c5_row29_col8\" class=\"data row29 col8\" >0.004588</td>\n",
       "                        <td id=\"T_ff5c5_row29_col9\" class=\"data row29 col9\" >0.008061</td>\n",
       "                        <td id=\"T_ff5c5_row29_col10\" class=\"data row29 col10\" >-0.008469</td>\n",
       "                        <td id=\"T_ff5c5_row29_col11\" class=\"data row29 col11\" >-0.028703</td>\n",
       "                        <td id=\"T_ff5c5_row29_col12\" class=\"data row29 col12\" >-0.004696</td>\n",
       "                        <td id=\"T_ff5c5_row29_col13\" class=\"data row29 col13\" >0.321030</td>\n",
       "                        <td id=\"T_ff5c5_row29_col14\" class=\"data row29 col14\" >0.974967</td>\n",
       "                        <td id=\"T_ff5c5_row29_col15\" class=\"data row29 col15\" >-0.017296</td>\n",
       "                        <td id=\"T_ff5c5_row29_col16\" class=\"data row29 col16\" >-0.013286</td>\n",
       "                        <td id=\"T_ff5c5_row29_col17\" class=\"data row29 col17\" >-0.056273</td>\n",
       "                        <td id=\"T_ff5c5_row29_col18\" class=\"data row29 col18\" >-0.005388</td>\n",
       "                        <td id=\"T_ff5c5_row29_col19\" class=\"data row29 col19\" >0.043710</td>\n",
       "                        <td id=\"T_ff5c5_row29_col20\" class=\"data row29 col20\" >-0.090714</td>\n",
       "                        <td id=\"T_ff5c5_row29_col21\" class=\"data row29 col21\" >0.118594</td>\n",
       "                        <td id=\"T_ff5c5_row29_col22\" class=\"data row29 col22\" >0.017340</td>\n",
       "                        <td id=\"T_ff5c5_row29_col23\" class=\"data row29 col23\" >0.069245</td>\n",
       "                        <td id=\"T_ff5c5_row29_col24\" class=\"data row29 col24\" >-0.008319</td>\n",
       "                        <td id=\"T_ff5c5_row29_col25\" class=\"data row29 col25\" >-0.004630</td>\n",
       "                        <td id=\"T_ff5c5_row29_col26\" class=\"data row29 col26\" >nan</td>\n",
       "                        <td id=\"T_ff5c5_row29_col27\" class=\"data row29 col27\" >-0.008091</td>\n",
       "                        <td id=\"T_ff5c5_row29_col28\" class=\"data row29 col28\" >-0.002222</td>\n",
       "                        <td id=\"T_ff5c5_row29_col29\" class=\"data row29 col29\" >1.000000</td>\n",
       "                        <td id=\"T_ff5c5_row29_col30\" class=\"data row29 col30\" >-0.006592</td>\n",
       "            </tr>\n",
       "            <tr>\n",
       "                        <th id=\"T_ff5c5_level0_row30\" class=\"row_heading level0 row30\" >wire_9</th>\n",
       "                        <td id=\"T_ff5c5_row30_col0\" class=\"data row30 col0\" >0.004645</td>\n",
       "                        <td id=\"T_ff5c5_row30_col1\" class=\"data row30 col1\" >-0.027792</td>\n",
       "                        <td id=\"T_ff5c5_row30_col2\" class=\"data row30 col2\" >-0.023906</td>\n",
       "                        <td id=\"T_ff5c5_row30_col3\" class=\"data row30 col3\" >-0.020478</td>\n",
       "                        <td id=\"T_ff5c5_row30_col4\" class=\"data row30 col4\" >-0.012050</td>\n",
       "                        <td id=\"T_ff5c5_row30_col5\" class=\"data row30 col5\" >-0.022635</td>\n",
       "                        <td id=\"T_ff5c5_row30_col6\" class=\"data row30 col6\" >0.011065</td>\n",
       "                        <td id=\"T_ff5c5_row30_col7\" class=\"data row30 col7\" >-0.006950</td>\n",
       "                        <td id=\"T_ff5c5_row30_col8\" class=\"data row30 col8\" >0.004278</td>\n",
       "                        <td id=\"T_ff5c5_row30_col9\" class=\"data row30 col9\" >-0.058371</td>\n",
       "                        <td id=\"T_ff5c5_row30_col10\" class=\"data row30 col10\" >-0.010989</td>\n",
       "                        <td id=\"T_ff5c5_row30_col11\" class=\"data row30 col11\" >-0.013612</td>\n",
       "                        <td id=\"T_ff5c5_row30_col12\" class=\"data row30 col12\" >-0.006093</td>\n",
       "                        <td id=\"T_ff5c5_row30_col13\" class=\"data row30 col13\" >-0.001932</td>\n",
       "                        <td id=\"T_ff5c5_row30_col14\" class=\"data row30 col14\" >-0.006667</td>\n",
       "                        <td id=\"T_ff5c5_row30_col15\" class=\"data row30 col15\" >-0.022441</td>\n",
       "                        <td id=\"T_ff5c5_row30_col16\" class=\"data row30 col16\" >-0.017238</td>\n",
       "                        <td id=\"T_ff5c5_row30_col17\" class=\"data row30 col17\" >-0.042666</td>\n",
       "                        <td id=\"T_ff5c5_row30_col18\" class=\"data row30 col18\" >-0.006991</td>\n",
       "                        <td id=\"T_ff5c5_row30_col19\" class=\"data row30 col19\" >0.018425</td>\n",
       "                        <td id=\"T_ff5c5_row30_col20\" class=\"data row30 col20\" >-0.037412</td>\n",
       "                        <td id=\"T_ff5c5_row30_col21\" class=\"data row30 col21\" >0.013835</td>\n",
       "                        <td id=\"T_ff5c5_row30_col22\" class=\"data row30 col22\" >0.021205</td>\n",
       "                        <td id=\"T_ff5c5_row30_col23\" class=\"data row30 col23\" >0.213453</td>\n",
       "                        <td id=\"T_ff5c5_row30_col24\" class=\"data row30 col24\" >-0.010794</td>\n",
       "                        <td id=\"T_ff5c5_row30_col25\" class=\"data row30 col25\" >-0.006007</td>\n",
       "                        <td id=\"T_ff5c5_row30_col26\" class=\"data row30 col26\" >nan</td>\n",
       "                        <td id=\"T_ff5c5_row30_col27\" class=\"data row30 col27\" >-0.010498</td>\n",
       "                        <td id=\"T_ff5c5_row30_col28\" class=\"data row30 col28\" >-0.002883</td>\n",
       "                        <td id=\"T_ff5c5_row30_col29\" class=\"data row30 col29\" >-0.006592</td>\n",
       "                        <td id=\"T_ff5c5_row30_col30\" class=\"data row30 col30\" >1.000000</td>\n",
       "            </tr>\n",
       "    </tbody></table>"
      ],
      "text/plain": [
       "<pandas.io.formats.style.Styler at 0x7f76a356df10>"
      ]
     },
     "execution_count": 57,
     "metadata": {},
     "output_type": "execute_result"
    }
   ],
   "source": [
    "corr = data.corr()\n",
    "corr.style.background_gradient(cmap='coolwarm')"
   ]
  },
  {
   "cell_type": "markdown",
   "metadata": {},
   "source": [
    "Удалим столбцы которые нам мешают"
   ]
  },
  {
   "cell_type": "code",
   "execution_count": 58,
   "metadata": {},
   "outputs": [],
   "source": [
    "data = data.drop(['active_power', 'reactive_power', 'time_first', 'time_last','wire_8', 'wire_5'], axis = 1)"
   ]
  },
  {
   "cell_type": "code",
   "execution_count": 59,
   "metadata": {},
   "outputs": [
    {
     "data": {
      "text/html": [
       "<div>\n",
       "<style scoped>\n",
       "    .dataframe tbody tr th:only-of-type {\n",
       "        vertical-align: middle;\n",
       "    }\n",
       "\n",
       "    .dataframe tbody tr th {\n",
       "        vertical-align: top;\n",
       "    }\n",
       "\n",
       "    .dataframe thead th {\n",
       "        text-align: right;\n",
       "    }\n",
       "</style>\n",
       "<table border=\"1\" class=\"dataframe\">\n",
       "  <thead>\n",
       "    <tr style=\"text-align: right;\">\n",
       "      <th></th>\n",
       "      <th>temp_first</th>\n",
       "      <th>temp_last</th>\n",
       "      <th>all_time</th>\n",
       "      <th>full_power</th>\n",
       "      <th>bulk_1</th>\n",
       "      <th>bulk_2</th>\n",
       "      <th>bulk_3</th>\n",
       "      <th>bulk_4</th>\n",
       "      <th>bulk_5</th>\n",
       "      <th>bulk_6</th>\n",
       "      <th>...</th>\n",
       "      <th>bulk_14</th>\n",
       "      <th>bulk_15</th>\n",
       "      <th>gas_1</th>\n",
       "      <th>wire_1</th>\n",
       "      <th>wire_2</th>\n",
       "      <th>wire_3</th>\n",
       "      <th>wire_4</th>\n",
       "      <th>wire_6</th>\n",
       "      <th>wire_7</th>\n",
       "      <th>wire_9</th>\n",
       "    </tr>\n",
       "    <tr>\n",
       "      <th>key</th>\n",
       "      <th></th>\n",
       "      <th></th>\n",
       "      <th></th>\n",
       "      <th></th>\n",
       "      <th></th>\n",
       "      <th></th>\n",
       "      <th></th>\n",
       "      <th></th>\n",
       "      <th></th>\n",
       "      <th></th>\n",
       "      <th></th>\n",
       "      <th></th>\n",
       "      <th></th>\n",
       "      <th></th>\n",
       "      <th></th>\n",
       "      <th></th>\n",
       "      <th></th>\n",
       "      <th></th>\n",
       "      <th></th>\n",
       "      <th></th>\n",
       "      <th></th>\n",
       "    </tr>\n",
       "  </thead>\n",
       "  <tbody>\n",
       "    <tr>\n",
       "      <th>1</th>\n",
       "      <td>1571.0</td>\n",
       "      <td>1613.0</td>\n",
       "      <td>1098</td>\n",
       "      <td>3.718736</td>\n",
       "      <td>0.0</td>\n",
       "      <td>0.0</td>\n",
       "      <td>0.0</td>\n",
       "      <td>43.0</td>\n",
       "      <td>0.0</td>\n",
       "      <td>0.0</td>\n",
       "      <td>...</td>\n",
       "      <td>150.0</td>\n",
       "      <td>154.0</td>\n",
       "      <td>29.749986</td>\n",
       "      <td>60.059998</td>\n",
       "      <td>0.00000</td>\n",
       "      <td>0.0</td>\n",
       "      <td>0.0</td>\n",
       "      <td>0.0</td>\n",
       "      <td>0.0</td>\n",
       "      <td>0.0</td>\n",
       "    </tr>\n",
       "    <tr>\n",
       "      <th>2</th>\n",
       "      <td>1581.0</td>\n",
       "      <td>1602.0</td>\n",
       "      <td>811</td>\n",
       "      <td>2.588349</td>\n",
       "      <td>0.0</td>\n",
       "      <td>0.0</td>\n",
       "      <td>0.0</td>\n",
       "      <td>73.0</td>\n",
       "      <td>0.0</td>\n",
       "      <td>0.0</td>\n",
       "      <td>...</td>\n",
       "      <td>149.0</td>\n",
       "      <td>154.0</td>\n",
       "      <td>12.555561</td>\n",
       "      <td>96.052315</td>\n",
       "      <td>0.00000</td>\n",
       "      <td>0.0</td>\n",
       "      <td>0.0</td>\n",
       "      <td>0.0</td>\n",
       "      <td>0.0</td>\n",
       "      <td>0.0</td>\n",
       "    </tr>\n",
       "    <tr>\n",
       "      <th>3</th>\n",
       "      <td>1596.0</td>\n",
       "      <td>1599.0</td>\n",
       "      <td>655</td>\n",
       "      <td>5.019223</td>\n",
       "      <td>0.0</td>\n",
       "      <td>0.0</td>\n",
       "      <td>0.0</td>\n",
       "      <td>34.0</td>\n",
       "      <td>0.0</td>\n",
       "      <td>0.0</td>\n",
       "      <td>...</td>\n",
       "      <td>152.0</td>\n",
       "      <td>153.0</td>\n",
       "      <td>28.554793</td>\n",
       "      <td>91.160157</td>\n",
       "      <td>0.00000</td>\n",
       "      <td>0.0</td>\n",
       "      <td>0.0</td>\n",
       "      <td>0.0</td>\n",
       "      <td>0.0</td>\n",
       "      <td>0.0</td>\n",
       "    </tr>\n",
       "    <tr>\n",
       "      <th>4</th>\n",
       "      <td>1601.0</td>\n",
       "      <td>1625.0</td>\n",
       "      <td>741</td>\n",
       "      <td>3.400038</td>\n",
       "      <td>0.0</td>\n",
       "      <td>0.0</td>\n",
       "      <td>0.0</td>\n",
       "      <td>81.0</td>\n",
       "      <td>0.0</td>\n",
       "      <td>0.0</td>\n",
       "      <td>...</td>\n",
       "      <td>153.0</td>\n",
       "      <td>154.0</td>\n",
       "      <td>18.841219</td>\n",
       "      <td>89.063515</td>\n",
       "      <td>0.00000</td>\n",
       "      <td>0.0</td>\n",
       "      <td>0.0</td>\n",
       "      <td>0.0</td>\n",
       "      <td>0.0</td>\n",
       "      <td>0.0</td>\n",
       "    </tr>\n",
       "    <tr>\n",
       "      <th>5</th>\n",
       "      <td>1576.0</td>\n",
       "      <td>1602.0</td>\n",
       "      <td>869</td>\n",
       "      <td>2.816980</td>\n",
       "      <td>0.0</td>\n",
       "      <td>0.0</td>\n",
       "      <td>0.0</td>\n",
       "      <td>78.0</td>\n",
       "      <td>0.0</td>\n",
       "      <td>0.0</td>\n",
       "      <td>...</td>\n",
       "      <td>151.0</td>\n",
       "      <td>152.0</td>\n",
       "      <td>5.413692</td>\n",
       "      <td>89.238236</td>\n",
       "      <td>9.11456</td>\n",
       "      <td>0.0</td>\n",
       "      <td>0.0</td>\n",
       "      <td>0.0</td>\n",
       "      <td>0.0</td>\n",
       "      <td>0.0</td>\n",
       "    </tr>\n",
       "  </tbody>\n",
       "</table>\n",
       "<p>5 rows × 27 columns</p>\n",
       "</div>"
      ],
      "text/plain": [
       "     temp_first  temp_last  all_time  full_power  bulk_1  bulk_2  bulk_3  \\\n",
       "key                                                                        \n",
       "1        1571.0     1613.0      1098    3.718736     0.0     0.0     0.0   \n",
       "2        1581.0     1602.0       811    2.588349     0.0     0.0     0.0   \n",
       "3        1596.0     1599.0       655    5.019223     0.0     0.0     0.0   \n",
       "4        1601.0     1625.0       741    3.400038     0.0     0.0     0.0   \n",
       "5        1576.0     1602.0       869    2.816980     0.0     0.0     0.0   \n",
       "\n",
       "     bulk_4  bulk_5  bulk_6  ...  bulk_14  bulk_15      gas_1     wire_1  \\\n",
       "key                          ...                                           \n",
       "1      43.0     0.0     0.0  ...    150.0    154.0  29.749986  60.059998   \n",
       "2      73.0     0.0     0.0  ...    149.0    154.0  12.555561  96.052315   \n",
       "3      34.0     0.0     0.0  ...    152.0    153.0  28.554793  91.160157   \n",
       "4      81.0     0.0     0.0  ...    153.0    154.0  18.841219  89.063515   \n",
       "5      78.0     0.0     0.0  ...    151.0    152.0   5.413692  89.238236   \n",
       "\n",
       "      wire_2  wire_3  wire_4  wire_6  wire_7  wire_9  \n",
       "key                                                   \n",
       "1    0.00000     0.0     0.0     0.0     0.0     0.0  \n",
       "2    0.00000     0.0     0.0     0.0     0.0     0.0  \n",
       "3    0.00000     0.0     0.0     0.0     0.0     0.0  \n",
       "4    0.00000     0.0     0.0     0.0     0.0     0.0  \n",
       "5    9.11456     0.0     0.0     0.0     0.0     0.0  \n",
       "\n",
       "[5 rows x 27 columns]"
      ]
     },
     "execution_count": 59,
     "metadata": {},
     "output_type": "execute_result"
    }
   ],
   "source": [
    "data.head()"
   ]
  },
  {
   "cell_type": "markdown",
   "metadata": {},
   "source": [
    "Разобъём данные на train и test"
   ]
  },
  {
   "cell_type": "code",
   "execution_count": 60,
   "metadata": {},
   "outputs": [],
   "source": [
    "train, test = train_test_split(data, test_size = 0.25, random_state = RND)"
   ]
  },
  {
   "cell_type": "code",
   "execution_count": null,
   "metadata": {},
   "outputs": [],
   "source": []
  },
  {
   "cell_type": "code",
   "execution_count": 61,
   "metadata": {},
   "outputs": [],
   "source": [
    "features_train = train.drop(['temp_last'], axis = 1)\n",
    "target_train = train['temp_last']\n",
    "features_test = test.drop(['temp_last'], axis = 1)\n",
    "target_test = test['temp_last']"
   ]
  },
  {
   "cell_type": "markdown",
   "metadata": {},
   "source": [
    "### Обучение модели"
   ]
  },
  {
   "cell_type": "markdown",
   "metadata": {},
   "source": [
    "#### RandomForestRegressor"
   ]
  },
  {
   "cell_type": "code",
   "execution_count": 62,
   "metadata": {},
   "outputs": [
    {
     "name": "stdout",
     "output_type": "stream",
     "text": [
      "CPU times: user 4.46 s, sys: 22.3 ms, total: 4.48 s\n",
      "Wall time: 4.49 s\n"
     ]
    },
    {
     "data": {
      "text/plain": [
       "0.04183244705200195"
      ]
     },
     "execution_count": 62,
     "metadata": {},
     "output_type": "execute_result"
    }
   ],
   "source": [
    "%%time\n",
    "\n",
    "model2 = RandomForestRegressor(random_state=RND)\n",
    "\n",
    "model2_parametrs = { 'n_estimators': range(5, 15, 5),\n",
    "                     'max_depth': range(1, 6, 2),\n",
    "                     'min_samples_leaf': range(1,4),\n",
    "                     'min_samples_split': range(2,6,2) }\n",
    "\n",
    "model2_grid = GridSearchCV(model2, model2_parametrs, scoring='neg_mean_absolute_error', cv=5)\n",
    "\n",
    "model2_grid.fit(features_train, target_train)\n",
    "\n",
    "model2_grid.refit_time_"
   ]
  },
  {
   "cell_type": "code",
   "execution_count": 63,
   "metadata": {},
   "outputs": [
    {
     "name": "stdout",
     "output_type": "stream",
     "text": [
      "{'max_depth': 5, 'min_samples_leaf': 2, 'min_samples_split': 2, 'n_estimators': 10}\n",
      "6.586610724367878\n",
      "CPU times: user 192 µs, sys: 12 µs, total: 204 µs\n",
      "Wall time: 140 µs\n"
     ]
    }
   ],
   "source": [
    "%%time\n",
    "\n",
    "model2_params = model2_grid.best_params_\n",
    "\n",
    "model2_score = model2_grid.best_score_ * (-1)\n",
    "\n",
    "print(model2_params)\n",
    "print(model2_score)"
   ]
  },
  {
   "cell_type": "markdown",
   "metadata": {},
   "source": [
    "#### CatBoostRegressor"
   ]
  },
  {
   "cell_type": "code",
   "execution_count": 65,
   "metadata": {
    "scrolled": true
   },
   "outputs": [
    {
     "name": "stdout",
     "output_type": "stream",
     "text": [
      "0:\tlearn: 10.9634527\ttotal: 66.4ms\tremaining: 6.57s\n",
      "10:\tlearn: 8.5377973\ttotal: 167ms\tremaining: 1.35s\n",
      "20:\tlearn: 7.6878952\ttotal: 282ms\tremaining: 1.06s\n",
      "30:\tlearn: 7.1550255\ttotal: 391ms\tremaining: 871ms\n",
      "40:\tlearn: 6.7758374\ttotal: 499ms\tremaining: 718ms\n",
      "50:\tlearn: 6.4454410\ttotal: 609ms\tremaining: 585ms\n",
      "60:\tlearn: 6.1259815\ttotal: 748ms\tremaining: 478ms\n",
      "70:\tlearn: 5.6902721\ttotal: 881ms\tremaining: 360ms\n",
      "80:\tlearn: 5.3782734\ttotal: 1.03s\tremaining: 241ms\n",
      "90:\tlearn: 5.1287602\ttotal: 1.14s\tremaining: 113ms\n",
      "99:\tlearn: 4.9252917\ttotal: 1.24s\tremaining: 0us\n",
      "0:\tlearn: 10.6728459\ttotal: 12.7ms\tremaining: 1.26s\n",
      "10:\tlearn: 8.4672048\ttotal: 127ms\tremaining: 1.03s\n",
      "20:\tlearn: 7.6331505\ttotal: 250ms\tremaining: 940ms\n",
      "30:\tlearn: 7.1030303\ttotal: 359ms\tremaining: 798ms\n",
      "40:\tlearn: 6.6570552\ttotal: 465ms\tremaining: 669ms\n",
      "50:\tlearn: 6.2930185\ttotal: 569ms\tremaining: 547ms\n",
      "60:\tlearn: 5.9702582\ttotal: 673ms\tremaining: 430ms\n",
      "70:\tlearn: 5.6352864\ttotal: 786ms\tremaining: 321ms\n",
      "80:\tlearn: 5.3319921\ttotal: 895ms\tremaining: 210ms\n",
      "90:\tlearn: 5.0639595\ttotal: 1s\tremaining: 99.2ms\n",
      "99:\tlearn: 4.8570249\ttotal: 1.11s\tremaining: 0us\n",
      "0:\tlearn: 10.6523715\ttotal: 10.2ms\tremaining: 1.01s\n",
      "10:\tlearn: 8.4211443\ttotal: 122ms\tremaining: 990ms\n",
      "20:\tlearn: 7.5611111\ttotal: 232ms\tremaining: 874ms\n",
      "30:\tlearn: 7.0587702\ttotal: 337ms\tremaining: 751ms\n",
      "40:\tlearn: 6.6419423\ttotal: 448ms\tremaining: 645ms\n",
      "50:\tlearn: 6.3600901\ttotal: 552ms\tremaining: 530ms\n",
      "60:\tlearn: 6.0470911\ttotal: 658ms\tremaining: 421ms\n",
      "70:\tlearn: 5.7440109\ttotal: 766ms\tremaining: 313ms\n",
      "80:\tlearn: 5.4407229\ttotal: 877ms\tremaining: 206ms\n",
      "90:\tlearn: 5.2086946\ttotal: 987ms\tremaining: 97.6ms\n",
      "99:\tlearn: 4.9958140\ttotal: 1.08s\tremaining: 0us\n",
      "0:\tlearn: 10.8124005\ttotal: 10.1ms\tremaining: 1s\n",
      "10:\tlearn: 8.4793812\ttotal: 114ms\tremaining: 925ms\n",
      "20:\tlearn: 7.5850505\ttotal: 216ms\tremaining: 812ms\n",
      "30:\tlearn: 7.0593207\ttotal: 320ms\tremaining: 712ms\n",
      "40:\tlearn: 6.6371772\ttotal: 427ms\tremaining: 615ms\n",
      "50:\tlearn: 6.2524119\ttotal: 539ms\tremaining: 518ms\n",
      "60:\tlearn: 5.9435270\ttotal: 646ms\tremaining: 413ms\n",
      "70:\tlearn: 5.6060803\ttotal: 761ms\tremaining: 311ms\n",
      "80:\tlearn: 5.3615395\ttotal: 873ms\tremaining: 205ms\n",
      "90:\tlearn: 5.1027019\ttotal: 978ms\tremaining: 96.7ms\n",
      "99:\tlearn: 4.8805357\ttotal: 1.08s\tremaining: 0us\n",
      "0:\tlearn: 10.7104553\ttotal: 10.2ms\tremaining: 1.01s\n",
      "10:\tlearn: 8.4589527\ttotal: 121ms\tremaining: 977ms\n",
      "20:\tlearn: 7.5274814\ttotal: 230ms\tremaining: 867ms\n",
      "30:\tlearn: 6.9914892\ttotal: 339ms\tremaining: 755ms\n",
      "40:\tlearn: 6.5611242\ttotal: 447ms\tremaining: 644ms\n",
      "50:\tlearn: 6.2284844\ttotal: 565ms\tremaining: 543ms\n",
      "60:\tlearn: 5.8698175\ttotal: 676ms\tremaining: 432ms\n",
      "70:\tlearn: 5.5538259\ttotal: 792ms\tremaining: 324ms\n",
      "80:\tlearn: 5.2951078\ttotal: 901ms\tremaining: 211ms\n",
      "90:\tlearn: 4.9768328\ttotal: 1.01s\tremaining: 99.7ms\n",
      "99:\tlearn: 4.7750441\ttotal: 1.11s\tremaining: 0us\n",
      "0:\tlearn: 10.9723373\ttotal: 49.3ms\tremaining: 4.88s\n",
      "10:\tlearn: 8.3620221\ttotal: 406ms\tremaining: 3.29s\n",
      "20:\tlearn: 7.2380307\ttotal: 788ms\tremaining: 2.96s\n",
      "30:\tlearn: 6.6159269\ttotal: 1.16s\tremaining: 2.59s\n",
      "40:\tlearn: 6.0411227\ttotal: 1.54s\tremaining: 2.21s\n",
      "50:\tlearn: 5.5819223\ttotal: 1.97s\tremaining: 1.9s\n",
      "60:\tlearn: 5.1374899\ttotal: 2.35s\tremaining: 1.5s\n",
      "70:\tlearn: 4.7417438\ttotal: 2.72s\tremaining: 1.11s\n",
      "80:\tlearn: 4.3049723\ttotal: 3.11s\tremaining: 729ms\n",
      "90:\tlearn: 3.9583743\ttotal: 3.49s\tremaining: 345ms\n",
      "99:\tlearn: 3.6944045\ttotal: 3.8s\tremaining: 0us\n",
      "0:\tlearn: 10.6486005\ttotal: 32.6ms\tremaining: 3.23s\n",
      "10:\tlearn: 8.0688213\ttotal: 379ms\tremaining: 3.07s\n",
      "20:\tlearn: 7.0985811\ttotal: 720ms\tremaining: 2.71s\n",
      "30:\tlearn: 6.3328348\ttotal: 1.09s\tremaining: 2.43s\n",
      "40:\tlearn: 5.8755535\ttotal: 1.43s\tremaining: 2.06s\n",
      "50:\tlearn: 5.3676214\ttotal: 1.79s\tremaining: 1.72s\n",
      "60:\tlearn: 4.9922208\ttotal: 2.13s\tremaining: 1.36s\n",
      "70:\tlearn: 4.5544814\ttotal: 2.48s\tremaining: 1.01s\n",
      "80:\tlearn: 4.1493099\ttotal: 2.82s\tremaining: 662ms\n",
      "90:\tlearn: 3.7439551\ttotal: 3.16s\tremaining: 313ms\n",
      "99:\tlearn: 3.5133869\ttotal: 3.46s\tremaining: 0us\n",
      "0:\tlearn: 10.6403359\ttotal: 41ms\tremaining: 4.06s\n",
      "10:\tlearn: 8.0930088\ttotal: 383ms\tremaining: 3.1s\n",
      "20:\tlearn: 7.0120861\ttotal: 779ms\tremaining: 2.93s\n",
      "30:\tlearn: 6.4516462\ttotal: 1.1s\tremaining: 2.46s\n",
      "40:\tlearn: 5.9260320\ttotal: 1.45s\tremaining: 2.08s\n",
      "50:\tlearn: 5.4033115\ttotal: 1.8s\tremaining: 1.73s\n",
      "60:\tlearn: 4.9915363\ttotal: 2.15s\tremaining: 1.37s\n",
      "70:\tlearn: 4.6040284\ttotal: 2.51s\tremaining: 1.03s\n",
      "80:\tlearn: 4.2709733\ttotal: 2.88s\tremaining: 675ms\n",
      "90:\tlearn: 3.9663854\ttotal: 3.29s\tremaining: 325ms\n",
      "99:\tlearn: 3.7623720\ttotal: 3.66s\tremaining: 0us\n",
      "0:\tlearn: 10.7693474\ttotal: 30.1ms\tremaining: 2.98s\n",
      "10:\tlearn: 8.1235385\ttotal: 379ms\tremaining: 3.07s\n",
      "20:\tlearn: 7.0305234\ttotal: 724ms\tremaining: 2.72s\n",
      "30:\tlearn: 6.3768525\ttotal: 1.08s\tremaining: 2.41s\n",
      "40:\tlearn: 5.8522135\ttotal: 1.42s\tremaining: 2.04s\n",
      "50:\tlearn: 5.3463891\ttotal: 1.76s\tremaining: 1.69s\n",
      "60:\tlearn: 4.9167877\ttotal: 2.12s\tremaining: 1.36s\n",
      "70:\tlearn: 4.4679995\ttotal: 2.44s\tremaining: 997ms\n",
      "80:\tlearn: 4.1143846\ttotal: 2.78s\tremaining: 652ms\n",
      "90:\tlearn: 3.8315016\ttotal: 3.12s\tremaining: 308ms\n",
      "99:\tlearn: 3.5805554\ttotal: 3.43s\tremaining: 0us\n",
      "0:\tlearn: 10.6883544\ttotal: 30.1ms\tremaining: 2.98s\n",
      "10:\tlearn: 8.1173896\ttotal: 371ms\tremaining: 3s\n",
      "20:\tlearn: 7.0458472\ttotal: 728ms\tremaining: 2.74s\n",
      "30:\tlearn: 6.3355961\ttotal: 1.08s\tremaining: 2.41s\n",
      "40:\tlearn: 5.8087763\ttotal: 1.42s\tremaining: 2.04s\n",
      "50:\tlearn: 5.3691714\ttotal: 1.78s\tremaining: 1.71s\n",
      "60:\tlearn: 4.9284729\ttotal: 2.15s\tremaining: 1.37s\n",
      "70:\tlearn: 4.5691215\ttotal: 2.55s\tremaining: 1.04s\n",
      "80:\tlearn: 4.2299589\ttotal: 2.89s\tremaining: 678ms\n",
      "90:\tlearn: 3.8422971\ttotal: 3.24s\tremaining: 321ms\n",
      "99:\tlearn: 3.5998862\ttotal: 3.54s\tremaining: 0us\n",
      "0:\tlearn: 10.9495963\ttotal: 166ms\tremaining: 16.5s\n",
      "10:\tlearn: 8.0714461\ttotal: 1.72s\tremaining: 13.9s\n",
      "20:\tlearn: 6.7833704\ttotal: 3.25s\tremaining: 12.2s\n",
      "30:\tlearn: 5.9617255\ttotal: 4.79s\tremaining: 10.7s\n",
      "40:\tlearn: 5.3806812\ttotal: 6.32s\tremaining: 9.09s\n",
      "50:\tlearn: 4.7649988\ttotal: 7.84s\tremaining: 7.53s\n",
      "60:\tlearn: 4.1882438\ttotal: 9.42s\tremaining: 6.02s\n",
      "70:\tlearn: 3.7650153\ttotal: 11s\tremaining: 4.5s\n",
      "80:\tlearn: 3.4129462\ttotal: 12.6s\tremaining: 2.95s\n",
      "90:\tlearn: 3.0630093\ttotal: 14.1s\tremaining: 1.4s\n",
      "99:\tlearn: 2.8064416\ttotal: 15.5s\tremaining: 0us\n",
      "0:\tlearn: 10.6739423\ttotal: 148ms\tremaining: 14.7s\n",
      "10:\tlearn: 7.7098294\ttotal: 1.64s\tremaining: 13.2s\n",
      "20:\tlearn: 6.5618294\ttotal: 2.99s\tremaining: 11.2s\n",
      "30:\tlearn: 5.8076214\ttotal: 4.48s\tremaining: 9.97s\n",
      "40:\tlearn: 5.2353838\ttotal: 6s\tremaining: 8.64s\n",
      "50:\tlearn: 4.6103719\ttotal: 7.49s\tremaining: 7.2s\n",
      "60:\tlearn: 4.0595891\ttotal: 9s\tremaining: 5.75s\n",
      "70:\tlearn: 3.6729609\ttotal: 10.5s\tremaining: 4.31s\n",
      "80:\tlearn: 3.2469265\ttotal: 12s\tremaining: 2.82s\n",
      "90:\tlearn: 2.8826453\ttotal: 13.6s\tremaining: 1.34s\n",
      "99:\tlearn: 2.6804522\ttotal: 14.9s\tremaining: 0us\n",
      "0:\tlearn: 10.6320941\ttotal: 141ms\tremaining: 13.9s\n",
      "10:\tlearn: 7.7227493\ttotal: 1.65s\tremaining: 13.3s\n",
      "20:\tlearn: 6.6026702\ttotal: 3.06s\tremaining: 11.5s\n",
      "30:\tlearn: 5.6336364\ttotal: 4.53s\tremaining: 10.1s\n",
      "40:\tlearn: 5.0472058\ttotal: 5.91s\tremaining: 8.5s\n",
      "50:\tlearn: 4.5185652\ttotal: 7.42s\tremaining: 7.13s\n",
      "60:\tlearn: 4.0337164\ttotal: 9.08s\tremaining: 5.81s\n",
      "70:\tlearn: 3.5169050\ttotal: 10.6s\tremaining: 4.32s\n",
      "80:\tlearn: 3.2616950\ttotal: 12.1s\tremaining: 2.83s\n",
      "90:\tlearn: 2.9722135\ttotal: 13.5s\tremaining: 1.34s\n",
      "99:\tlearn: 2.7384970\ttotal: 14.8s\tremaining: 0us\n",
      "0:\tlearn: 10.7603717\ttotal: 145ms\tremaining: 14.3s\n",
      "10:\tlearn: 7.8505428\ttotal: 1.51s\tremaining: 12.2s\n",
      "20:\tlearn: 6.5623750\ttotal: 3.08s\tremaining: 11.6s\n",
      "30:\tlearn: 5.7437416\ttotal: 4.44s\tremaining: 9.89s\n",
      "40:\tlearn: 5.0454758\ttotal: 5.95s\tremaining: 8.56s\n",
      "50:\tlearn: 4.5119499\ttotal: 7.42s\tremaining: 7.13s\n",
      "60:\tlearn: 3.9565240\ttotal: 8.9s\tremaining: 5.69s\n",
      "70:\tlearn: 3.4893460\ttotal: 10.4s\tremaining: 4.24s\n",
      "80:\tlearn: 3.1738319\ttotal: 11.9s\tremaining: 2.78s\n",
      "90:\tlearn: 2.8711893\ttotal: 13.4s\tremaining: 1.33s\n",
      "99:\tlearn: 2.6108250\ttotal: 14.8s\tremaining: 0us\n",
      "0:\tlearn: 10.6827482\ttotal: 144ms\tremaining: 14.3s\n",
      "10:\tlearn: 7.7630348\ttotal: 1.64s\tremaining: 13.3s\n",
      "20:\tlearn: 6.4705482\ttotal: 3.11s\tremaining: 11.7s\n",
      "30:\tlearn: 5.6576648\ttotal: 4.61s\tremaining: 10.3s\n",
      "40:\tlearn: 5.0696305\ttotal: 6.01s\tremaining: 8.65s\n",
      "50:\tlearn: 4.4949810\ttotal: 7.6s\tremaining: 7.3s\n",
      "60:\tlearn: 3.9907167\ttotal: 9.17s\tremaining: 5.87s\n",
      "70:\tlearn: 3.5458950\ttotal: 10.7s\tremaining: 4.38s\n",
      "80:\tlearn: 3.2375293\ttotal: 12.3s\tremaining: 2.88s\n",
      "90:\tlearn: 2.9328915\ttotal: 13.8s\tremaining: 1.36s\n",
      "99:\tlearn: 2.6945423\ttotal: 15.1s\tremaining: 0us\n",
      "0:\tlearn: 10.9535493\ttotal: 924ms\tremaining: 1m 31s\n",
      "10:\tlearn: 7.8382967\ttotal: 9.32s\tremaining: 1m 15s\n",
      "20:\tlearn: 6.2626499\ttotal: 17.3s\tremaining: 1m 5s\n",
      "30:\tlearn: 5.3127481\ttotal: 25.8s\tremaining: 57.4s\n",
      "40:\tlearn: 4.5715251\ttotal: 34.5s\tremaining: 49.6s\n",
      "50:\tlearn: 4.0844846\ttotal: 42.4s\tremaining: 40.7s\n",
      "60:\tlearn: 3.4462060\ttotal: 50.9s\tremaining: 32.5s\n",
      "70:\tlearn: 3.0084998\ttotal: 59.2s\tremaining: 24.2s\n",
      "80:\tlearn: 2.6637979\ttotal: 1m 6s\tremaining: 15.7s\n",
      "90:\tlearn: 2.2712048\ttotal: 1m 14s\tremaining: 7.39s\n",
      "99:\tlearn: 1.9875391\ttotal: 1m 22s\tremaining: 0us\n",
      "0:\tlearn: 10.6660032\ttotal: 864ms\tremaining: 1m 25s\n",
      "10:\tlearn: 7.6160270\ttotal: 8.68s\tremaining: 1m 10s\n",
      "20:\tlearn: 6.0358608\ttotal: 17s\tremaining: 1m 3s\n",
      "30:\tlearn: 5.0386637\ttotal: 24.6s\tremaining: 54.9s\n",
      "40:\tlearn: 4.5383277\ttotal: 30.6s\tremaining: 44.1s\n",
      "50:\tlearn: 3.8578554\ttotal: 39s\tremaining: 37.5s\n",
      "60:\tlearn: 3.2408951\ttotal: 47.2s\tremaining: 30.2s\n",
      "70:\tlearn: 2.7254335\ttotal: 55.6s\tremaining: 22.7s\n",
      "80:\tlearn: 2.2747834\ttotal: 1m 3s\tremaining: 14.9s\n",
      "90:\tlearn: 1.9297573\ttotal: 1m 11s\tremaining: 7.12s\n",
      "99:\tlearn: 1.7011361\ttotal: 1m 19s\tremaining: 0us\n",
      "0:\tlearn: 10.6365537\ttotal: 826ms\tremaining: 1m 21s\n",
      "10:\tlearn: 7.5873481\ttotal: 8.42s\tremaining: 1m 8s\n",
      "20:\tlearn: 6.1957086\ttotal: 13.7s\tremaining: 51.7s\n",
      "30:\tlearn: 5.3177541\ttotal: 20.6s\tremaining: 45.8s\n",
      "40:\tlearn: 4.5702923\ttotal: 28.2s\tremaining: 40.6s\n",
      "50:\tlearn: 3.9104438\ttotal: 36.4s\tremaining: 34.9s\n",
      "60:\tlearn: 3.3569297\ttotal: 44.7s\tremaining: 28.6s\n",
      "70:\tlearn: 2.8163199\ttotal: 52.3s\tremaining: 21.4s\n",
      "80:\tlearn: 2.4710066\ttotal: 1m\tremaining: 14.1s\n",
      "90:\tlearn: 2.0674990\ttotal: 1m 8s\tremaining: 6.81s\n",
      "99:\tlearn: 1.7884706\ttotal: 1m 16s\tremaining: 0us\n",
      "0:\tlearn: 10.7922531\ttotal: 882ms\tremaining: 1m 27s\n",
      "10:\tlearn: 7.6140657\ttotal: 9.71s\tremaining: 1m 18s\n",
      "20:\tlearn: 5.9556578\ttotal: 17s\tremaining: 1m 3s\n",
      "30:\tlearn: 5.0695099\ttotal: 24.9s\tremaining: 55.3s\n",
      "40:\tlearn: 4.4071428\ttotal: 33.1s\tremaining: 47.7s\n",
      "50:\tlearn: 3.7101702\ttotal: 41.7s\tremaining: 40.1s\n",
      "60:\tlearn: 3.1417719\ttotal: 50.3s\tremaining: 32.2s\n",
      "70:\tlearn: 2.7063663\ttotal: 59.1s\tremaining: 24.1s\n",
      "80:\tlearn: 2.3235587\ttotal: 1m 6s\tremaining: 15.7s\n",
      "90:\tlearn: 2.0604751\ttotal: 1m 13s\tremaining: 7.31s\n",
      "99:\tlearn: 1.7850932\ttotal: 1m 21s\tremaining: 0us\n",
      "0:\tlearn: 10.6875388\ttotal: 878ms\tremaining: 1m 26s\n",
      "10:\tlearn: 7.5102746\ttotal: 9.59s\tremaining: 1m 17s\n",
      "20:\tlearn: 5.9661036\ttotal: 18.2s\tremaining: 1m 8s\n",
      "30:\tlearn: 4.8671837\ttotal: 26.5s\tremaining: 59s\n",
      "40:\tlearn: 4.2398358\ttotal: 33.5s\tremaining: 48.3s\n",
      "50:\tlearn: 3.7118336\ttotal: 41.2s\tremaining: 39.6s\n",
      "60:\tlearn: 3.2875345\ttotal: 49.6s\tremaining: 31.7s\n",
      "70:\tlearn: 2.7994415\ttotal: 58.1s\tremaining: 23.7s\n",
      "80:\tlearn: 2.3964056\ttotal: 1m 6s\tremaining: 15.6s\n",
      "90:\tlearn: 2.1112702\ttotal: 1m 14s\tremaining: 7.41s\n",
      "99:\tlearn: 1.8667322\ttotal: 1m 21s\tremaining: 0us\n",
      "0:\tlearn: 10.7632886\ttotal: 16.6ms\tremaining: 1.65s\n",
      "10:\tlearn: 8.4474454\ttotal: 137ms\tremaining: 1.11s\n",
      "20:\tlearn: 7.6679681\ttotal: 256ms\tremaining: 964ms\n",
      "30:\tlearn: 7.2005261\ttotal: 368ms\tremaining: 818ms\n",
      "40:\tlearn: 6.8559282\ttotal: 481ms\tremaining: 692ms\n",
      "50:\tlearn: 6.4657481\ttotal: 597ms\tremaining: 574ms\n",
      "60:\tlearn: 6.1959564\ttotal: 711ms\tremaining: 455ms\n",
      "70:\tlearn: 5.9177459\ttotal: 828ms\tremaining: 338ms\n",
      "80:\tlearn: 5.6834816\ttotal: 939ms\tremaining: 220ms\n",
      "90:\tlearn: 5.4827526\ttotal: 1.05s\tremaining: 104ms\n",
      "99:\tlearn: 5.2601307\ttotal: 1.15s\tremaining: 0us\n",
      "CPU times: user 6min 44s, sys: 1min 36s, total: 8min 21s\n",
      "Wall time: 8min 38s\n"
     ]
    },
    {
     "data": {
      "text/plain": [
       "GridSearchCV(cv=5,\n",
       "             estimator=<catboost.core.CatBoostRegressor object at 0x7f4feb2f5a30>,\n",
       "             param_grid={'depth': range(8, 16, 2), 'iterations': [100],\n",
       "                         'learning_rate': [0.15]},\n",
       "             scoring='neg_mean_absolute_error')"
      ]
     },
     "execution_count": 65,
     "metadata": {},
     "output_type": "execute_result"
    }
   ],
   "source": [
    "%%time\n",
    "\n",
    "model3 = CatBoostRegressor(random_state=RND)\n",
    "\n",
    "model3_parametrs = {\"iterations\": [100],\n",
    "                \"depth\": range(8, 16, 2),\n",
    "                \"learning_rate\" : [0.15]\n",
    "             }\n",
    "\n",
    "model3_grid = GridSearchCV(model3, model3_parametrs, scoring='neg_mean_absolute_error', cv=5)\n",
    "\n",
    "model3_grid.fit(features_train, target_train, verbose=10)"
   ]
  },
  {
   "cell_type": "code",
   "execution_count": 66,
   "metadata": {},
   "outputs": [
    {
     "name": "stdout",
     "output_type": "stream",
     "text": [
      "{'depth': 8, 'iterations': 100, 'learning_rate': 0.15}\n",
      "6.329493612937563\n",
      "CPU times: user 291 µs, sys: 67 µs, total: 358 µs\n",
      "Wall time: 184 µs\n"
     ]
    }
   ],
   "source": [
    "%%time\n",
    "\n",
    "model3_params = model3_grid.best_params_\n",
    "\n",
    "model3_score = model3_grid.best_score_ * (-1)\n",
    "\n",
    "print(model3_params)\n",
    "print(model3_score)"
   ]
  },
  {
   "cell_type": "markdown",
   "metadata": {},
   "source": [
    "#### LGBMRegressor"
   ]
  },
  {
   "cell_type": "code",
   "execution_count": 68,
   "metadata": {},
   "outputs": [
    {
     "name": "stdout",
     "output_type": "stream",
     "text": [
      "CPU times: user 8min 6s, sys: 5.05 s, total: 8min 11s\n",
      "Wall time: 8min 14s\n"
     ]
    },
    {
     "data": {
      "text/plain": [
       "GridSearchCV(cv=3, estimator=LGBMRegressor(),\n",
       "             param_grid={'learning_rate': [0.1], 'num_leaves': [31, 100, 200]},\n",
       "             scoring='neg_mean_absolute_error')"
      ]
     },
     "execution_count": 68,
     "metadata": {},
     "output_type": "execute_result"
    }
   ],
   "source": [
    "%%time\n",
    "\n",
    "model4 = LGBMRegressor()\n",
    "\n",
    "model4_parametrs = {'num_leaves':[31, 100, 200], \n",
    "                'learning_rate':[0.1]}\n",
    "\n",
    "model4_grid = GridSearchCV(model4, model4_parametrs, scoring='neg_mean_absolute_error', cv=3)\n",
    "model4_grid.fit(features_train, target_train)"
   ]
  },
  {
   "cell_type": "code",
   "execution_count": 69,
   "metadata": {},
   "outputs": [
    {
     "name": "stdout",
     "output_type": "stream",
     "text": [
      "{'learning_rate': 0.1, 'num_leaves': 31}\n",
      "6.5044376163232736\n",
      "CPU times: user 1.11 ms, sys: 125 µs, total: 1.24 ms\n",
      "Wall time: 889 µs\n"
     ]
    }
   ],
   "source": [
    "%%time\n",
    "\n",
    "model4_params = model4_grid.best_params_\n",
    "\n",
    "model4_score = model4_grid.best_score_ * (-1)\n",
    "\n",
    "print(model4_params)\n",
    "print(model4_score)"
   ]
  },
  {
   "cell_type": "markdown",
   "metadata": {},
   "source": [
    "#### Итоговая табличка метрик на трайне"
   ]
  },
  {
   "cell_type": "code",
   "execution_count": 72,
   "metadata": {},
   "outputs": [
    {
     "data": {
      "text/html": [
       "<div>\n",
       "<style scoped>\n",
       "    .dataframe tbody tr th:only-of-type {\n",
       "        vertical-align: middle;\n",
       "    }\n",
       "\n",
       "    .dataframe tbody tr th {\n",
       "        vertical-align: top;\n",
       "    }\n",
       "\n",
       "    .dataframe thead th {\n",
       "        text-align: right;\n",
       "    }\n",
       "</style>\n",
       "<table border=\"1\" class=\"dataframe\">\n",
       "  <thead>\n",
       "    <tr style=\"text-align: right;\">\n",
       "      <th></th>\n",
       "      <th>Model</th>\n",
       "      <th>MAE train</th>\n",
       "    </tr>\n",
       "  </thead>\n",
       "  <tbody>\n",
       "    <tr>\n",
       "      <th>0</th>\n",
       "      <td>RandomForestR</td>\n",
       "      <td>6.586611</td>\n",
       "    </tr>\n",
       "    <tr>\n",
       "      <th>1</th>\n",
       "      <td>CatBoostRegressor</td>\n",
       "      <td>6.329494</td>\n",
       "    </tr>\n",
       "    <tr>\n",
       "      <th>2</th>\n",
       "      <td>LGBMRegressor</td>\n",
       "      <td>6.504438</td>\n",
       "    </tr>\n",
       "  </tbody>\n",
       "</table>\n",
       "</div>"
      ],
      "text/plain": [
       "               Model  MAE train\n",
       "0      RandomForestR   6.586611\n",
       "1  CatBoostRegressor   6.329494\n",
       "2      LGBMRegressor   6.504438"
      ]
     },
     "metadata": {},
     "output_type": "display_data"
    }
   ],
   "source": [
    "results = {\n",
    "    'Model' : ['RandomForestR', 'CatBoostRegressor', 'LGBMRegressor'],\n",
    "\n",
    "    'MAE train': pd.Series([model2_score, model3_score, model4_score])\n",
    "    \n",
    "\n",
    "    }\n",
    "display(pd.DataFrame(results))"
   ]
  },
  {
   "cell_type": "markdown",
   "metadata": {},
   "source": [
    "### Тестирование лучшей модели на тесте"
   ]
  },
  {
   "cell_type": "markdown",
   "metadata": {},
   "source": [
    "В итоговой таблице видим что лучший показатель у модели CatBoostRegressor, проверим ее на test'e"
   ]
  },
  {
   "cell_type": "code",
   "execution_count": 90,
   "metadata": {},
   "outputs": [
    {
     "name": "stdout",
     "output_type": "stream",
     "text": [
      "MAE on test:  6.006395677483939\n",
      "CPU times: user 1.26 s, sys: 4.51 ms, total: 1.26 s\n",
      "Wall time: 1.87 s\n"
     ]
    }
   ],
   "source": [
    "%%time\n",
    "\n",
    "model = CatBoostRegressor(verbose=False)\n",
    "model.set_params(**model3_params)\n",
    "model.fit(features_train, target_train)\n",
    "model_predict = model.predict(features_test)\n",
    "print(\"MAE on test: \", mean_absolute_error(target_test, model_predict))"
   ]
  },
  {
   "cell_type": "markdown",
   "metadata": {},
   "source": [
    "Посмотрим на значимость признаков"
   ]
  },
  {
   "cell_type": "code",
   "execution_count": 107,
   "metadata": {},
   "outputs": [
    {
     "data": {
      "image/png": "[encoded data removed]",
      "text/plain": [
       "<Figure size 1080x1440 with 1 Axes>"
      ]
     },
     "metadata": {
      "needs_background": "light"
     },
     "output_type": "display_data"
    }
   ],
   "source": [
    "importances = model.feature_importances_\n",
    "feature_list = list(features_train.columns)\n",
    "feature_results = pd.DataFrame({'feature': feature_list,'importance': importances})\n",
    "feature_results = feature_results.sort_values('importance',ascending = False).reset_index(drop=True)\n",
    "#feature_results\n",
    "plt.figure(figsize=(15, 20))\n",
    "sns.barplot(x=\"importance\", y=\"feature\", data=feature_results)\n",
    "plt.title('Значимость признаков', fontsize=25)\n",
    "plt.ylabel('Признаки', fontsize=25)\n",
    "plt.xlabel('Важность', fontsize=25)\n",
    "plt.tight_layout()\n",
    "plt.show()"
   ]
  },
  {
   "cell_type": "markdown",
   "metadata": {},
   "source": [
    "В ходе работы над проектом мы выполнели работу по подготовке данных. Изменили тип данных для подсчета общего времени итераций, сгруппировали данные по партиям. Подготовели признаки. Сделали итоговую общую таблицу для обучения модели. Определили целевым признаком последний замер температуры. Для обучения выбрали три модели RandomForestRegressor, CatBoostRegressor, LGBMRegressor. Лучшей моделью на трейне по метрике MAE = 6.329 стал CatBoostRegressor. Проверили на тесте CatBoostRegressor показал MAE = 6.006. Получается модель в среднем ошибается на 6 градусов."
   ]
  },
  {
   "cell_type": "code",
   "execution_count": null,
   "metadata": {},
   "outputs": [],
   "source": []
  }
 ],
 "metadata": {
  "ExecuteTimeLog": [
   {
    "duration": 1290,
    "start_time": "2023-04-27T17:38:57.328Z"
   },
   {
    "duration": 678,
    "start_time": "2023-04-27T17:38:58.620Z"
   },
   {
    "duration": 15,
    "start_time": "2023-04-27T17:39:26.825Z"
   },
   {
    "duration": 14,
    "start_time": "2023-04-27T17:39:36.987Z"
   },
   {
    "duration": 27,
    "start_time": "2023-04-27T17:39:41.756Z"
   },
   {
    "duration": 319,
    "start_time": "2023-04-27T17:39:48.244Z"
   },
   {
    "duration": 198,
    "start_time": "2023-04-27T17:39:55.892Z"
   },
   {
    "duration": 15,
    "start_time": "2023-04-27T17:40:12.036Z"
   },
   {
    "duration": 27,
    "start_time": "2023-04-27T17:40:18.309Z"
   },
   {
    "duration": 61,
    "start_time": "2023-04-27T17:40:24.630Z"
   },
   {
    "duration": 15,
    "start_time": "2023-04-27T17:41:39.318Z"
   },
   {
    "duration": 15,
    "start_time": "2023-04-27T17:41:39.659Z"
   },
   {
    "duration": 14,
    "start_time": "2023-04-27T17:42:08.029Z"
   },
   {
    "duration": 11,
    "start_time": "2023-04-27T17:42:08.411Z"
   },
   {
    "duration": 22,
    "start_time": "2023-04-27T17:42:08.821Z"
   },
   {
    "duration": 296,
    "start_time": "2023-04-27T17:42:09.316Z"
   },
   {
    "duration": 14,
    "start_time": "2023-04-27T17:43:00.316Z"
   },
   {
    "duration": 19,
    "start_time": "2023-04-27T17:43:00.715Z"
   },
   {
    "duration": 39,
    "start_time": "2023-04-27T17:43:01.086Z"
   },
   {
    "duration": 13,
    "start_time": "2023-04-27T17:43:25.453Z"
   },
   {
    "duration": 15,
    "start_time": "2023-04-27T17:43:25.773Z"
   },
   {
    "duration": 75,
    "start_time": "2023-04-27T17:44:02.715Z"
   },
   {
    "duration": 16,
    "start_time": "2023-04-27T17:52:48.649Z"
   },
   {
    "duration": 8,
    "start_time": "2023-04-27T17:52:49.119Z"
   },
   {
    "duration": 18,
    "start_time": "2023-04-27T17:52:49.673Z"
   },
   {
    "duration": 303,
    "start_time": "2023-04-27T17:52:51.969Z"
   },
   {
    "duration": 32,
    "start_time": "2023-04-27T18:37:05.320Z"
   },
   {
    "duration": 14,
    "start_time": "2023-04-27T18:37:18.603Z"
   },
   {
    "duration": 19,
    "start_time": "2023-04-27T18:37:29.772Z"
   },
   {
    "duration": 5,
    "start_time": "2023-04-27T19:11:45.418Z"
   },
   {
    "duration": 11,
    "start_time": "2023-04-27T19:11:51.114Z"
   },
   {
    "duration": 4,
    "start_time": "2023-04-27T19:12:02.277Z"
   },
   {
    "duration": 27,
    "start_time": "2023-04-27T19:12:05.808Z"
   },
   {
    "duration": 5,
    "start_time": "2023-04-27T19:12:15.292Z"
   },
   {
    "duration": 23,
    "start_time": "2023-04-27T19:12:18.521Z"
   },
   {
    "duration": 3,
    "start_time": "2023-04-27T19:14:15.448Z"
   },
   {
    "duration": 1387,
    "start_time": "2023-04-28T12:28:14.462Z"
   },
   {
    "duration": 559,
    "start_time": "2023-04-28T12:28:15.851Z"
   },
   {
    "duration": 13,
    "start_time": "2023-04-28T12:28:16.412Z"
   },
   {
    "duration": 13,
    "start_time": "2023-04-28T12:28:18.090Z"
   },
   {
    "duration": 21,
    "start_time": "2023-04-28T12:28:18.751Z"
   },
   {
    "duration": 299,
    "start_time": "2023-04-28T12:28:24.382Z"
   },
   {
    "duration": 184,
    "start_time": "2023-04-28T12:29:00.331Z"
   },
   {
    "duration": 175,
    "start_time": "2023-04-28T12:29:19.297Z"
   },
   {
    "duration": 192,
    "start_time": "2023-04-28T12:29:29.856Z"
   },
   {
    "duration": 221,
    "start_time": "2023-04-28T12:29:45.297Z"
   },
   {
    "duration": 172,
    "start_time": "2023-04-28T12:30:03.948Z"
   },
   {
    "duration": 14,
    "start_time": "2023-04-28T12:35:54.037Z"
   },
   {
    "duration": 9,
    "start_time": "2023-04-28T12:35:54.587Z"
   },
   {
    "duration": 21,
    "start_time": "2023-04-28T12:35:56.131Z"
   },
   {
    "duration": 3,
    "start_time": "2023-04-28T12:35:58.206Z"
   },
   {
    "duration": 1456,
    "start_time": "2023-04-28T12:36:01.831Z"
   },
   {
    "duration": 365,
    "start_time": "2023-04-28T12:36:56.084Z"
   },
   {
    "duration": 162,
    "start_time": "2023-04-28T12:37:04.854Z"
   },
   {
    "duration": 10,
    "start_time": "2023-04-28T12:37:13.372Z"
   },
   {
    "duration": 8,
    "start_time": "2023-04-28T12:37:19.580Z"
   },
   {
    "duration": 11,
    "start_time": "2023-04-28T12:37:26.395Z"
   },
   {
    "duration": 5,
    "start_time": "2023-04-28T12:37:49.663Z"
   },
   {
    "duration": 177,
    "start_time": "2023-04-28T12:37:53.190Z"
   },
   {
    "duration": 7,
    "start_time": "2023-04-28T12:38:06.004Z"
   },
   {
    "duration": 7,
    "start_time": "2023-04-28T12:38:21.253Z"
   },
   {
    "duration": 8,
    "start_time": "2023-04-28T12:38:44.478Z"
   },
   {
    "duration": 5,
    "start_time": "2023-04-28T12:38:45.657Z"
   },
   {
    "duration": 4,
    "start_time": "2023-04-28T17:29:23.047Z"
   },
   {
    "duration": 202,
    "start_time": "2023-04-28T17:29:23.483Z"
   },
   {
    "duration": 13,
    "start_time": "2023-04-28T17:29:24.840Z"
   },
   {
    "duration": 10,
    "start_time": "2023-04-28T17:29:26.667Z"
   },
   {
    "duration": 27,
    "start_time": "2023-04-28T17:29:27.040Z"
   },
   {
    "duration": 3,
    "start_time": "2023-04-28T17:29:27.367Z"
   },
   {
    "duration": 308,
    "start_time": "2023-04-28T17:29:27.792Z"
   },
   {
    "duration": 174,
    "start_time": "2023-04-28T17:29:28.212Z"
   },
   {
    "duration": 11,
    "start_time": "2023-04-28T17:29:28.719Z"
   },
   {
    "duration": 5,
    "start_time": "2023-04-28T17:29:30.084Z"
   },
   {
    "duration": 11,
    "start_time": "2023-04-28T17:29:31.405Z"
   },
   {
    "duration": 17,
    "start_time": "2023-04-28T17:29:34.335Z"
   },
   {
    "duration": 51,
    "start_time": "2023-04-28T17:29:34.793Z"
   },
   {
    "duration": 4,
    "start_time": "2023-04-28T17:29:36.821Z"
   },
   {
    "duration": 14,
    "start_time": "2023-04-28T17:29:37.687Z"
   },
   {
    "duration": 16,
    "start_time": "2023-04-28T17:29:38.551Z"
   },
   {
    "duration": 3,
    "start_time": "2023-04-28T17:29:39.349Z"
   },
   {
    "duration": 11,
    "start_time": "2023-04-28T17:29:40.198Z"
   },
   {
    "duration": 8,
    "start_time": "2023-04-28T17:29:40.581Z"
   },
   {
    "duration": 19,
    "start_time": "2023-04-28T17:29:41.261Z"
   },
   {
    "duration": 317,
    "start_time": "2023-04-28T17:29:42.512Z"
   },
   {
    "duration": 4,
    "start_time": "2023-04-28T17:29:43.637Z"
   },
   {
    "duration": 13,
    "start_time": "2023-04-28T17:29:45.161Z"
   },
   {
    "duration": 8,
    "start_time": "2023-04-28T17:29:45.696Z"
   },
   {
    "duration": 17,
    "start_time": "2023-04-28T17:29:47.214Z"
   },
   {
    "duration": 309,
    "start_time": "2023-04-28T17:29:47.427Z"
   },
   {
    "duration": 3,
    "start_time": "2023-04-28T17:29:47.738Z"
   },
   {
    "duration": 15,
    "start_time": "2023-04-28T17:29:50.660Z"
   },
   {
    "duration": 12,
    "start_time": "2023-04-28T17:29:51.318Z"
   },
   {
    "duration": 38,
    "start_time": "2023-04-28T17:29:53.237Z"
   },
   {
    "duration": 3,
    "start_time": "2023-04-28T17:29:53.749Z"
   },
   {
    "duration": 13,
    "start_time": "2023-04-28T17:30:10.069Z"
   },
   {
    "duration": 11,
    "start_time": "2023-04-28T17:30:10.497Z"
   },
   {
    "duration": 4,
    "start_time": "2023-04-28T17:30:12.255Z"
   },
   {
    "duration": 32,
    "start_time": "2023-04-28T17:30:25.035Z"
   },
   {
    "duration": 18,
    "start_time": "2023-04-28T17:30:26.014Z"
   },
   {
    "duration": 23,
    "start_time": "2023-04-28T17:31:02.659Z"
   },
   {
    "duration": 18,
    "start_time": "2023-04-28T17:31:04.730Z"
   },
   {
    "duration": 16,
    "start_time": "2023-04-28T17:37:09.256Z"
   },
   {
    "duration": 25,
    "start_time": "2023-04-28T17:37:09.638Z"
   },
   {
    "duration": 23,
    "start_time": "2023-04-28T17:37:10.025Z"
   },
   {
    "duration": 26,
    "start_time": "2023-04-28T17:37:10.435Z"
   },
   {
    "duration": 85,
    "start_time": "2023-04-28T17:37:10.871Z"
   },
   {
    "duration": 459,
    "start_time": "2023-04-28T17:38:18.854Z"
   },
   {
    "duration": 27,
    "start_time": "2023-04-28T17:38:46.655Z"
   },
   {
    "duration": 57,
    "start_time": "2023-04-28T17:38:54.653Z"
   },
   {
    "duration": 19,
    "start_time": "2023-04-28T17:38:55.413Z"
   },
   {
    "duration": 55350,
    "start_time": "2023-04-28T17:40:22.469Z"
   },
   {
    "duration": 11,
    "start_time": "2023-04-28T17:48:58.302Z"
   },
   {
    "duration": 13,
    "start_time": "2023-04-28T17:49:09.891Z"
   },
   {
    "duration": 17,
    "start_time": "2023-04-28T17:49:10.259Z"
   },
   {
    "duration": 19,
    "start_time": "2023-04-28T17:49:10.589Z"
   },
   {
    "duration": 21,
    "start_time": "2023-04-28T17:49:11.025Z"
   },
   {
    "duration": 60,
    "start_time": "2023-04-28T17:49:11.943Z"
   },
   {
    "duration": 43,
    "start_time": "2023-04-28T17:49:31.370Z"
   },
   {
    "duration": 12,
    "start_time": "2023-04-28T17:49:32.092Z"
   },
   {
    "duration": 226025,
    "start_time": "2023-04-28T17:49:32.982Z"
   },
   {
    "duration": 11,
    "start_time": "2023-04-28T17:54:57.042Z"
   },
   {
    "duration": 22,
    "start_time": "2023-04-28T17:55:24.084Z"
   },
   {
    "duration": 11,
    "start_time": "2023-04-28T17:57:58.602Z"
   },
   {
    "duration": 12,
    "start_time": "2023-04-28T17:58:03.322Z"
   },
   {
    "duration": 15,
    "start_time": "2023-04-28T17:58:03.512Z"
   },
   {
    "duration": 16,
    "start_time": "2023-04-28T17:58:03.713Z"
   },
   {
    "duration": 17,
    "start_time": "2023-04-28T17:58:03.914Z"
   },
   {
    "duration": 56,
    "start_time": "2023-04-28T17:58:05.096Z"
   },
   {
    "duration": 18,
    "start_time": "2023-04-28T17:58:09.821Z"
   },
   {
    "duration": 45,
    "start_time": "2023-04-28T17:58:18.669Z"
   },
   {
    "duration": 11,
    "start_time": "2023-04-28T17:58:19.211Z"
   },
   {
    "duration": 3834,
    "start_time": "2023-04-28T17:58:19.908Z"
   },
   {
    "duration": 13,
    "start_time": "2023-04-28T19:27:40.238Z"
   },
   {
    "duration": 48,
    "start_time": "2023-04-28T19:27:42.666Z"
   },
   {
    "duration": 25,
    "start_time": "2023-04-28T19:27:48.013Z"
   },
   {
    "duration": 10,
    "start_time": "2023-04-28T19:27:48.550Z"
   },
   {
    "duration": 3825,
    "start_time": "2023-04-28T19:27:49.479Z"
   },
   {
    "duration": 17,
    "start_time": "2023-04-28T21:15:25.182Z"
   },
   {
    "duration": 7,
    "start_time": "2023-04-28T21:17:05.143Z"
   },
   {
    "duration": 15,
    "start_time": "2023-04-28T21:42:51.055Z"
   },
   {
    "duration": 5,
    "start_time": "2023-04-28T22:02:26.236Z"
   },
   {
    "duration": 10,
    "start_time": "2023-04-28T22:02:30.250Z"
   },
   {
    "duration": 1608,
    "start_time": "2023-04-29T07:59:00.436Z"
   },
   {
    "duration": 578,
    "start_time": "2023-04-29T07:59:02.047Z"
   },
   {
    "duration": 16,
    "start_time": "2023-04-29T07:59:04.604Z"
   },
   {
    "duration": 13,
    "start_time": "2023-04-29T07:59:05.237Z"
   },
   {
    "duration": 13,
    "start_time": "2023-04-29T07:59:20.372Z"
   },
   {
    "duration": 27,
    "start_time": "2023-04-29T07:59:21.419Z"
   },
   {
    "duration": 3,
    "start_time": "2023-04-29T07:59:24.821Z"
   },
   {
    "duration": 25,
    "start_time": "2023-04-29T07:59:38.943Z"
   },
   {
    "duration": 295,
    "start_time": "2023-04-29T07:59:46.049Z"
   },
   {
    "duration": 178,
    "start_time": "2023-04-29T07:59:49.577Z"
   },
   {
    "duration": 256,
    "start_time": "2023-04-29T08:00:07.079Z"
   },
   {
    "duration": 11,
    "start_time": "2023-04-29T08:00:08.426Z"
   },
   {
    "duration": 5,
    "start_time": "2023-04-29T08:00:13.415Z"
   },
   {
    "duration": 128,
    "start_time": "2023-04-29T08:00:14.784Z"
   },
   {
    "duration": 18,
    "start_time": "2023-04-29T08:02:14.915Z"
   },
   {
    "duration": 12,
    "start_time": "2023-04-29T08:03:45.083Z"
   },
   {
    "duration": 11,
    "start_time": "2023-04-29T08:04:16.725Z"
   },
   {
    "duration": 17,
    "start_time": "2023-04-29T08:04:55.427Z"
   },
   {
    "duration": 12,
    "start_time": "2023-04-29T08:04:57.681Z"
   },
   {
    "duration": 7,
    "start_time": "2023-04-29T08:05:02.876Z"
   },
   {
    "duration": 27,
    "start_time": "2023-04-29T08:05:37.827Z"
   },
   {
    "duration": 7,
    "start_time": "2023-04-29T08:05:52.563Z"
   },
   {
    "duration": 6,
    "start_time": "2023-04-29T08:06:10.002Z"
   },
   {
    "duration": 6,
    "start_time": "2023-04-29T08:46:51.201Z"
   },
   {
    "duration": 6,
    "start_time": "2023-04-29T08:48:07.825Z"
   },
   {
    "duration": 7,
    "start_time": "2023-04-29T08:48:27.672Z"
   },
   {
    "duration": 6,
    "start_time": "2023-04-29T08:48:55.375Z"
   },
   {
    "duration": 6,
    "start_time": "2023-04-29T08:49:14.018Z"
   },
   {
    "duration": 7,
    "start_time": "2023-04-29T08:49:30.856Z"
   },
   {
    "duration": 1651,
    "start_time": "2023-04-29T15:37:14.792Z"
   },
   {
    "duration": 653,
    "start_time": "2023-04-29T15:37:16.790Z"
   },
   {
    "duration": 16,
    "start_time": "2023-04-29T15:37:18.920Z"
   },
   {
    "duration": 1463,
    "start_time": "2023-04-29T15:37:23.122Z"
   },
   {
    "duration": 11,
    "start_time": "2023-04-29T15:37:53.520Z"
   },
   {
    "duration": 14,
    "start_time": "2023-04-29T15:37:58.558Z"
   },
   {
    "duration": 6,
    "start_time": "2023-04-29T15:38:04.950Z"
   },
   {
    "duration": 18,
    "start_time": "2023-04-29T15:38:08.165Z"
   },
   {
    "duration": 3,
    "start_time": "2023-04-29T15:38:40.218Z"
   },
   {
    "duration": 298,
    "start_time": "2023-04-29T15:38:41.487Z"
   },
   {
    "duration": 163,
    "start_time": "2023-04-29T15:38:44.342Z"
   },
   {
    "duration": 11,
    "start_time": "2023-04-29T15:38:53.289Z"
   },
   {
    "duration": 6,
    "start_time": "2023-04-29T15:38:56.621Z"
   },
   {
    "duration": 6,
    "start_time": "2023-04-29T15:39:00.927Z"
   },
   {
    "duration": 10,
    "start_time": "2023-04-29T15:39:44.469Z"
   },
   {
    "duration": 6,
    "start_time": "2023-04-29T15:39:59.741Z"
   },
   {
    "duration": 10,
    "start_time": "2023-04-29T15:40:11.737Z"
   },
   {
    "duration": 11,
    "start_time": "2023-04-29T15:54:24.625Z"
   },
   {
    "duration": 89,
    "start_time": "2023-04-29T15:54:26.163Z"
   },
   {
    "duration": 5,
    "start_time": "2023-04-29T15:54:29.338Z"
   },
   {
    "duration": 55,
    "start_time": "2023-04-29T15:54:30.357Z"
   },
   {
    "duration": 3,
    "start_time": "2023-04-29T15:54:32.302Z"
   },
   {
    "duration": 13,
    "start_time": "2023-04-29T15:58:29.761Z"
   },
   {
    "duration": 20,
    "start_time": "2023-04-29T15:58:30.259Z"
   },
   {
    "duration": 4,
    "start_time": "2023-04-29T15:58:32.199Z"
   },
   {
    "duration": 6,
    "start_time": "2023-04-29T15:58:33.245Z"
   },
   {
    "duration": 14,
    "start_time": "2023-04-29T16:03:13.914Z"
   },
   {
    "duration": 7,
    "start_time": "2023-04-29T16:03:14.395Z"
   },
   {
    "duration": 14,
    "start_time": "2023-04-29T16:03:15.058Z"
   },
   {
    "duration": 297,
    "start_time": "2023-04-29T16:03:15.858Z"
   },
   {
    "duration": 3,
    "start_time": "2023-04-29T16:03:22.232Z"
   },
   {
    "duration": 5,
    "start_time": "2023-04-29T16:03:22.997Z"
   },
   {
    "duration": 17,
    "start_time": "2023-04-29T16:04:32.795Z"
   },
   {
    "duration": 7,
    "start_time": "2023-04-29T16:04:33.853Z"
   },
   {
    "duration": 6,
    "start_time": "2023-04-29T16:04:35.363Z"
   },
   {
    "duration": 23,
    "start_time": "2023-04-29T16:05:33.528Z"
   },
   {
    "duration": 16,
    "start_time": "2023-04-29T16:05:47.695Z"
   },
   {
    "duration": 12,
    "start_time": "2023-04-29T16:13:16.140Z"
   },
   {
    "duration": 6,
    "start_time": "2023-04-29T16:13:16.680Z"
   },
   {
    "duration": 12,
    "start_time": "2023-04-29T16:13:17.570Z"
   },
   {
    "duration": 45,
    "start_time": "2023-04-29T16:13:19.601Z"
   },
   {
    "duration": 3,
    "start_time": "2023-04-29T16:13:20.409Z"
   },
   {
    "duration": 14,
    "start_time": "2023-04-29T16:13:24.152Z"
   },
   {
    "duration": 5,
    "start_time": "2023-04-29T16:13:25.010Z"
   },
   {
    "duration": 10,
    "start_time": "2023-04-29T16:13:25.459Z"
   },
   {
    "duration": 3,
    "start_time": "2023-04-29T16:13:26.508Z"
   },
   {
    "duration": 5,
    "start_time": "2023-04-29T16:15:28.498Z"
   },
   {
    "duration": 16,
    "start_time": "2023-04-29T16:15:32.564Z"
   },
   {
    "duration": 5,
    "start_time": "2023-04-29T16:16:49.845Z"
   },
   {
    "duration": 11,
    "start_time": "2023-04-29T16:17:04.111Z"
   },
   {
    "duration": 7,
    "start_time": "2023-04-29T16:17:15.446Z"
   },
   {
    "duration": 8,
    "start_time": "2023-04-29T16:17:24.175Z"
   },
   {
    "duration": 7,
    "start_time": "2023-04-29T16:17:26.285Z"
   },
   {
    "duration": 10,
    "start_time": "2023-04-29T16:17:27.440Z"
   },
   {
    "duration": 9,
    "start_time": "2023-04-29T16:17:28.109Z"
   },
   {
    "duration": 10,
    "start_time": "2023-04-29T16:17:29.700Z"
   },
   {
    "duration": 36,
    "start_time": "2023-04-29T16:17:30.866Z"
   },
   {
    "duration": 47,
    "start_time": "2023-04-29T16:19:44.130Z"
   },
   {
    "duration": 8,
    "start_time": "2023-04-29T16:19:53.874Z"
   },
   {
    "duration": 9,
    "start_time": "2023-04-29T16:20:41.682Z"
   },
   {
    "duration": 6,
    "start_time": "2023-04-29T16:20:42.520Z"
   },
   {
    "duration": 1433894,
    "start_time": "2023-04-29T16:20:43.671Z"
   },
   {
    "duration": 7,
    "start_time": "2023-04-29T16:49:10.165Z"
   },
   {
    "duration": 7,
    "start_time": "2023-04-29T16:49:10.829Z"
   },
   {
    "duration": 10,
    "start_time": "2023-04-29T16:49:11.408Z"
   },
   {
    "duration": 10,
    "start_time": "2023-04-29T16:49:11.986Z"
   },
   {
    "duration": 10,
    "start_time": "2023-04-29T16:49:12.514Z"
   },
   {
    "duration": 35,
    "start_time": "2023-04-29T16:49:13.261Z"
   },
   {
    "duration": 5,
    "start_time": "2023-04-29T16:49:40.976Z"
   },
   {
    "duration": 34,
    "start_time": "2023-04-29T16:49:57.911Z"
   },
   {
    "duration": 4,
    "start_time": "2023-04-29T16:50:11.141Z"
   },
   {
    "duration": 166,
    "start_time": "2023-04-29T16:50:11.806Z"
   },
   {
    "duration": 11,
    "start_time": "2023-04-29T16:50:14.987Z"
   },
   {
    "duration": 12,
    "start_time": "2023-04-29T16:50:16.048Z"
   },
   {
    "duration": 11,
    "start_time": "2023-04-29T16:50:16.568Z"
   },
   {
    "duration": 6,
    "start_time": "2023-04-29T16:50:23.256Z"
   },
   {
    "duration": 20,
    "start_time": "2023-04-29T16:50:30.173Z"
   },
   {
    "duration": 3,
    "start_time": "2023-04-29T16:50:32.734Z"
   },
   {
    "duration": 312,
    "start_time": "2023-04-29T16:50:33.736Z"
   },
   {
    "duration": 158,
    "start_time": "2023-04-29T16:50:36.399Z"
   },
   {
    "duration": 11,
    "start_time": "2023-04-29T16:50:40.027Z"
   },
   {
    "duration": 5,
    "start_time": "2023-04-29T16:50:41.351Z"
   },
   {
    "duration": 6,
    "start_time": "2023-04-29T16:50:41.877Z"
   },
   {
    "duration": 6,
    "start_time": "2023-04-29T16:50:42.891Z"
   },
   {
    "duration": 11,
    "start_time": "2023-04-29T16:50:46.768Z"
   },
   {
    "duration": 12,
    "start_time": "2023-04-29T16:50:52.139Z"
   },
   {
    "duration": 14,
    "start_time": "2023-04-29T16:50:54.942Z"
   },
   {
    "duration": 6,
    "start_time": "2023-04-29T16:50:55.228Z"
   },
   {
    "duration": 58,
    "start_time": "2023-04-29T16:50:55.449Z"
   },
   {
    "duration": 4,
    "start_time": "2023-04-29T16:50:55.674Z"
   },
   {
    "duration": 16,
    "start_time": "2023-04-29T16:50:56.563Z"
   },
   {
    "duration": 14,
    "start_time": "2023-04-29T16:50:56.903Z"
   },
   {
    "duration": 4,
    "start_time": "2023-04-29T16:50:57.114Z"
   },
   {
    "duration": 5,
    "start_time": "2023-04-29T16:50:57.313Z"
   },
   {
    "duration": 11,
    "start_time": "2023-04-29T16:50:58.315Z"
   },
   {
    "duration": 7,
    "start_time": "2023-04-29T16:50:58.517Z"
   },
   {
    "duration": 15,
    "start_time": "2023-04-29T16:50:58.746Z"
   },
   {
    "duration": 299,
    "start_time": "2023-04-29T16:50:59.606Z"
   },
   {
    "duration": 3,
    "start_time": "2023-04-29T16:51:00.023Z"
   },
   {
    "duration": 6,
    "start_time": "2023-04-29T16:51:01.557Z"
   },
   {
    "duration": 12,
    "start_time": "2023-04-29T16:51:02.471Z"
   },
   {
    "duration": 9,
    "start_time": "2023-04-29T16:51:02.885Z"
   },
   {
    "duration": 5,
    "start_time": "2023-04-29T16:51:05.223Z"
   },
   {
    "duration": 388,
    "start_time": "2023-04-29T16:51:05.782Z"
   },
   {
    "duration": 15,
    "start_time": "2023-04-29T16:51:11.465Z"
   },
   {
    "duration": 17,
    "start_time": "2023-04-29T16:51:15.857Z"
   },
   {
    "duration": 18,
    "start_time": "2023-04-29T17:00:28.842Z"
   },
   {
    "duration": 8,
    "start_time": "2023-04-29T17:01:07.567Z"
   },
   {
    "duration": 12,
    "start_time": "2023-04-29T17:01:08.074Z"
   },
   {
    "duration": 4,
    "start_time": "2023-04-29T17:01:55.820Z"
   },
   {
    "duration": 3,
    "start_time": "2023-04-29T17:01:59.201Z"
   },
   {
    "duration": 5,
    "start_time": "2023-04-29T17:02:23.406Z"
   },
   {
    "duration": 195,
    "start_time": "2023-04-29T17:02:23.812Z"
   },
   {
    "duration": 14,
    "start_time": "2023-04-29T17:02:24.880Z"
   },
   {
    "duration": 16,
    "start_time": "2023-04-29T17:02:25.123Z"
   },
   {
    "duration": 12,
    "start_time": "2023-04-29T17:02:25.487Z"
   },
   {
    "duration": 6,
    "start_time": "2023-04-29T17:02:25.841Z"
   },
   {
    "duration": 18,
    "start_time": "2023-04-29T17:02:26.225Z"
   },
   {
    "duration": 3,
    "start_time": "2023-04-29T17:02:26.610Z"
   },
   {
    "duration": 287,
    "start_time": "2023-04-29T17:02:26.952Z"
   },
   {
    "duration": 171,
    "start_time": "2023-04-29T17:02:27.278Z"
   },
   {
    "duration": 12,
    "start_time": "2023-04-29T17:02:27.712Z"
   },
   {
    "duration": 4,
    "start_time": "2023-04-29T17:02:28.641Z"
   },
   {
    "duration": 7,
    "start_time": "2023-04-29T17:02:29.026Z"
   },
   {
    "duration": 5,
    "start_time": "2023-04-29T17:02:29.371Z"
   },
   {
    "duration": 8,
    "start_time": "2023-04-29T17:02:29.764Z"
   },
   {
    "duration": 8,
    "start_time": "2023-04-29T17:02:30.326Z"
   },
   {
    "duration": 11,
    "start_time": "2023-04-29T17:02:31.911Z"
   },
   {
    "duration": 16,
    "start_time": "2023-04-29T17:02:32.427Z"
   },
   {
    "duration": 5,
    "start_time": "2023-04-29T17:02:32.711Z"
   },
   {
    "duration": 51,
    "start_time": "2023-04-29T17:02:33.140Z"
   },
   {
    "duration": 3,
    "start_time": "2023-04-29T17:02:33.437Z"
   },
   {
    "duration": 15,
    "start_time": "2023-04-29T17:02:33.885Z"
   },
   {
    "duration": 15,
    "start_time": "2023-04-29T17:02:34.113Z"
   },
   {
    "duration": 3,
    "start_time": "2023-04-29T17:02:34.359Z"
   },
   {
    "duration": 6,
    "start_time": "2023-04-29T17:02:34.633Z"
   },
   {
    "duration": 13,
    "start_time": "2023-04-29T17:02:35.429Z"
   },
   {
    "duration": 7,
    "start_time": "2023-04-29T17:02:35.903Z"
   },
   {
    "duration": 15,
    "start_time": "2023-04-29T17:02:36.293Z"
   },
   {
    "duration": 282,
    "start_time": "2023-04-29T17:02:36.850Z"
   },
   {
    "duration": 3,
    "start_time": "2023-04-29T17:02:37.268Z"
   },
   {
    "duration": 5,
    "start_time": "2023-04-29T17:02:37.757Z"
   },
   {
    "duration": 11,
    "start_time": "2023-04-29T17:02:38.698Z"
   },
   {
    "duration": 8,
    "start_time": "2023-04-29T17:02:39.102Z"
   },
   {
    "duration": 5,
    "start_time": "2023-04-29T17:02:39.343Z"
   },
   {
    "duration": 269,
    "start_time": "2023-04-29T17:02:39.574Z"
   },
   {
    "duration": 23,
    "start_time": "2023-04-29T17:02:39.845Z"
   },
   {
    "duration": 20,
    "start_time": "2023-04-29T17:02:40.453Z"
   },
   {
    "duration": 309,
    "start_time": "2023-04-29T17:02:45.021Z"
   },
   {
    "duration": 11,
    "start_time": "2023-04-29T17:03:30.910Z"
   },
   {
    "duration": 6,
    "start_time": "2023-04-29T17:03:31.375Z"
   },
   {
    "duration": 14,
    "start_time": "2023-04-29T17:03:31.788Z"
   },
   {
    "duration": 50,
    "start_time": "2023-04-29T17:03:32.168Z"
   },
   {
    "duration": 4,
    "start_time": "2023-04-29T17:03:32.586Z"
   },
   {
    "duration": 12,
    "start_time": "2023-04-29T17:03:33.461Z"
   },
   {
    "duration": 6,
    "start_time": "2023-04-29T17:03:33.882Z"
   },
   {
    "duration": 11,
    "start_time": "2023-04-29T17:03:34.406Z"
   },
   {
    "duration": 3,
    "start_time": "2023-04-29T17:03:34.968Z"
   },
   {
    "duration": 4,
    "start_time": "2023-04-29T17:03:38.613Z"
   },
   {
    "duration": 3,
    "start_time": "2023-04-29T17:03:39.450Z"
   },
   {
    "duration": 7,
    "start_time": "2023-04-29T17:03:41.325Z"
   },
   {
    "duration": 9,
    "start_time": "2023-04-29T17:03:42.174Z"
   },
   {
    "duration": 7,
    "start_time": "2023-04-29T17:03:43.042Z"
   },
   {
    "duration": 9,
    "start_time": "2023-04-29T17:03:43.743Z"
   },
   {
    "duration": 5,
    "start_time": "2023-04-29T17:03:44.521Z"
   },
   {
    "duration": 41,
    "start_time": "2023-04-29T17:03:45.507Z"
   },
   {
    "duration": 34,
    "start_time": "2023-04-29T17:03:53.146Z"
   },
   {
    "duration": 5,
    "start_time": "2023-04-29T17:03:59.987Z"
   },
   {
    "duration": 5,
    "start_time": "2023-04-29T17:04:03.498Z"
   },
   {
    "duration": 5,
    "start_time": "2023-04-29T17:04:16.848Z"
   },
   {
    "duration": 5,
    "start_time": "2023-04-29T17:04:17.515Z"
   },
   {
    "duration": 453432,
    "start_time": "2023-04-29T17:04:21.123Z"
   },
   {
    "duration": 44,
    "start_time": "2023-04-29T17:14:52.184Z"
   },
   {
    "duration": 180,
    "start_time": "2023-04-29T17:17:40.810Z"
   },
   {
    "duration": 222,
    "start_time": "2023-04-29T17:18:19.890Z"
   },
   {
    "duration": 5,
    "start_time": "2023-04-29T17:21:17.143Z"
   },
   {
    "duration": 83,
    "start_time": "2023-04-29T17:22:46.238Z"
   },
   {
    "duration": 5,
    "start_time": "2023-04-29T17:22:57.521Z"
   },
   {
    "duration": 5,
    "start_time": "2023-04-29T17:23:15.803Z"
   },
   {
    "duration": 5,
    "start_time": "2023-04-29T17:23:16.635Z"
   },
   {
    "duration": 451763,
    "start_time": "2023-04-29T17:23:17.433Z"
   },
   {
    "duration": 12,
    "start_time": "2023-04-29T17:36:35.726Z"
   },
   {
    "duration": 4,
    "start_time": "2023-04-29T17:37:04.173Z"
   },
   {
    "duration": 10,
    "start_time": "2023-04-29T17:37:15.480Z"
   },
   {
    "duration": 452103,
    "start_time": "2023-04-29T17:37:42.315Z"
   },
   {
    "duration": 5,
    "start_time": "2023-04-29T17:45:52.282Z"
   },
   {
    "duration": 27,
    "start_time": "2023-04-29T17:46:07.345Z"
   },
   {
    "duration": 10,
    "start_time": "2023-04-29T17:46:11.712Z"
   },
   {
    "duration": 10,
    "start_time": "2023-04-29T17:46:16.532Z"
   },
   {
    "duration": 14,
    "start_time": "2023-04-29T17:47:59.809Z"
   },
   {
    "duration": 7,
    "start_time": "2023-04-29T17:48:14.045Z"
   },
   {
    "duration": 26,
    "start_time": "2023-04-29T17:48:14.633Z"
   },
   {
    "duration": 13,
    "start_time": "2023-04-29T17:48:15.523Z"
   },
   {
    "duration": 19,
    "start_time": "2023-04-29T17:48:17.551Z"
   },
   {
    "duration": 457300,
    "start_time": "2023-04-29T17:48:28.870Z"
   },
   {
    "duration": 5,
    "start_time": "2023-04-29T18:17:14.035Z"
   },
   {
    "duration": 181,
    "start_time": "2023-04-29T18:17:14.445Z"
   },
   {
    "duration": 14,
    "start_time": "2023-04-29T18:17:18.030Z"
   },
   {
    "duration": 12,
    "start_time": "2023-04-29T18:17:20.062Z"
   },
   {
    "duration": 11,
    "start_time": "2023-04-29T18:17:20.488Z"
   },
   {
    "duration": 6,
    "start_time": "2023-04-29T18:17:24.385Z"
   },
   {
    "duration": 19,
    "start_time": "2023-04-29T18:17:25.252Z"
   },
   {
    "duration": 2,
    "start_time": "2023-04-29T18:17:27.642Z"
   },
   {
    "duration": 299,
    "start_time": "2023-04-29T18:17:28.083Z"
   },
   {
    "duration": 180,
    "start_time": "2023-04-29T18:17:28.953Z"
   },
   {
    "duration": 9,
    "start_time": "2023-04-29T18:17:32.037Z"
   },
   {
    "duration": 4,
    "start_time": "2023-04-29T18:17:34.402Z"
   },
   {
    "duration": 7,
    "start_time": "2023-04-29T18:17:37.611Z"
   },
   {
    "duration": 6,
    "start_time": "2023-04-29T18:17:39.418Z"
   },
   {
    "duration": 5,
    "start_time": "2023-04-29T18:18:07.994Z"
   },
   {
    "duration": 5,
    "start_time": "2023-04-29T18:18:08.378Z"
   },
   {
    "duration": 6,
    "start_time": "2023-04-29T18:18:08.849Z"
   },
   {
    "duration": 13,
    "start_time": "2023-04-29T18:18:17.186Z"
   },
   {
    "duration": 1178,
    "start_time": "2023-04-29T18:18:17.350Z"
   },
   {
    "duration": 0,
    "start_time": "2023-04-29T18:18:18.530Z"
   },
   {
    "duration": 0,
    "start_time": "2023-04-29T18:18:18.531Z"
   },
   {
    "duration": 0,
    "start_time": "2023-04-29T18:18:18.532Z"
   },
   {
    "duration": 0,
    "start_time": "2023-04-29T18:18:18.533Z"
   },
   {
    "duration": 0,
    "start_time": "2023-04-29T18:18:18.534Z"
   },
   {
    "duration": 0,
    "start_time": "2023-04-29T18:18:18.535Z"
   },
   {
    "duration": 9,
    "start_time": "2023-04-29T18:18:18.676Z"
   },
   {
    "duration": 5,
    "start_time": "2023-04-29T18:18:19.019Z"
   },
   {
    "duration": 4,
    "start_time": "2023-04-29T18:18:29.459Z"
   },
   {
    "duration": 196,
    "start_time": "2023-04-29T18:18:30.526Z"
   },
   {
    "duration": 11,
    "start_time": "2023-04-29T18:18:33.768Z"
   },
   {
    "duration": 11,
    "start_time": "2023-04-29T18:18:35.513Z"
   },
   {
    "duration": 13,
    "start_time": "2023-04-29T18:18:37.044Z"
   },
   {
    "duration": 6,
    "start_time": "2023-04-29T18:18:38.375Z"
   },
   {
    "duration": 20,
    "start_time": "2023-04-29T18:18:39.261Z"
   },
   {
    "duration": 4,
    "start_time": "2023-04-29T18:18:40.422Z"
   },
   {
    "duration": 297,
    "start_time": "2023-04-29T18:18:42.139Z"
   },
   {
    "duration": 151,
    "start_time": "2023-04-29T18:18:43.038Z"
   },
   {
    "duration": 10,
    "start_time": "2023-04-29T18:18:43.656Z"
   },
   {
    "duration": 5,
    "start_time": "2023-04-29T18:18:44.920Z"
   },
   {
    "duration": 5,
    "start_time": "2023-04-29T18:18:45.412Z"
   },
   {
    "duration": 5,
    "start_time": "2023-04-29T18:18:46.189Z"
   },
   {
    "duration": 7,
    "start_time": "2023-04-29T18:18:46.971Z"
   },
   {
    "duration": 8,
    "start_time": "2023-04-29T18:18:47.673Z"
   },
   {
    "duration": 11,
    "start_time": "2023-04-29T18:18:53.339Z"
   },
   {
    "duration": 15,
    "start_time": "2023-04-29T18:18:53.829Z"
   },
   {
    "duration": 6,
    "start_time": "2023-04-29T18:18:54.282Z"
   },
   {
    "duration": 54,
    "start_time": "2023-04-29T18:18:55.016Z"
   },
   {
    "duration": 3,
    "start_time": "2023-04-29T18:18:57.124Z"
   },
   {
    "duration": 12,
    "start_time": "2023-04-29T18:18:58.294Z"
   },
   {
    "duration": 14,
    "start_time": "2023-04-29T18:18:58.725Z"
   },
   {
    "duration": 3,
    "start_time": "2023-04-29T18:18:59.181Z"
   },
   {
    "duration": 5,
    "start_time": "2023-04-29T18:18:59.603Z"
   },
   {
    "duration": 12,
    "start_time": "2023-04-29T18:19:00.789Z"
   },
   {
    "duration": 8,
    "start_time": "2023-04-29T18:19:01.241Z"
   },
   {
    "duration": 14,
    "start_time": "2023-04-29T18:19:01.792Z"
   },
   {
    "duration": 278,
    "start_time": "2023-04-29T18:19:02.647Z"
   },
   {
    "duration": 3,
    "start_time": "2023-04-29T18:19:05.081Z"
   },
   {
    "duration": 7,
    "start_time": "2023-04-29T18:19:05.481Z"
   },
   {
    "duration": 14,
    "start_time": "2023-04-29T18:19:06.761Z"
   },
   {
    "duration": 8,
    "start_time": "2023-04-29T18:19:09.189Z"
   },
   {
    "duration": 5,
    "start_time": "2023-04-29T18:19:09.930Z"
   },
   {
    "duration": 416,
    "start_time": "2023-04-29T18:19:12.693Z"
   },
   {
    "duration": 17,
    "start_time": "2023-04-29T18:19:13.780Z"
   },
   {
    "duration": 18,
    "start_time": "2023-04-29T18:22:44.999Z"
   },
   {
    "duration": 6,
    "start_time": "2023-04-29T18:23:55.276Z"
   },
   {
    "duration": 10,
    "start_time": "2023-04-29T18:26:01.084Z"
   },
   {
    "duration": 13,
    "start_time": "2023-04-29T18:26:18.228Z"
   },
   {
    "duration": 11,
    "start_time": "2023-04-29T18:27:02.697Z"
   },
   {
    "duration": 5,
    "start_time": "2023-04-29T18:27:10.105Z"
   },
   {
    "duration": 12,
    "start_time": "2023-04-29T18:27:16.142Z"
   },
   {
    "duration": 11,
    "start_time": "2023-04-29T18:27:40.859Z"
   },
   {
    "duration": 6,
    "start_time": "2023-04-29T18:27:42.094Z"
   },
   {
    "duration": 12,
    "start_time": "2023-04-29T18:27:42.728Z"
   },
   {
    "duration": 36,
    "start_time": "2023-04-29T18:27:44.126Z"
   },
   {
    "duration": 4,
    "start_time": "2023-04-29T18:27:46.895Z"
   },
   {
    "duration": 12,
    "start_time": "2023-04-29T18:27:47.746Z"
   },
   {
    "duration": 6,
    "start_time": "2023-04-29T18:27:48.197Z"
   },
   {
    "duration": 10,
    "start_time": "2023-04-29T18:27:49.010Z"
   },
   {
    "duration": 3,
    "start_time": "2023-04-29T18:27:49.653Z"
   },
   {
    "duration": 3,
    "start_time": "2023-04-29T18:27:54.474Z"
   },
   {
    "duration": 4,
    "start_time": "2023-04-29T18:27:55.178Z"
   },
   {
    "duration": 7,
    "start_time": "2023-04-29T18:27:56.253Z"
   },
   {
    "duration": 6,
    "start_time": "2023-04-29T18:27:57.209Z"
   },
   {
    "duration": 7,
    "start_time": "2023-04-29T18:27:58.246Z"
   },
   {
    "duration": 7,
    "start_time": "2023-04-29T18:27:59.007Z"
   },
   {
    "duration": 4,
    "start_time": "2023-04-29T18:27:59.819Z"
   },
   {
    "duration": 37,
    "start_time": "2023-04-29T18:28:00.937Z"
   },
   {
    "duration": 107,
    "start_time": "2023-04-29T18:28:03.654Z"
   },
   {
    "duration": 4,
    "start_time": "2023-04-29T18:28:13.247Z"
   },
   {
    "duration": 6,
    "start_time": "2023-04-29T18:28:16.378Z"
   },
   {
    "duration": 5,
    "start_time": "2023-04-29T18:28:27.094Z"
   },
   {
    "duration": 27,
    "start_time": "2023-04-29T18:28:28.679Z"
   },
   {
    "duration": 387748,
    "start_time": "2023-04-29T18:28:38.220Z"
   },
   {
    "duration": 19,
    "start_time": "2023-04-29T18:38:37.536Z"
   },
   {
    "duration": 29,
    "start_time": "2023-04-29T18:38:38.867Z"
   },
   {
    "duration": 6,
    "start_time": "2023-04-29T18:38:45.482Z"
   },
   {
    "duration": 6,
    "start_time": "2023-04-29T18:38:46.522Z"
   },
   {
    "duration": 23,
    "start_time": "2023-04-29T18:38:47.133Z"
   },
   {
    "duration": 12,
    "start_time": "2023-04-29T18:38:48.078Z"
   },
   {
    "duration": 19,
    "start_time": "2023-04-29T18:38:48.843Z"
   },
   {
    "duration": 392954,
    "start_time": "2023-04-29T18:38:56.613Z"
   },
   {
    "duration": 5,
    "start_time": "2023-04-29T19:45:47.674Z"
   },
   {
    "duration": 87,
    "start_time": "2023-04-29T19:49:16.524Z"
   },
   {
    "duration": 122,
    "start_time": "2023-04-29T19:50:06.808Z"
   },
   {
    "duration": 400348,
    "start_time": "2023-04-29T19:51:35.174Z"
   },
   {
    "duration": 5,
    "start_time": "2023-04-29T19:59:52.044Z"
   },
   {
    "duration": 60,
    "start_time": "2023-04-29T20:01:09.579Z"
   },
   {
    "duration": 4842,
    "start_time": "2023-04-29T20:01:47.340Z"
   },
   {
    "duration": 5,
    "start_time": "2023-04-29T20:01:52.185Z"
   },
   {
    "duration": 32,
    "start_time": "2023-04-29T20:01:52.192Z"
   },
   {
    "duration": 469778,
    "start_time": "2023-04-29T20:05:37.835Z"
   },
   {
    "duration": 4,
    "start_time": "2023-04-29T20:13:27.615Z"
   },
   {
    "duration": 18,
    "start_time": "2023-04-29T20:13:27.620Z"
   },
   {
    "duration": 1837522,
    "start_time": "2023-04-29T20:16:33.850Z"
   },
   {
    "duration": 5,
    "start_time": "2023-04-29T20:47:11.455Z"
   },
   {
    "duration": 7,
    "start_time": "2023-04-29T20:47:11.462Z"
   },
   {
    "duration": 3988,
    "start_time": "2023-04-29T20:52:02.873Z"
   },
   {
    "duration": 3693,
    "start_time": "2023-04-29T20:52:27.510Z"
   },
   {
    "duration": 3756,
    "start_time": "2023-04-29T20:53:15.167Z"
   },
   {
    "duration": 3525,
    "start_time": "2023-04-29T20:53:28.081Z"
   },
   {
    "duration": 4338,
    "start_time": "2023-04-29T20:53:38.142Z"
   },
   {
    "duration": 3005,
    "start_time": "2023-04-29T20:54:34.141Z"
   },
   {
    "duration": 4,
    "start_time": "2023-04-29T21:01:20.779Z"
   },
   {
    "duration": 5,
    "start_time": "2023-04-29T21:01:25.499Z"
   },
   {
    "duration": 4,
    "start_time": "2023-04-29T21:13:37.968Z"
   },
   {
    "duration": 169,
    "start_time": "2023-04-29T21:13:38.678Z"
   },
   {
    "duration": 14,
    "start_time": "2023-04-29T21:13:51.848Z"
   },
   {
    "duration": 11,
    "start_time": "2023-04-29T21:14:17.750Z"
   },
   {
    "duration": 11,
    "start_time": "2023-04-29T21:14:18.516Z"
   },
   {
    "duration": 6,
    "start_time": "2023-04-29T21:14:19.601Z"
   },
   {
    "duration": 22,
    "start_time": "2023-04-29T21:14:20.554Z"
   },
   {
    "duration": 3,
    "start_time": "2023-04-29T21:14:28.485Z"
   },
   {
    "duration": 277,
    "start_time": "2023-04-29T21:14:29.193Z"
   },
   {
    "duration": 156,
    "start_time": "2023-04-29T21:14:30.020Z"
   },
   {
    "duration": 10,
    "start_time": "2023-04-29T21:14:30.849Z"
   },
   {
    "duration": 4,
    "start_time": "2023-04-29T21:14:32.694Z"
   },
   {
    "duration": 7,
    "start_time": "2023-04-29T21:14:33.901Z"
   },
   {
    "duration": 6,
    "start_time": "2023-04-29T21:14:34.813Z"
   },
   {
    "duration": 10,
    "start_time": "2023-04-29T21:14:35.976Z"
   },
   {
    "duration": 9,
    "start_time": "2023-04-29T21:14:38.876Z"
   },
   {
    "duration": 7,
    "start_time": "2023-04-29T21:14:43.548Z"
   },
   {
    "duration": 10,
    "start_time": "2023-04-29T21:14:44.026Z"
   },
   {
    "duration": 11,
    "start_time": "2023-04-29T21:14:46.983Z"
   },
   {
    "duration": 15,
    "start_time": "2023-04-29T21:14:47.730Z"
   },
   {
    "duration": 6,
    "start_time": "2023-04-29T21:14:55.224Z"
   },
   {
    "duration": 52,
    "start_time": "2023-04-29T21:14:55.576Z"
   },
   {
    "duration": 3,
    "start_time": "2023-04-29T21:14:57.532Z"
   },
   {
    "duration": 4611,
    "start_time": "2023-04-29T21:15:00.366Z"
   },
   {
    "duration": 13,
    "start_time": "2023-04-29T21:15:08.985Z"
   },
   {
    "duration": 14,
    "start_time": "2023-04-29T21:15:09.413Z"
   },
   {
    "duration": 4,
    "start_time": "2023-04-29T21:15:11.813Z"
   },
   {
    "duration": 6,
    "start_time": "2023-04-29T21:15:12.305Z"
   },
   {
    "duration": 11,
    "start_time": "2023-04-29T21:15:13.629Z"
   },
   {
    "duration": 6,
    "start_time": "2023-04-29T21:15:14.243Z"
   },
   {
    "duration": 17,
    "start_time": "2023-04-29T21:15:18.608Z"
   },
   {
    "duration": 297,
    "start_time": "2023-04-29T21:15:19.620Z"
   },
   {
    "duration": 3,
    "start_time": "2023-04-29T21:15:24.503Z"
   },
   {
    "duration": 7,
    "start_time": "2023-04-29T21:15:25.342Z"
   },
   {
    "duration": 6,
    "start_time": "2023-04-29T21:15:54.998Z"
   },
   {
    "duration": 12,
    "start_time": "2023-04-29T21:15:55.882Z"
   },
   {
    "duration": 8,
    "start_time": "2023-04-29T21:15:56.456Z"
   },
   {
    "duration": 6,
    "start_time": "2023-04-29T21:15:58.981Z"
   },
   {
    "duration": 275,
    "start_time": "2023-04-29T21:15:59.857Z"
   },
   {
    "duration": 269,
    "start_time": "2023-04-29T21:16:16.214Z"
   },
   {
    "duration": 16,
    "start_time": "2023-04-29T21:16:17.268Z"
   },
   {
    "duration": 18,
    "start_time": "2023-04-29T21:16:23.759Z"
   },
   {
    "duration": 5,
    "start_time": "2023-04-29T21:16:28.034Z"
   },
   {
    "duration": 12,
    "start_time": "2023-04-29T21:16:31.987Z"
   },
   {
    "duration": 5,
    "start_time": "2023-04-29T21:16:41.875Z"
   },
   {
    "duration": 14,
    "start_time": "2023-04-29T21:16:42.205Z"
   },
   {
    "duration": 39,
    "start_time": "2023-04-29T21:16:45.036Z"
   },
   {
    "duration": 4,
    "start_time": "2023-04-29T21:16:47.805Z"
   },
   {
    "duration": 3089,
    "start_time": "2023-04-29T21:16:48.342Z"
   },
   {
    "duration": 12,
    "start_time": "2023-04-29T21:16:51.433Z"
   },
   {
    "duration": 9,
    "start_time": "2023-04-29T21:17:12.132Z"
   },
   {
    "duration": 11,
    "start_time": "2023-04-29T21:17:12.622Z"
   },
   {
    "duration": 4,
    "start_time": "2023-04-29T21:17:18.612Z"
   },
   {
    "duration": 8,
    "start_time": "2023-04-29T21:17:27.734Z"
   },
   {
    "duration": 8,
    "start_time": "2023-04-29T21:17:28.519Z"
   },
   {
    "duration": 9,
    "start_time": "2023-04-29T21:17:29.608Z"
   },
   {
    "duration": 8,
    "start_time": "2023-04-29T21:17:30.200Z"
   },
   {
    "duration": 6,
    "start_time": "2023-04-29T21:17:32.248Z"
   },
   {
    "duration": 4,
    "start_time": "2023-04-29T21:17:35.117Z"
   },
   {
    "duration": 118,
    "start_time": "2023-04-29T21:17:37.613Z"
   },
   {
    "duration": 4,
    "start_time": "2023-04-29T21:17:53.865Z"
   },
   {
    "duration": 92,
    "start_time": "2023-04-29T21:17:59.974Z"
   },
   {
    "duration": 8,
    "start_time": "2023-04-29T21:18:56.336Z"
   },
   {
    "duration": 7,
    "start_time": "2023-04-29T21:18:57.481Z"
   },
   {
    "duration": 8,
    "start_time": "2023-04-29T21:18:58.405Z"
   },
   {
    "duration": 9,
    "start_time": "2023-04-29T21:19:02.115Z"
   },
   {
    "duration": 5,
    "start_time": "2023-04-29T21:19:03.323Z"
   },
   {
    "duration": 5,
    "start_time": "2023-04-29T21:19:04.655Z"
   },
   {
    "duration": 111,
    "start_time": "2023-04-29T21:19:05.847Z"
   },
   {
    "duration": 5,
    "start_time": "2023-04-29T21:19:10.521Z"
   },
   {
    "duration": 91,
    "start_time": "2023-04-29T21:19:13.294Z"
   },
   {
    "duration": 6,
    "start_time": "2023-04-29T21:19:26.030Z"
   },
   {
    "duration": 6,
    "start_time": "2023-04-29T21:19:31.808Z"
   },
   {
    "duration": 4543,
    "start_time": "2023-04-29T21:19:40.106Z"
   },
   {
    "duration": 3,
    "start_time": "2023-04-29T21:19:46.651Z"
   },
   {
    "duration": 9,
    "start_time": "2023-04-29T21:19:47.537Z"
   },
   {
    "duration": 432301,
    "start_time": "2023-04-29T21:20:03.205Z"
   },
   {
    "duration": 4,
    "start_time": "2023-04-29T21:27:15.508Z"
   },
   {
    "duration": 22,
    "start_time": "2023-04-29T21:27:15.514Z"
   },
   {
    "duration": 22,
    "start_time": "2023-04-29T21:37:31.512Z"
   },
   {
    "duration": 1721,
    "start_time": "2023-04-30T16:58:11.468Z"
   },
   {
    "duration": 530,
    "start_time": "2023-04-30T16:58:13.192Z"
   },
   {
    "duration": 14,
    "start_time": "2023-04-30T16:58:13.724Z"
   },
   {
    "duration": 11,
    "start_time": "2023-04-30T16:58:15.482Z"
   },
   {
    "duration": 14,
    "start_time": "2023-04-30T16:58:16.392Z"
   },
   {
    "duration": 6,
    "start_time": "2023-04-30T16:58:17.634Z"
   },
   {
    "duration": 26,
    "start_time": "2023-04-30T16:58:18.331Z"
   },
   {
    "duration": 3,
    "start_time": "2023-04-30T16:58:23.052Z"
   },
   {
    "duration": 317,
    "start_time": "2023-04-30T16:58:23.649Z"
   },
   {
    "duration": 177,
    "start_time": "2023-04-30T16:58:24.647Z"
   },
   {
    "duration": 11,
    "start_time": "2023-04-30T16:58:25.504Z"
   },
   {
    "duration": 4,
    "start_time": "2023-04-30T16:58:26.708Z"
   },
   {
    "duration": 6,
    "start_time": "2023-04-30T16:58:28.202Z"
   },
   {
    "duration": 6,
    "start_time": "2023-04-30T16:58:30.630Z"
   },
   {
    "duration": 10,
    "start_time": "2023-04-30T16:58:31.851Z"
   },
   {
    "duration": 10,
    "start_time": "2023-04-30T16:58:35.538Z"
   },
   {
    "duration": 13,
    "start_time": "2023-04-30T16:58:36.841Z"
   },
   {
    "duration": 91,
    "start_time": "2023-04-30T16:58:37.639Z"
   },
   {
    "duration": 6,
    "start_time": "2023-04-30T16:58:39.045Z"
   },
   {
    "duration": 53,
    "start_time": "2023-04-30T16:58:39.700Z"
   },
   {
    "duration": 3,
    "start_time": "2023-04-30T16:58:41.303Z"
   },
   {
    "duration": 4295,
    "start_time": "2023-04-30T16:58:41.828Z"
   },
   {
    "duration": 14,
    "start_time": "2023-04-30T16:58:46.125Z"
   },
   {
    "duration": 15,
    "start_time": "2023-04-30T16:58:47.104Z"
   },
   {
    "duration": 4,
    "start_time": "2023-04-30T16:58:48.828Z"
   },
   {
    "duration": 6,
    "start_time": "2023-04-30T16:58:49.700Z"
   },
   {
    "duration": 10,
    "start_time": "2023-04-30T17:02:30.601Z"
   },
   {
    "duration": 8,
    "start_time": "2023-04-30T17:02:31.300Z"
   },
   {
    "duration": 17,
    "start_time": "2023-04-30T17:02:31.844Z"
   },
   {
    "duration": 298,
    "start_time": "2023-04-30T17:02:32.877Z"
   },
   {
    "duration": 3,
    "start_time": "2023-04-30T17:02:37.660Z"
   },
   {
    "duration": 8,
    "start_time": "2023-04-30T17:02:39.156Z"
   },
   {
    "duration": 13,
    "start_time": "2023-04-30T17:02:54.263Z"
   },
   {
    "duration": 8,
    "start_time": "2023-04-30T17:02:54.856Z"
   },
   {
    "duration": 6,
    "start_time": "2023-04-30T17:02:55.940Z"
   },
   {
    "duration": 292,
    "start_time": "2023-04-30T17:02:56.625Z"
   },
   {
    "duration": 17,
    "start_time": "2023-04-30T17:02:57.216Z"
   },
   {
    "duration": 18,
    "start_time": "2023-04-30T17:02:58.403Z"
   },
   {
    "duration": 4,
    "start_time": "2023-04-30T17:02:59.546Z"
   },
   {
    "duration": 12,
    "start_time": "2023-04-30T17:03:00.451Z"
   },
   {
    "duration": 5,
    "start_time": "2023-04-30T17:03:01.798Z"
   },
   {
    "duration": 12,
    "start_time": "2023-04-30T17:03:02.424Z"
   },
   {
    "duration": 47,
    "start_time": "2023-04-30T17:03:03.267Z"
   },
   {
    "duration": 4,
    "start_time": "2023-04-30T17:03:04.755Z"
   },
   {
    "duration": 3022,
    "start_time": "2023-04-30T17:03:05.453Z"
   },
   {
    "duration": 18,
    "start_time": "2023-04-30T17:04:54.133Z"
   },
   {
    "duration": 6,
    "start_time": "2023-04-30T17:04:55.201Z"
   },
   {
    "duration": 11,
    "start_time": "2023-04-30T17:04:55.753Z"
   },
   {
    "duration": 5,
    "start_time": "2023-04-30T17:04:57.851Z"
   },
   {
    "duration": 13,
    "start_time": "2023-04-30T17:05:13.405Z"
   },
   {
    "duration": 9,
    "start_time": "2023-04-30T17:05:14.331Z"
   },
   {
    "duration": 8,
    "start_time": "2023-04-30T17:05:16.156Z"
   },
   {
    "duration": 8,
    "start_time": "2023-04-30T17:05:17.382Z"
   },
   {
    "duration": 22,
    "start_time": "2023-04-30T17:05:20.903Z"
   },
   {
    "duration": 5,
    "start_time": "2023-04-30T17:05:26.446Z"
   },
   {
    "duration": 5,
    "start_time": "2023-04-30T17:05:28.277Z"
   },
   {
    "duration": 289,
    "start_time": "2023-04-30T17:05:29.919Z"
   },
   {
    "duration": 5,
    "start_time": "2023-04-30T17:06:02.841Z"
   },
   {
    "duration": 95,
    "start_time": "2023-04-30T17:06:27.852Z"
   },
   {
    "duration": 29,
    "start_time": "2023-04-30T17:06:49.041Z"
   },
   {
    "duration": 6,
    "start_time": "2023-04-30T17:06:54.777Z"
   },
   {
    "duration": 6,
    "start_time": "2023-04-30T17:06:55.823Z"
   },
   {
    "duration": 4930,
    "start_time": "2023-04-30T17:07:28.614Z"
   },
   {
    "duration": 4,
    "start_time": "2023-04-30T17:07:43.154Z"
   },
   {
    "duration": 446415,
    "start_time": "2023-04-30T17:08:06.750Z"
   },
   {
    "duration": 4,
    "start_time": "2023-04-30T17:15:33.167Z"
   },
   {
    "duration": 202,
    "start_time": "2023-04-30T17:16:22.598Z"
   },
   {
    "duration": 14874,
    "start_time": "2023-04-30T17:16:26.347Z"
   },
   {
    "duration": 4,
    "start_time": "2023-04-30T17:16:41.223Z"
   },
   {
    "duration": 7,
    "start_time": "2023-04-30T17:24:26.384Z"
   },
   {
    "duration": 1886,
    "start_time": "2023-05-01T09:06:27.331Z"
   },
   {
    "duration": 800,
    "start_time": "2023-05-01T09:06:29.220Z"
   },
   {
    "duration": 16,
    "start_time": "2023-05-01T09:06:30.023Z"
   },
   {
    "duration": 12,
    "start_time": "2023-05-01T09:06:31.116Z"
   },
   {
    "duration": 20,
    "start_time": "2023-05-01T09:06:32.303Z"
   },
   {
    "duration": 6,
    "start_time": "2023-05-01T09:06:33.416Z"
   },
   {
    "duration": 21,
    "start_time": "2023-05-01T09:06:34.133Z"
   },
   {
    "duration": 3,
    "start_time": "2023-05-01T09:06:35.372Z"
   },
   {
    "duration": 345,
    "start_time": "2023-05-01T09:06:36.113Z"
   },
   {
    "duration": 203,
    "start_time": "2023-05-01T09:06:36.883Z"
   },
   {
    "duration": 12,
    "start_time": "2023-05-01T09:06:38.530Z"
   },
   {
    "duration": 5,
    "start_time": "2023-05-01T09:06:40.128Z"
   },
   {
    "duration": 7,
    "start_time": "2023-05-01T09:06:41.556Z"
   },
   {
    "duration": 6,
    "start_time": "2023-05-01T09:06:42.824Z"
   },
   {
    "duration": 8,
    "start_time": "2023-05-01T09:06:43.835Z"
   },
   {
    "duration": 9,
    "start_time": "2023-05-01T09:06:44.513Z"
   },
   {
    "duration": 13,
    "start_time": "2023-05-01T09:06:45.711Z"
   },
   {
    "duration": 104,
    "start_time": "2023-05-01T09:06:46.370Z"
   },
   {
    "duration": 7,
    "start_time": "2023-05-01T09:06:47.485Z"
   },
   {
    "duration": 58,
    "start_time": "2023-05-01T09:06:48.113Z"
   },
   {
    "duration": 4,
    "start_time": "2023-05-01T09:06:49.186Z"
   },
   {
    "duration": 5152,
    "start_time": "2023-05-01T09:06:49.822Z"
   },
   {
    "duration": 15,
    "start_time": "2023-05-01T09:07:54.981Z"
   },
   {
    "duration": 15,
    "start_time": "2023-05-01T09:07:55.413Z"
   },
   {
    "duration": 4,
    "start_time": "2023-05-01T09:07:56.463Z"
   },
   {
    "duration": 6,
    "start_time": "2023-05-01T09:07:57.025Z"
   },
   {
    "duration": 11,
    "start_time": "2023-05-01T09:07:58.026Z"
   },
   {
    "duration": 8,
    "start_time": "2023-05-01T09:07:58.557Z"
   },
   {
    "duration": 16,
    "start_time": "2023-05-01T09:07:59.062Z"
   },
   {
    "duration": 352,
    "start_time": "2023-05-01T09:07:59.709Z"
   },
   {
    "duration": 4,
    "start_time": "2023-05-01T09:08:00.746Z"
   },
   {
    "duration": 6,
    "start_time": "2023-05-01T09:08:02.142Z"
   },
   {
    "duration": 13,
    "start_time": "2023-05-01T09:08:03.075Z"
   },
   {
    "duration": 9,
    "start_time": "2023-05-01T09:08:03.714Z"
   },
   {
    "duration": 5,
    "start_time": "2023-05-01T09:08:04.821Z"
   },
   {
    "duration": 333,
    "start_time": "2023-05-01T09:08:05.415Z"
   },
   {
    "duration": 18,
    "start_time": "2023-05-01T09:08:06.340Z"
   },
   {
    "duration": 22,
    "start_time": "2023-05-01T09:08:26.807Z"
   },
   {
    "duration": 6,
    "start_time": "2023-05-01T09:08:29.880Z"
   },
   {
    "duration": 13,
    "start_time": "2023-05-01T09:08:31.036Z"
   },
   {
    "duration": 6,
    "start_time": "2023-05-01T09:08:32.219Z"
   },
   {
    "duration": 18,
    "start_time": "2023-05-01T09:08:33.593Z"
   },
   {
    "duration": 52,
    "start_time": "2023-05-01T09:08:33.761Z"
   },
   {
    "duration": 3,
    "start_time": "2023-05-01T09:08:35.127Z"
   },
   {
    "duration": 3436,
    "start_time": "2023-05-01T09:08:35.764Z"
   },
   {
    "duration": 13,
    "start_time": "2023-05-01T09:08:45.530Z"
   },
   {
    "duration": 7,
    "start_time": "2023-05-01T09:08:46.715Z"
   },
   {
    "duration": 12,
    "start_time": "2023-05-01T09:08:47.270Z"
   },
   {
    "duration": 4,
    "start_time": "2023-05-01T09:08:48.475Z"
   },
   {
    "duration": 8,
    "start_time": "2023-05-01T09:08:52.268Z"
   },
   {
    "duration": 11,
    "start_time": "2023-05-01T09:08:53.089Z"
   },
   {
    "duration": 9,
    "start_time": "2023-05-01T09:08:53.929Z"
   },
   {
    "duration": 8,
    "start_time": "2023-05-01T09:08:54.254Z"
   },
   {
    "duration": 29,
    "start_time": "2023-05-01T09:08:54.876Z"
   },
   {
    "duration": 7,
    "start_time": "2023-05-01T09:08:59.409Z"
   },
   {
    "duration": 5,
    "start_time": "2023-05-01T09:09:00.476Z"
   },
   {
    "duration": 385,
    "start_time": "2023-05-01T09:09:01.843Z"
   },
   {
    "duration": 6,
    "start_time": "2023-05-01T09:09:05.607Z"
   },
   {
    "duration": 28,
    "start_time": "2023-05-01T09:09:06.814Z"
   },
   {
    "duration": 6,
    "start_time": "2023-05-01T09:09:09.574Z"
   },
   {
    "duration": 7,
    "start_time": "2023-05-01T09:09:10.504Z"
   },
   {
    "duration": 5824,
    "start_time": "2023-05-01T09:09:13.906Z"
   },
   {
    "duration": 5,
    "start_time": "2023-05-01T09:09:29.449Z"
   },
   {
    "duration": 10,
    "start_time": "2023-05-01T09:09:36.108Z"
   },
   {
    "duration": 518951,
    "start_time": "2023-05-01T09:09:39.071Z"
   },
   {
    "duration": 5,
    "start_time": "2023-05-01T09:18:18.024Z"
   },
   {
    "duration": 10,
    "start_time": "2023-05-01T09:18:18.031Z"
   },
   {
    "duration": 494352,
    "start_time": "2023-05-01T09:18:18.044Z"
   },
   {
    "duration": 10,
    "start_time": "2023-05-01T09:26:32.402Z"
   },
   {
    "duration": 75,
    "start_time": "2023-05-01T09:26:32.416Z"
   },
   {
    "duration": 9,
    "start_time": "2023-05-01T09:26:44.159Z"
   },
   {
    "duration": 10,
    "start_time": "2023-05-01T09:28:25.613Z"
   },
   {
    "duration": 134,
    "start_time": "2023-05-01T09:34:51.384Z"
   },
   {
    "duration": 11,
    "start_time": "2023-05-01T09:35:30.827Z"
   },
   {
    "duration": 130,
    "start_time": "2023-05-01T09:38:20.051Z"
   },
   {
    "duration": 13,
    "start_time": "2023-05-01T09:41:28.387Z"
   },
   {
    "duration": 184,
    "start_time": "2023-05-01T09:41:36.113Z"
   },
   {
    "duration": 4,
    "start_time": "2023-05-01T09:41:58.491Z"
   },
   {
    "duration": 3,
    "start_time": "2023-05-01T09:42:06.573Z"
   },
   {
    "duration": 14,
    "start_time": "2023-05-01T09:42:14.910Z"
   },
   {
    "duration": 12,
    "start_time": "2023-05-01T09:44:00.382Z"
   },
   {
    "duration": 21,
    "start_time": "2023-05-01T09:45:09.078Z"
   },
   {
    "duration": 16,
    "start_time": "2023-05-01T09:45:18.162Z"
   },
   {
    "duration": 26,
    "start_time": "2023-05-01T09:46:10.602Z"
   },
   {
    "duration": 1558,
    "start_time": "2023-05-01T09:46:26.688Z"
   },
   {
    "duration": 1758,
    "start_time": "2023-05-01T09:46:54.784Z"
   },
   {
    "duration": 20,
    "start_time": "2023-05-01T11:49:19.310Z"
   },
   {
    "duration": 13,
    "start_time": "2023-05-01T11:49:27.300Z"
   },
   {
    "duration": 1918,
    "start_time": "2023-05-01T11:57:39.330Z"
   },
   {
    "duration": 1875,
    "start_time": "2023-05-01T11:57:54.708Z"
   },
   {
    "duration": 11,
    "start_time": "2023-05-01T11:58:10.831Z"
   },
   {
    "duration": 18,
    "start_time": "2023-05-01T11:58:39.639Z"
   },
   {
    "duration": 21,
    "start_time": "2023-05-01T12:04:41.783Z"
   },
   {
    "duration": 24,
    "start_time": "2023-05-01T12:05:01.421Z"
   },
   {
    "duration": 77,
    "start_time": "2023-05-01T12:05:12.405Z"
   },
   {
    "duration": 29,
    "start_time": "2023-05-01T12:05:31.653Z"
   },
   {
    "duration": 404,
    "start_time": "2023-05-01T12:06:01.513Z"
   },
   {
    "duration": 577,
    "start_time": "2023-05-01T12:07:24.754Z"
   },
   {
    "duration": 754,
    "start_time": "2023-05-01T12:07:59.259Z"
   },
   {
    "duration": 916,
    "start_time": "2023-05-01T12:08:08.756Z"
   },
   {
    "duration": 455,
    "start_time": "2023-05-01T12:08:45.907Z"
   },
   {
    "duration": 513,
    "start_time": "2023-05-01T12:08:58.610Z"
   },
   {
    "duration": 618,
    "start_time": "2023-05-01T12:09:07.845Z"
   },
   {
    "duration": 574,
    "start_time": "2023-05-01T12:10:23.895Z"
   },
   {
    "duration": 639,
    "start_time": "2023-05-01T12:10:56.349Z"
   },
   {
    "duration": 792,
    "start_time": "2023-05-01T12:11:17.550Z"
   },
   {
    "duration": 642,
    "start_time": "2023-05-01T12:12:38.120Z"
   },
   {
    "duration": 2693,
    "start_time": "2023-05-02T07:10:29.580Z"
   },
   {
    "duration": 187,
    "start_time": "2023-05-02T07:10:32.275Z"
   },
   {
    "duration": 12,
    "start_time": "2023-05-02T07:10:32.464Z"
   },
   {
    "duration": 45,
    "start_time": "2023-05-02T07:10:32.478Z"
   },
   {
    "duration": 38,
    "start_time": "2023-05-02T07:10:32.525Z"
   },
   {
    "duration": 12,
    "start_time": "2023-05-02T07:10:32.564Z"
   },
   {
    "duration": 31,
    "start_time": "2023-05-02T07:10:32.578Z"
   },
   {
    "duration": 3,
    "start_time": "2023-05-02T07:10:33.147Z"
   },
   {
    "duration": 268,
    "start_time": "2023-05-02T07:10:33.314Z"
   },
   {
    "duration": 164,
    "start_time": "2023-05-02T07:10:33.584Z"
   },
   {
    "duration": 10,
    "start_time": "2023-05-02T07:10:33.751Z"
   },
   {
    "duration": 4,
    "start_time": "2023-05-02T07:10:33.913Z"
   },
   {
    "duration": 5,
    "start_time": "2023-05-02T07:10:34.213Z"
   },
   {
    "duration": 5,
    "start_time": "2023-05-02T07:10:34.543Z"
   },
   {
    "duration": 8,
    "start_time": "2023-05-02T07:10:34.911Z"
   },
   {
    "duration": 9,
    "start_time": "2023-05-02T07:10:35.417Z"
   },
   {
    "duration": 10,
    "start_time": "2023-05-02T07:10:35.812Z"
   },
   {
    "duration": 14,
    "start_time": "2023-05-02T07:10:36.048Z"
   },
   {
    "duration": 5,
    "start_time": "2023-05-02T07:10:36.466Z"
   },
   {
    "duration": 110,
    "start_time": "2023-05-02T07:10:36.641Z"
   },
   {
    "duration": 3,
    "start_time": "2023-05-02T07:10:36.976Z"
   },
   {
    "duration": 3728,
    "start_time": "2023-05-02T07:10:37.126Z"
   },
   {
    "duration": 13,
    "start_time": "2023-05-02T07:10:40.856Z"
   },
   {
    "duration": 32,
    "start_time": "2023-05-02T07:10:40.871Z"
   },
   {
    "duration": 25,
    "start_time": "2023-05-02T07:10:40.905Z"
   },
   {
    "duration": 20,
    "start_time": "2023-05-02T07:10:40.932Z"
   },
   {
    "duration": 42,
    "start_time": "2023-05-02T07:10:40.954Z"
   },
   {
    "duration": 26,
    "start_time": "2023-05-02T07:10:40.998Z"
   },
   {
    "duration": 47,
    "start_time": "2023-05-02T07:10:41.026Z"
   },
   {
    "duration": 337,
    "start_time": "2023-05-02T07:10:41.074Z"
   },
   {
    "duration": 3,
    "start_time": "2023-05-02T07:10:41.412Z"
   },
   {
    "duration": 24,
    "start_time": "2023-05-02T07:10:41.416Z"
   },
   {
    "duration": 20,
    "start_time": "2023-05-02T07:10:41.453Z"
   },
   {
    "duration": 8,
    "start_time": "2023-05-02T07:10:41.624Z"
   },
   {
    "duration": 5,
    "start_time": "2023-05-02T07:10:41.916Z"
   },
   {
    "duration": 269,
    "start_time": "2023-05-02T07:10:42.086Z"
   },
   {
    "duration": 15,
    "start_time": "2023-05-02T07:10:42.358Z"
   },
   {
    "duration": 19,
    "start_time": "2023-05-02T07:10:42.580Z"
   },
   {
    "duration": 4,
    "start_time": "2023-05-02T07:10:42.913Z"
   },
   {
    "duration": 12,
    "start_time": "2023-05-02T07:10:43.213Z"
   },
   {
    "duration": 6,
    "start_time": "2023-05-02T07:10:43.539Z"
   },
   {
    "duration": 12,
    "start_time": "2023-05-02T07:10:43.731Z"
   },
   {
    "duration": 35,
    "start_time": "2023-05-02T07:10:43.911Z"
   },
   {
    "duration": 4,
    "start_time": "2023-05-02T07:10:44.236Z"
   },
   {
    "duration": 2912,
    "start_time": "2023-05-02T07:10:44.425Z"
   },
   {
    "duration": 13,
    "start_time": "2023-05-02T07:10:47.339Z"
   },
   {
    "duration": 23,
    "start_time": "2023-05-02T07:10:47.353Z"
   },
   {
    "duration": 36,
    "start_time": "2023-05-02T07:10:47.379Z"
   },
   {
    "duration": 25,
    "start_time": "2023-05-02T07:10:47.417Z"
   },
   {
    "duration": 9,
    "start_time": "2023-05-02T07:10:47.637Z"
   },
   {
    "duration": 9,
    "start_time": "2023-05-02T07:10:47.881Z"
   },
   {
    "duration": 8,
    "start_time": "2023-05-02T07:10:48.027Z"
   },
   {
    "duration": 8,
    "start_time": "2023-05-02T07:10:48.279Z"
   },
   {
    "duration": 22,
    "start_time": "2023-05-02T07:10:48.515Z"
   },
   {
    "duration": 5,
    "start_time": "2023-05-02T07:10:49.034Z"
   },
   {
    "duration": 4,
    "start_time": "2023-05-02T07:10:50.718Z"
   },
   {
    "duration": 263,
    "start_time": "2023-05-02T07:10:51.420Z"
   },
   {
    "duration": 4,
    "start_time": "2023-05-02T07:10:52.714Z"
   },
   {
    "duration": 23,
    "start_time": "2023-05-02T07:10:55.840Z"
   },
   {
    "duration": 5,
    "start_time": "2023-05-02T07:10:57.445Z"
   },
   {
    "duration": 5,
    "start_time": "2023-05-02T07:10:58.017Z"
   },
   {
    "duration": 4496,
    "start_time": "2023-05-02T07:11:01.440Z"
   },
   {
    "duration": 4,
    "start_time": "2023-05-02T07:11:59.019Z"
   }
  ],
  "kernelspec": {
   "display_name": "Python 3 (ipykernel)",
   "language": "python",
   "name": "python3"
  },
  "language_info": {
   "codemirror_mode": {
    "name": "ipython",
    "version": 3
   },
   "file_extension": ".py",
   "mimetype": "text/x-python",
   "name": "python",
   "nbconvert_exporter": "python",
   "pygments_lexer": "ipython3",
   "version": "3.9.12"
  },
  "toc": {
   "base_numbering": 1,
   "nav_menu": {},
   "number_sections": true,
   "sideBar": true,
   "skip_h1_title": true,
   "title_cell": "Table of Contents",
   "title_sidebar": "Contents",
   "toc_cell": false,
   "toc_position": {},
   "toc_section_display": true,
   "toc_window_display": false
  }
 },
 "nbformat": 4,
 "nbformat_minor": 2
}
